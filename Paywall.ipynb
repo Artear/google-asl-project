{
  "nbformat": 4,
  "nbformat_minor": 0,
  "metadata": {
    "colab": {
      "name": "Paywall.ipynb",
      "version": "0.3.2",
      "provenance": [],
      "include_colab_link": true
    },
    "kernelspec": {
      "name": "python3",
      "display_name": "Python 3"
    }
  },
  "cells": [
    {
      "cell_type": "markdown",
      "metadata": {
        "id": "view-in-github",
        "colab_type": "text"
      },
      "source": [
        "<a href=\"https://colab.research.google.com/github/marianoogimenez/google-asl-project/blob/master/Paywall.ipynb\" target=\"_parent\"><img src=\"https://colab.research.google.com/assets/colab-badge.svg\" alt=\"Open In Colab\"/></a>"
      ]
    },
    {
      "metadata": {
        "id": "SPkKC0aOIR3g",
        "colab_type": "code",
        "colab": {}
      },
      "cell_type": "code",
      "source": [
        "import math\n",
        "import shutil\n",
        "import numpy as np\n",
        "import pandas as pd\n",
        "import tensorflow as tf\n",
        "from sklearn.model_selection import train_test_split\n",
        "from sklearn.preprocessing import StandardScaler\n",
        "\n",
        "import tensorflow as tf\n",
        "from google.cloud import bigquery\n",
        "from google.colab import auth"
      ],
      "execution_count": 0,
      "outputs": []
    },
    {
      "metadata": {
        "id": "Y13qOIMJJADX",
        "colab_type": "code",
        "colab": {}
      },
      "cell_type": "code",
      "source": [
        "auth.authenticate_user()"
      ],
      "execution_count": 0,
      "outputs": []
    },
    {
      "metadata": {
        "id": "b1FlQ4CjJVl-",
        "colab_type": "code",
        "outputId": "8243f605-a718-4254-c877-c1a552d8a7f8",
        "colab": {
          "base_uri": "https://localhost:8080/",
          "height": 338
        }
      },
      "cell_type": "code",
      "source": [
        "client = bigquery.Client(project='qwiklabs-gcp-4a684069c4776675')\n",
        "sql=\"\"\"\n",
        "SELECT pase_id,dias_navegacion_x,n_visitas_x,n_disp_x,v_pw_x,q_notas_x,q_homes_x,pv_deportes_x,\n",
        "       pv_espectaculos_x,pv_estilo_x,pv_noticias_x,pv_servicios_x,pv_sudoku_x,pv_sociedad_x,\n",
        "       v_deportes_x,v_espectaculos_x,v_estilo_x,v_noticias_x,v_servicios_x,v_sudoku_x,\n",
        "       v_sociedad_x,pvd_n,a_edad,susc_target,antiguedad_pase,q_visitas_10,q_visitas,\n",
        "       genero_n,CLUSTER_ID,Unnamed,dias_navegacion_y,n_visitas_y,pvd,n_disp_y,v_pw_y,q_notas_y,\n",
        "       q_homes_y,pv_deportes_y,pv_espectaculos_y,pv_estilo_y,pv_noticias_y,pv_servicios_y,pv_sudoku_y,\n",
        "       pv_sociedad_y,v_deportes_y,v_espectaculos_y,v_estilo_y,v_noticias_y,v_servicios_y,v_sudoku_y,v_sociedad_y\n",
        "FROM `qwiklabs-gcp-4a684069c4776675.AGEA_ASL.Paywall` \n",
        "\"\"\"\n",
        "\n",
        "df = client.query(sql).to_dataframe()\n",
        "df.head()"
      ],
      "execution_count": 0,
      "outputs": [
        {
          "output_type": "execute_result",
          "data": {
            "text/html": [
              "<div>\n",
              "<style scoped>\n",
              "    .dataframe tbody tr th:only-of-type {\n",
              "        vertical-align: middle;\n",
              "    }\n",
              "\n",
              "    .dataframe tbody tr th {\n",
              "        vertical-align: top;\n",
              "    }\n",
              "\n",
              "    .dataframe thead th {\n",
              "        text-align: right;\n",
              "    }\n",
              "</style>\n",
              "<table border=\"1\" class=\"dataframe\">\n",
              "  <thead>\n",
              "    <tr style=\"text-align: right;\">\n",
              "      <th></th>\n",
              "      <th>pase_id</th>\n",
              "      <th>dias_navegacion_x</th>\n",
              "      <th>n_visitas_x</th>\n",
              "      <th>n_disp_x</th>\n",
              "      <th>v_pw_x</th>\n",
              "      <th>q_notas_x</th>\n",
              "      <th>q_homes_x</th>\n",
              "      <th>pv_deportes_x</th>\n",
              "      <th>pv_espectaculos_x</th>\n",
              "      <th>pv_estilo_x</th>\n",
              "      <th>...</th>\n",
              "      <th>pv_servicios_y</th>\n",
              "      <th>pv_sudoku_y</th>\n",
              "      <th>pv_sociedad_y</th>\n",
              "      <th>v_deportes_y</th>\n",
              "      <th>v_espectaculos_y</th>\n",
              "      <th>v_estilo_y</th>\n",
              "      <th>v_noticias_y</th>\n",
              "      <th>v_servicios_y</th>\n",
              "      <th>v_sudoku_y</th>\n",
              "      <th>v_sociedad_y</th>\n",
              "    </tr>\n",
              "  </thead>\n",
              "  <tbody>\n",
              "    <tr>\n",
              "      <th>0</th>\n",
              "      <td>3628102</td>\n",
              "      <td>2</td>\n",
              "      <td>1</td>\n",
              "      <td>1</td>\n",
              "      <td>0</td>\n",
              "      <td>0</td>\n",
              "      <td>0</td>\n",
              "      <td>0</td>\n",
              "      <td>0</td>\n",
              "      <td>0</td>\n",
              "      <td>...</td>\n",
              "      <td>2.064900e-35</td>\n",
              "      <td>3.303841e-34</td>\n",
              "      <td>0.0</td>\n",
              "      <td>0.000000</td>\n",
              "      <td>0.0</td>\n",
              "      <td>2.643072e-33</td>\n",
              "      <td>0.000000</td>\n",
              "      <td>-4.129801e-35</td>\n",
              "      <td>6.607681e-34</td>\n",
              "      <td>0.0</td>\n",
              "    </tr>\n",
              "    <tr>\n",
              "      <th>1</th>\n",
              "      <td>6489400</td>\n",
              "      <td>10</td>\n",
              "      <td>1</td>\n",
              "      <td>1</td>\n",
              "      <td>0</td>\n",
              "      <td>0</td>\n",
              "      <td>12</td>\n",
              "      <td>0</td>\n",
              "      <td>0</td>\n",
              "      <td>0</td>\n",
              "      <td>...</td>\n",
              "      <td>2.064900e-35</td>\n",
              "      <td>3.303841e-34</td>\n",
              "      <td>0.0</td>\n",
              "      <td>0.000000</td>\n",
              "      <td>0.0</td>\n",
              "      <td>2.643072e-33</td>\n",
              "      <td>-0.072703</td>\n",
              "      <td>-4.129801e-35</td>\n",
              "      <td>6.607681e-34</td>\n",
              "      <td>0.0</td>\n",
              "    </tr>\n",
              "    <tr>\n",
              "      <th>2</th>\n",
              "      <td>1455866</td>\n",
              "      <td>5</td>\n",
              "      <td>1</td>\n",
              "      <td>1</td>\n",
              "      <td>0</td>\n",
              "      <td>0</td>\n",
              "      <td>0</td>\n",
              "      <td>0</td>\n",
              "      <td>0</td>\n",
              "      <td>0</td>\n",
              "      <td>...</td>\n",
              "      <td>2.064900e-35</td>\n",
              "      <td>-6.251681e-02</td>\n",
              "      <td>0.0</td>\n",
              "      <td>0.000000</td>\n",
              "      <td>0.0</td>\n",
              "      <td>2.643072e-33</td>\n",
              "      <td>0.000000</td>\n",
              "      <td>-4.129801e-35</td>\n",
              "      <td>-3.754676e-01</td>\n",
              "      <td>0.0</td>\n",
              "    </tr>\n",
              "    <tr>\n",
              "      <th>3</th>\n",
              "      <td>4575019</td>\n",
              "      <td>10</td>\n",
              "      <td>1</td>\n",
              "      <td>1</td>\n",
              "      <td>0</td>\n",
              "      <td>0</td>\n",
              "      <td>30</td>\n",
              "      <td>7</td>\n",
              "      <td>0</td>\n",
              "      <td>0</td>\n",
              "      <td>...</td>\n",
              "      <td>2.064900e-35</td>\n",
              "      <td>3.303841e-34</td>\n",
              "      <td>0.0</td>\n",
              "      <td>-0.071660</td>\n",
              "      <td>0.0</td>\n",
              "      <td>-3.775897e-01</td>\n",
              "      <td>-0.218108</td>\n",
              "      <td>-4.129801e-35</td>\n",
              "      <td>6.607681e-34</td>\n",
              "      <td>0.0</td>\n",
              "    </tr>\n",
              "    <tr>\n",
              "      <th>4</th>\n",
              "      <td>3909939</td>\n",
              "      <td>6</td>\n",
              "      <td>1</td>\n",
              "      <td>1</td>\n",
              "      <td>0</td>\n",
              "      <td>0</td>\n",
              "      <td>0</td>\n",
              "      <td>0</td>\n",
              "      <td>0</td>\n",
              "      <td>0</td>\n",
              "      <td>...</td>\n",
              "      <td>2.064900e-35</td>\n",
              "      <td>4.376177e-01</td>\n",
              "      <td>0.0</td>\n",
              "      <td>-0.143319</td>\n",
              "      <td>0.0</td>\n",
              "      <td>2.643072e-33</td>\n",
              "      <td>0.000000</td>\n",
              "      <td>-4.129801e-35</td>\n",
              "      <td>0.000000e+00</td>\n",
              "      <td>0.0</td>\n",
              "    </tr>\n",
              "  </tbody>\n",
              "</table>\n",
              "<p>5 rows × 51 columns</p>\n",
              "</div>"
            ],
            "text/plain": [
              "   pase_id  dias_navegacion_x  n_visitas_x  n_disp_x  v_pw_x  q_notas_x  \\\n",
              "0  3628102                  2            1         1       0          0   \n",
              "1  6489400                 10            1         1       0          0   \n",
              "2  1455866                  5            1         1       0          0   \n",
              "3  4575019                 10            1         1       0          0   \n",
              "4  3909939                  6            1         1       0          0   \n",
              "\n",
              "   q_homes_x  pv_deportes_x  pv_espectaculos_x  pv_estilo_x      ...       \\\n",
              "0          0              0                  0            0      ...        \n",
              "1         12              0                  0            0      ...        \n",
              "2          0              0                  0            0      ...        \n",
              "3         30              7                  0            0      ...        \n",
              "4          0              0                  0            0      ...        \n",
              "\n",
              "   pv_servicios_y   pv_sudoku_y  pv_sociedad_y  v_deportes_y  \\\n",
              "0    2.064900e-35  3.303841e-34            0.0      0.000000   \n",
              "1    2.064900e-35  3.303841e-34            0.0      0.000000   \n",
              "2    2.064900e-35 -6.251681e-02            0.0      0.000000   \n",
              "3    2.064900e-35  3.303841e-34            0.0     -0.071660   \n",
              "4    2.064900e-35  4.376177e-01            0.0     -0.143319   \n",
              "\n",
              "   v_espectaculos_y    v_estilo_y  v_noticias_y  v_servicios_y    v_sudoku_y  \\\n",
              "0               0.0  2.643072e-33      0.000000  -4.129801e-35  6.607681e-34   \n",
              "1               0.0  2.643072e-33     -0.072703  -4.129801e-35  6.607681e-34   \n",
              "2               0.0  2.643072e-33      0.000000  -4.129801e-35 -3.754676e-01   \n",
              "3               0.0 -3.775897e-01     -0.218108  -4.129801e-35  6.607681e-34   \n",
              "4               0.0  2.643072e-33      0.000000  -4.129801e-35  0.000000e+00   \n",
              "\n",
              "   v_sociedad_y  \n",
              "0           0.0  \n",
              "1           0.0  \n",
              "2           0.0  \n",
              "3           0.0  \n",
              "4           0.0  \n",
              "\n",
              "[5 rows x 51 columns]"
            ]
          },
          "metadata": {
            "tags": []
          },
          "execution_count": 8
        }
      ]
    },
    {
      "metadata": {
        "id": "doDQiJ1wMnjh",
        "colab_type": "code",
        "outputId": "f7be5760-195c-46a2-d7c1-63324fcd4d70",
        "colab": {
          "base_uri": "https://localhost:8080/",
          "height": 221
        }
      },
      "cell_type": "code",
      "source": [
        "df.columns"
      ],
      "execution_count": 0,
      "outputs": [
        {
          "output_type": "execute_result",
          "data": {
            "text/plain": [
              "Index(['dias_navegacion_x', 'n_disp_x', 'v_pw_x', 'q_notas_x', 'q_homes_x',\n",
              "       'pv_deportes_x', 'pv_espectaculos_x', 'pv_estilo_x', 'pv_noticias_x',\n",
              "       'pv_servicios_x', 'pv_sudoku_x', 'pv_sociedad_x', 'v_deportes_x',\n",
              "       'v_espectaculos_x', 'v_estilo_x', 'v_noticias_x', 'v_servicios_x',\n",
              "       'v_sudoku_x', 'v_sociedad_x', 'a_edad', 'susc_target',\n",
              "       'antiguedad_pase', 'q_visitas_10', 'q_visitas', 'genero_n',\n",
              "       'CLUSTER_ID', 'dias_navegacion_y', 'pvd', 'n_disp_y', 'v_pw_y',\n",
              "       'q_notas_y', 'q_homes_y', 'pv_deportes_y', 'pv_espectaculos_y',\n",
              "       'pv_estilo_y', 'pv_noticias_y', 'pv_servicios_y', 'pv_sudoku_y',\n",
              "       'pv_sociedad_y', 'v_deportes_y', 'v_espectaculos_y', 'v_estilo_y',\n",
              "       'v_noticias_y', 'v_servicios_y', 'v_sudoku_y', 'v_sociedad_y'],\n",
              "      dtype='object')"
            ]
          },
          "metadata": {
            "tags": []
          },
          "execution_count": 19
        }
      ]
    },
    {
      "metadata": {
        "id": "Htun1cKSMxLp",
        "colab_type": "code",
        "colab": {}
      },
      "cell_type": "code",
      "source": [
        "df = df.drop([\"pase_id\",\"pvd_n\",\"n_visitas_x\",\"n_visitas_y\",'Unnamed\"],axis = 1)\n"
      ],
      "execution_count": 0,
      "outputs": []
    },
    {
      "metadata": {
        "id": "LNsxrwENOU7c",
        "colab_type": "code",
        "colab": {}
      },
      "cell_type": "code",
      "source": [
        ""
      ],
      "execution_count": 0,
      "outputs": []
    }
  ]
}