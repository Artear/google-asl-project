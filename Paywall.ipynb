{
  "nbformat": 4,
  "nbformat_minor": 0,
  "metadata": {
    "colab": {
      "name": "Paywall.ipynb",
      "version": "0.3.2",
      "provenance": [],
      "include_colab_link": true
    },
    "kernelspec": {
      "name": "python3",
      "display_name": "Python 3"
    }
  },
  "cells": [
    {
      "cell_type": "markdown",
      "metadata": {
        "id": "view-in-github",
        "colab_type": "text"
      },
      "source": [
        "<a href=\"https://colab.research.google.com/github/marianoogimenez/google-asl-project/blob/master/Paywall.ipynb\" target=\"_parent\"><img src=\"https://colab.research.google.com/assets/colab-badge.svg\" alt=\"Open In Colab\"/></a>"
      ]
    },
    {
      "metadata": {
        "id": "SPkKC0aOIR3g",
        "colab_type": "code",
        "colab": {}
      },
      "cell_type": "code",
      "source": [
        "import math\n",
        "import shutil\n",
        "import numpy as np\n",
        "import pandas as pd\n",
        "import tensorflow as tf\n",
        "from sklearn.model_selection import train_test_split\n",
        "from sklearn.preprocessing import StandardScaler\n",
        "\n",
        "import tensorflow as tf\n",
        "from google.cloud import bigquery\n",
        "from google.colab import auth"
      ],
      "execution_count": 0,
      "outputs": []
    },
    {
      "metadata": {
        "id": "Y13qOIMJJADX",
        "colab_type": "code",
        "colab": {}
      },
      "cell_type": "code",
      "source": [
        "auth.authenticate_user()"
      ],
      "execution_count": 0,
      "outputs": []
    },
    {
      "metadata": {
        "id": "b1FlQ4CjJVl-",
        "colab_type": "code",
        "outputId": "e7624234-491e-4841-e8ba-80ce6f8c5f11",
        "colab": {
          "base_uri": "https://localhost:8080/",
          "height": 338
        }
      },
      "cell_type": "code",
      "source": [
        "client = bigquery.Client(project='qwiklabs-gcp-4a684069c4776675')\n",
        "sql=\"\"\"\n",
        "SELECT pase_id,dias_navegacion_x,n_visitas_x,n_disp_x,v_pw_x,q_notas_x,q_homes_x,pv_deportes_x,\n",
        "       pv_espectaculos_x,pv_estilo_x,pv_noticias_x,pv_servicios_x,pv_sudoku_x,pv_sociedad_x,\n",
        "       v_deportes_x,v_espectaculos_x,v_estilo_x,v_noticias_x,v_servicios_x,v_sudoku_x,\n",
        "       v_sociedad_x,pvd_n,a_edad,susc_target,antiguedad_pase,q_visitas_10,q_visitas,\n",
        "       genero_n,CLUSTER_ID,Unnamed,dias_navegacion_y,n_visitas_y,pvd,n_disp_y,v_pw_y,q_notas_y,\n",
        "       q_homes_y,pv_deportes_y,pv_espectaculos_y,pv_estilo_y,pv_noticias_y,pv_servicios_y,pv_sudoku_y,\n",
        "       pv_sociedad_y,v_deportes_y,v_espectaculos_y,v_estilo_y,v_noticias_y,v_servicios_y,v_sudoku_y,v_sociedad_y\n",
        "FROM `qwiklabs-gcp-4a684069c4776675.AGEA_ASL.Paywall` \n",
        "\"\"\"\n",
        "\n",
        "df = client.query(sql).to_dataframe()\n",
        "df.head()"
      ],
      "execution_count": 5,
      "outputs": [
        {
          "output_type": "execute_result",
          "data": {
            "text/html": [
              "<div>\n",
              "<style scoped>\n",
              "    .dataframe tbody tr th:only-of-type {\n",
              "        vertical-align: middle;\n",
              "    }\n",
              "\n",
              "    .dataframe tbody tr th {\n",
              "        vertical-align: top;\n",
              "    }\n",
              "\n",
              "    .dataframe thead th {\n",
              "        text-align: right;\n",
              "    }\n",
              "</style>\n",
              "<table border=\"1\" class=\"dataframe\">\n",
              "  <thead>\n",
              "    <tr style=\"text-align: right;\">\n",
              "      <th></th>\n",
              "      <th>pase_id</th>\n",
              "      <th>dias_navegacion_x</th>\n",
              "      <th>n_visitas_x</th>\n",
              "      <th>n_disp_x</th>\n",
              "      <th>v_pw_x</th>\n",
              "      <th>q_notas_x</th>\n",
              "      <th>q_homes_x</th>\n",
              "      <th>pv_deportes_x</th>\n",
              "      <th>pv_espectaculos_x</th>\n",
              "      <th>pv_estilo_x</th>\n",
              "      <th>...</th>\n",
              "      <th>pv_servicios_y</th>\n",
              "      <th>pv_sudoku_y</th>\n",
              "      <th>pv_sociedad_y</th>\n",
              "      <th>v_deportes_y</th>\n",
              "      <th>v_espectaculos_y</th>\n",
              "      <th>v_estilo_y</th>\n",
              "      <th>v_noticias_y</th>\n",
              "      <th>v_servicios_y</th>\n",
              "      <th>v_sudoku_y</th>\n",
              "      <th>v_sociedad_y</th>\n",
              "    </tr>\n",
              "  </thead>\n",
              "  <tbody>\n",
              "    <tr>\n",
              "      <th>0</th>\n",
              "      <td>3628102</td>\n",
              "      <td>2</td>\n",
              "      <td>1</td>\n",
              "      <td>1</td>\n",
              "      <td>0</td>\n",
              "      <td>0</td>\n",
              "      <td>0</td>\n",
              "      <td>0</td>\n",
              "      <td>0</td>\n",
              "      <td>0</td>\n",
              "      <td>...</td>\n",
              "      <td>2.064900e-35</td>\n",
              "      <td>3.303841e-34</td>\n",
              "      <td>0.0</td>\n",
              "      <td>0.000000</td>\n",
              "      <td>0.0</td>\n",
              "      <td>2.643072e-33</td>\n",
              "      <td>0.000000</td>\n",
              "      <td>-4.129801e-35</td>\n",
              "      <td>6.607681e-34</td>\n",
              "      <td>0.0</td>\n",
              "    </tr>\n",
              "    <tr>\n",
              "      <th>1</th>\n",
              "      <td>6489400</td>\n",
              "      <td>10</td>\n",
              "      <td>1</td>\n",
              "      <td>1</td>\n",
              "      <td>0</td>\n",
              "      <td>0</td>\n",
              "      <td>12</td>\n",
              "      <td>0</td>\n",
              "      <td>0</td>\n",
              "      <td>0</td>\n",
              "      <td>...</td>\n",
              "      <td>2.064900e-35</td>\n",
              "      <td>3.303841e-34</td>\n",
              "      <td>0.0</td>\n",
              "      <td>0.000000</td>\n",
              "      <td>0.0</td>\n",
              "      <td>2.643072e-33</td>\n",
              "      <td>-0.072703</td>\n",
              "      <td>-4.129801e-35</td>\n",
              "      <td>6.607681e-34</td>\n",
              "      <td>0.0</td>\n",
              "    </tr>\n",
              "    <tr>\n",
              "      <th>2</th>\n",
              "      <td>1455866</td>\n",
              "      <td>5</td>\n",
              "      <td>1</td>\n",
              "      <td>1</td>\n",
              "      <td>0</td>\n",
              "      <td>0</td>\n",
              "      <td>0</td>\n",
              "      <td>0</td>\n",
              "      <td>0</td>\n",
              "      <td>0</td>\n",
              "      <td>...</td>\n",
              "      <td>2.064900e-35</td>\n",
              "      <td>-6.251681e-02</td>\n",
              "      <td>0.0</td>\n",
              "      <td>0.000000</td>\n",
              "      <td>0.0</td>\n",
              "      <td>2.643072e-33</td>\n",
              "      <td>0.000000</td>\n",
              "      <td>-4.129801e-35</td>\n",
              "      <td>-3.754676e-01</td>\n",
              "      <td>0.0</td>\n",
              "    </tr>\n",
              "    <tr>\n",
              "      <th>3</th>\n",
              "      <td>4575019</td>\n",
              "      <td>10</td>\n",
              "      <td>1</td>\n",
              "      <td>1</td>\n",
              "      <td>0</td>\n",
              "      <td>0</td>\n",
              "      <td>30</td>\n",
              "      <td>7</td>\n",
              "      <td>0</td>\n",
              "      <td>0</td>\n",
              "      <td>...</td>\n",
              "      <td>2.064900e-35</td>\n",
              "      <td>3.303841e-34</td>\n",
              "      <td>0.0</td>\n",
              "      <td>-0.071660</td>\n",
              "      <td>0.0</td>\n",
              "      <td>-3.775897e-01</td>\n",
              "      <td>-0.218108</td>\n",
              "      <td>-4.129801e-35</td>\n",
              "      <td>6.607681e-34</td>\n",
              "      <td>0.0</td>\n",
              "    </tr>\n",
              "    <tr>\n",
              "      <th>4</th>\n",
              "      <td>3909939</td>\n",
              "      <td>6</td>\n",
              "      <td>1</td>\n",
              "      <td>1</td>\n",
              "      <td>0</td>\n",
              "      <td>0</td>\n",
              "      <td>0</td>\n",
              "      <td>0</td>\n",
              "      <td>0</td>\n",
              "      <td>0</td>\n",
              "      <td>...</td>\n",
              "      <td>2.064900e-35</td>\n",
              "      <td>4.376177e-01</td>\n",
              "      <td>0.0</td>\n",
              "      <td>-0.143319</td>\n",
              "      <td>0.0</td>\n",
              "      <td>2.643072e-33</td>\n",
              "      <td>0.000000</td>\n",
              "      <td>-4.129801e-35</td>\n",
              "      <td>0.000000e+00</td>\n",
              "      <td>0.0</td>\n",
              "    </tr>\n",
              "  </tbody>\n",
              "</table>\n",
              "<p>5 rows × 51 columns</p>\n",
              "</div>"
            ],
            "text/plain": [
              "   pase_id  dias_navegacion_x  n_visitas_x  n_disp_x  v_pw_x  q_notas_x  \\\n",
              "0  3628102                  2            1         1       0          0   \n",
              "1  6489400                 10            1         1       0          0   \n",
              "2  1455866                  5            1         1       0          0   \n",
              "3  4575019                 10            1         1       0          0   \n",
              "4  3909939                  6            1         1       0          0   \n",
              "\n",
              "   q_homes_x  pv_deportes_x  pv_espectaculos_x  pv_estilo_x      ...       \\\n",
              "0          0              0                  0            0      ...        \n",
              "1         12              0                  0            0      ...        \n",
              "2          0              0                  0            0      ...        \n",
              "3         30              7                  0            0      ...        \n",
              "4          0              0                  0            0      ...        \n",
              "\n",
              "   pv_servicios_y   pv_sudoku_y  pv_sociedad_y  v_deportes_y  \\\n",
              "0    2.064900e-35  3.303841e-34            0.0      0.000000   \n",
              "1    2.064900e-35  3.303841e-34            0.0      0.000000   \n",
              "2    2.064900e-35 -6.251681e-02            0.0      0.000000   \n",
              "3    2.064900e-35  3.303841e-34            0.0     -0.071660   \n",
              "4    2.064900e-35  4.376177e-01            0.0     -0.143319   \n",
              "\n",
              "   v_espectaculos_y    v_estilo_y  v_noticias_y  v_servicios_y    v_sudoku_y  \\\n",
              "0               0.0  2.643072e-33      0.000000  -4.129801e-35  6.607681e-34   \n",
              "1               0.0  2.643072e-33     -0.072703  -4.129801e-35  6.607681e-34   \n",
              "2               0.0  2.643072e-33      0.000000  -4.129801e-35 -3.754676e-01   \n",
              "3               0.0 -3.775897e-01     -0.218108  -4.129801e-35  6.607681e-34   \n",
              "4               0.0  2.643072e-33      0.000000  -4.129801e-35  0.000000e+00   \n",
              "\n",
              "   v_sociedad_y  \n",
              "0           0.0  \n",
              "1           0.0  \n",
              "2           0.0  \n",
              "3           0.0  \n",
              "4           0.0  \n",
              "\n",
              "[5 rows x 51 columns]"
            ]
          },
          "metadata": {
            "tags": []
          },
          "execution_count": 5
        }
      ]
    },
    {
      "metadata": {
        "id": "n75PerP7PXpP",
        "colab_type": "code",
        "colab": {
          "base_uri": "https://localhost:8080/",
          "height": 238
        },
        "outputId": "7f5e7610-a83c-4820-8e79-ff70ba7c76be"
      },
      "cell_type": "code",
      "source": [
        "df.columns"
      ],
      "execution_count": 6,
      "outputs": [
        {
          "output_type": "execute_result",
          "data": {
            "text/plain": [
              "Index(['pase_id', 'dias_navegacion_x', 'n_visitas_x', 'n_disp_x', 'v_pw_x',\n",
              "       'q_notas_x', 'q_homes_x', 'pv_deportes_x', 'pv_espectaculos_x',\n",
              "       'pv_estilo_x', 'pv_noticias_x', 'pv_servicios_x', 'pv_sudoku_x',\n",
              "       'pv_sociedad_x', 'v_deportes_x', 'v_espectaculos_x', 'v_estilo_x',\n",
              "       'v_noticias_x', 'v_servicios_x', 'v_sudoku_x', 'v_sociedad_x', 'pvd_n',\n",
              "       'a_edad', 'susc_target', 'antiguedad_pase', 'q_visitas_10', 'q_visitas',\n",
              "       'genero_n', 'CLUSTER_ID', 'Unnamed', 'dias_navegacion_y', 'n_visitas_y',\n",
              "       'pvd', 'n_disp_y', 'v_pw_y', 'q_notas_y', 'q_homes_y', 'pv_deportes_y',\n",
              "       'pv_espectaculos_y', 'pv_estilo_y', 'pv_noticias_y', 'pv_servicios_y',\n",
              "       'pv_sudoku_y', 'pv_sociedad_y', 'v_deportes_y', 'v_espectaculos_y',\n",
              "       'v_estilo_y', 'v_noticias_y', 'v_servicios_y', 'v_sudoku_y',\n",
              "       'v_sociedad_y'],\n",
              "      dtype='object')"
            ]
          },
          "metadata": {
            "tags": []
          },
          "execution_count": 6
        }
      ]
    },
    {
      "metadata": {
        "id": "Htun1cKSMxLp",
        "colab_type": "code",
        "colab": {}
      },
      "cell_type": "code",
      "source": [
        "df = df.drop(['pase_id','pvd_n','n_visitas_x','n_visitas_y','Unnamed'], 1)"
      ],
      "execution_count": 0,
      "outputs": []
    },
    {
      "metadata": {
        "id": "ryl6Ag3wRIog",
        "colab_type": "code",
        "colab": {
          "base_uri": "https://localhost:8080/",
          "height": 221
        },
        "outputId": "1e0814e5-2e6b-4aef-dc8e-61451004f810"
      },
      "cell_type": "code",
      "source": [
        "df.columns"
      ],
      "execution_count": 21,
      "outputs": [
        {
          "output_type": "execute_result",
          "data": {
            "text/plain": [
              "Index(['dias_navegacion_x', 'n_disp_x', 'v_pw_x', 'q_notas_x', 'q_homes_x',\n",
              "       'pv_deportes_x', 'pv_espectaculos_x', 'pv_estilo_x', 'pv_noticias_x',\n",
              "       'pv_servicios_x', 'pv_sudoku_x', 'pv_sociedad_x', 'v_deportes_x',\n",
              "       'v_espectaculos_x', 'v_estilo_x', 'v_noticias_x', 'v_servicios_x',\n",
              "       'v_sudoku_x', 'v_sociedad_x', 'a_edad', 'susc_target',\n",
              "       'antiguedad_pase', 'q_visitas_10', 'q_visitas', 'genero_n',\n",
              "       'CLUSTER_ID', 'dias_navegacion_y', 'pvd', 'n_disp_y', 'v_pw_y',\n",
              "       'q_notas_y', 'q_homes_y', 'pv_deportes_y', 'pv_espectaculos_y',\n",
              "       'pv_estilo_y', 'pv_noticias_y', 'pv_servicios_y', 'pv_sudoku_y',\n",
              "       'pv_sociedad_y', 'v_deportes_y', 'v_espectaculos_y', 'v_estilo_y',\n",
              "       'v_noticias_y', 'v_servicios_y', 'v_sudoku_y', 'v_sociedad_y'],\n",
              "      dtype='object')"
            ]
          },
          "metadata": {
            "tags": []
          },
          "execution_count": 21
        }
      ]
    },
    {
      "metadata": {
        "id": "LNsxrwENOU7c",
        "colab_type": "code",
        "colab": {}
      },
      "cell_type": "code",
      "source": [
        "features = list(df.columns)\n",
        "label = 'susc_target'\n",
        "features.remove(label)"
      ],
      "execution_count": 0,
      "outputs": []
    },
    {
      "metadata": {
        "id": "ApdYZOlmR4Dk",
        "colab_type": "text"
      },
      "cell_type": "markdown",
      "source": [
        "**DATASET**"
      ]
    },
    {
      "metadata": {
        "id": "aOl73vVPR1fs",
        "colab_type": "code",
        "colab": {}
      },
      "cell_type": "code",
      "source": [
        "traindf, evaldf = train_test_split(df, test_size=0.4,random_state=123)\n",
        "columns = traindf.columns\n",
        "\n",
        "evaldf, testdf = train_test_split(traindf, test_size=0.5,random_state=123)"
      ],
      "execution_count": 0,
      "outputs": []
    },
    {
      "metadata": {
        "id": "VYupPh8lSVh7",
        "colab_type": "code",
        "colab": {}
      },
      "cell_type": "code",
      "source": [
        "def escalar(x,escalador,nom_clase):\n",
        "    temp = x.copy()\n",
        "    temp = temp.reset_index(drop=True)\n",
        "    clase = temp[nom_clase]\n",
        "    columnas = temp.columns\n",
        "    temp = pd.DataFrame(escalador.transform(temp))\n",
        "    temp.columns = columnas\n",
        "    temp = temp.drop(nom_clase,1)\n",
        "    temp = pd.concat([temp,clase],1)\n",
        "    return temp    "
      ],
      "execution_count": 0,
      "outputs": []
    },
    {
      "metadata": {
        "id": "W9JKAD9TSqW3",
        "colab_type": "code",
        "colab": {
          "base_uri": "https://localhost:8080/",
          "height": 173
        },
        "outputId": "f4b5332b-dcc9-4aae-c701-6a902c7d5878"
      },
      "cell_type": "code",
      "source": [
        "escalador = StandardScaler()\n",
        "escalador.fit(traindf)\n",
        "traindf = escalar(traindf,escalador,'susc_target')\n",
        "evaldf = escalar(evaldf,escalador,'susc_target')\n",
        "testdf = escalar(testdf,escalador,'susc_target')"
      ],
      "execution_count": 29,
      "outputs": [
        {
          "output_type": "stream",
          "text": [
            "/usr/local/lib/python3.6/dist-packages/sklearn/preprocessing/data.py:625: DataConversionWarning: Data with input dtype int64, float64 were all converted to float64 by StandardScaler.\n",
            "  return self.partial_fit(X, y)\n",
            "/usr/local/lib/python3.6/dist-packages/ipykernel_launcher.py:6: DataConversionWarning: Data with input dtype int64, float64 were all converted to float64 by StandardScaler.\n",
            "  \n",
            "/usr/local/lib/python3.6/dist-packages/ipykernel_launcher.py:6: DataConversionWarning: Data with input dtype int64, float64 were all converted to float64 by StandardScaler.\n",
            "  \n",
            "/usr/local/lib/python3.6/dist-packages/ipykernel_launcher.py:6: DataConversionWarning: Data with input dtype int64, float64 were all converted to float64 by StandardScaler.\n",
            "  \n"
          ],
          "name": "stderr"
        }
      ]
    },
    {
      "metadata": {
        "id": "hW7V8QUKS8Wy",
        "colab_type": "text"
      },
      "cell_type": "markdown",
      "source": [
        "**NET**"
      ]
    },
    {
      "metadata": {
        "id": "lYChcYBzS4zZ",
        "colab_type": "code",
        "colab": {}
      },
      "cell_type": "code",
      "source": [
        "def make_feature_cols():\n",
        "    input_columns = [tf.feature_column.numeric_column(k) for k in features]\n",
        "    return input_columns"
      ],
      "execution_count": 0,
      "outputs": []
    },
    {
      "metadata": {
        "id": "NcighIIATDqD",
        "colab_type": "code",
        "colab": {
          "base_uri": "https://localhost:8080/",
          "height": 173
        },
        "outputId": "a410e0fd-9598-47e6-a566-88f8e8ce5a1c"
      },
      "cell_type": "code",
      "source": [
        "OUTDIR = './prueba'\n",
        "shutil.rmtree(OUTDIR, ignore_errors = True) # start fresh each time\n",
        "\n",
        "#optimizador =tf.train.ProximalAdagradOptimizer(\n",
        "#                        learning_rate=0.1,\n",
        "#                        l2_regularization_strength=0.001)\n",
        "\n",
        "optimizador = tf.train.FtrlOptimizer(learning_rate = 0.01)\n",
        "model = tf.estimator.DNNClassifier(feature_columns = make_feature_cols(), \n",
        "                                   model_dir = OUTDIR, \n",
        "                                   hidden_units=[10, 10], \n",
        "                                   optimizer = optimizador,\n",
        "                                   activation_fn = None,\n",
        "                                   weight_column=None#,   ### esto es para pesar\n",
        "                                   #dropout=0.2\n",
        "                                  ) "
      ],
      "execution_count": 31,
      "outputs": [
        {
          "output_type": "stream",
          "text": [
            "INFO:tensorflow:Using default config.\n",
            "INFO:tensorflow:Using config: {'_model_dir': './prueba', '_tf_random_seed': None, '_save_summary_steps': 100, '_save_checkpoints_steps': None, '_save_checkpoints_secs': 600, '_session_config': allow_soft_placement: true\n",
            "graph_options {\n",
            "  rewrite_options {\n",
            "    meta_optimizer_iterations: ONE\n",
            "  }\n",
            "}\n",
            ", '_keep_checkpoint_max': 5, '_keep_checkpoint_every_n_hours': 10000, '_log_step_count_steps': 100, '_train_distribute': None, '_device_fn': None, '_protocol': None, '_eval_distribute': None, '_experimental_distribute': None, '_service': None, '_cluster_spec': <tensorflow.python.training.server_lib.ClusterSpec object at 0x7f634cdd8550>, '_task_type': 'worker', '_task_id': 0, '_global_id_in_cluster': 0, '_master': '', '_evaluation_master': '', '_is_chief': True, '_num_ps_replicas': 0, '_num_worker_replicas': 1}\n"
          ],
          "name": "stdout"
        }
      ]
    },
    {
      "metadata": {
        "id": "spObiOuVTDyi",
        "colab_type": "code",
        "colab": {}
      },
      "cell_type": "code",
      "source": [
        "def make_input_fn(df, num_epochs):\n",
        "    return tf.estimator.inputs.pandas_input_fn(\n",
        "        x = df,\n",
        "        y = df[label],\n",
        "        num_epochs = num_epochs,\n",
        "        shuffle = True,\n",
        "        num_threads = 1\n",
        "  )"
      ],
      "execution_count": 0,
      "outputs": []
    },
    {
      "metadata": {
        "id": "8dnrP0c3TD09",
        "colab_type": "code",
        "colab": {}
      },
      "cell_type": "code",
      "source": [
        "### REBALANCEO DE CLASE\n",
        "traindf = pd.concat([traindf[traindf[\"susc_target\"]==0].sample(1000),traindf[traindf[\"susc_target\"]==1].sample(1000,replace=True)],axis=0)"
      ],
      "execution_count": 0,
      "outputs": []
    },
    {
      "metadata": {
        "id": "fFqXc1EwTD6A",
        "colab_type": "code",
        "colab": {
          "base_uri": "https://localhost:8080/",
          "height": 1125
        },
        "outputId": "2d641049-5c24-4d34-f408-dc8948b7c10f"
      },
      "cell_type": "code",
      "source": [
        "model.train(input_fn = make_input_fn(traindf, num_epochs =3000),max_steps=2000)"
      ],
      "execution_count": 36,
      "outputs": [
        {
          "output_type": "stream",
          "text": [
            "WARNING:tensorflow:From /usr/local/lib/python3.6/dist-packages/tensorflow/python/framework/op_def_library.py:263: colocate_with (from tensorflow.python.framework.ops) is deprecated and will be removed in a future version.\n",
            "Instructions for updating:\n",
            "Colocations handled automatically by placer.\n",
            "WARNING:tensorflow:From /usr/local/lib/python3.6/dist-packages/tensorflow_estimator/python/estimator/inputs/queues/feeding_queue_runner.py:62: QueueRunner.__init__ (from tensorflow.python.training.queue_runner_impl) is deprecated and will be removed in a future version.\n",
            "Instructions for updating:\n",
            "To construct input pipelines, use the `tf.data` module.\n",
            "WARNING:tensorflow:From /usr/local/lib/python3.6/dist-packages/tensorflow_estimator/python/estimator/inputs/queues/feeding_functions.py:500: add_queue_runner (from tensorflow.python.training.queue_runner_impl) is deprecated and will be removed in a future version.\n",
            "Instructions for updating:\n",
            "To construct input pipelines, use the `tf.data` module.\n",
            "INFO:tensorflow:Calling model_fn.\n",
            "WARNING:tensorflow:From /usr/local/lib/python3.6/dist-packages/tensorflow/python/feature_column/feature_column_v2.py:2703: to_float (from tensorflow.python.ops.math_ops) is deprecated and will be removed in a future version.\n",
            "Instructions for updating:\n",
            "Use tf.cast instead.\n",
            "INFO:tensorflow:Done calling model_fn.\n",
            "INFO:tensorflow:Create CheckpointSaverHook.\n",
            "INFO:tensorflow:Graph was finalized.\n",
            "INFO:tensorflow:Running local_init_op.\n",
            "INFO:tensorflow:Done running local_init_op.\n",
            "WARNING:tensorflow:From /usr/local/lib/python3.6/dist-packages/tensorflow/python/training/monitored_session.py:809: start_queue_runners (from tensorflow.python.training.queue_runner_impl) is deprecated and will be removed in a future version.\n",
            "Instructions for updating:\n",
            "To construct input pipelines, use the `tf.data` module.\n",
            "INFO:tensorflow:Saving checkpoints for 0 into ./prueba/model.ckpt.\n",
            "INFO:tensorflow:loss = 97.706276, step = 1\n",
            "INFO:tensorflow:global_step/sec: 82.3164\n",
            "INFO:tensorflow:loss = 76.18378, step = 101 (1.216 sec)\n",
            "INFO:tensorflow:global_step/sec: 116.908\n",
            "INFO:tensorflow:loss = 76.57099, step = 201 (0.855 sec)\n",
            "INFO:tensorflow:global_step/sec: 109.337\n",
            "INFO:tensorflow:loss = 91.46913, step = 301 (0.919 sec)\n",
            "INFO:tensorflow:global_step/sec: 112.326\n",
            "INFO:tensorflow:loss = 75.452576, step = 401 (0.887 sec)\n",
            "INFO:tensorflow:global_step/sec: 125.515\n",
            "INFO:tensorflow:loss = 78.743225, step = 501 (0.798 sec)\n",
            "INFO:tensorflow:global_step/sec: 129.409\n",
            "INFO:tensorflow:loss = 73.61976, step = 601 (0.770 sec)\n",
            "INFO:tensorflow:global_step/sec: 130.449\n",
            "INFO:tensorflow:loss = 72.89525, step = 701 (0.771 sec)\n",
            "INFO:tensorflow:global_step/sec: 129.692\n",
            "INFO:tensorflow:loss = 78.971275, step = 801 (0.768 sec)\n",
            "INFO:tensorflow:global_step/sec: 124.606\n",
            "INFO:tensorflow:loss = 75.37628, step = 901 (0.806 sec)\n",
            "INFO:tensorflow:global_step/sec: 126.271\n",
            "INFO:tensorflow:loss = 80.3317, step = 1001 (0.799 sec)\n",
            "INFO:tensorflow:global_step/sec: 123.107\n",
            "INFO:tensorflow:loss = 74.37215, step = 1101 (0.810 sec)\n",
            "INFO:tensorflow:global_step/sec: 117.51\n",
            "INFO:tensorflow:loss = 72.28726, step = 1201 (0.847 sec)\n",
            "INFO:tensorflow:global_step/sec: 119.755\n",
            "INFO:tensorflow:loss = 78.71498, step = 1301 (0.832 sec)\n",
            "INFO:tensorflow:global_step/sec: 109.494\n",
            "INFO:tensorflow:loss = 80.870026, step = 1401 (0.910 sec)\n",
            "INFO:tensorflow:global_step/sec: 108.301\n",
            "INFO:tensorflow:loss = 64.43361, step = 1501 (0.930 sec)\n",
            "INFO:tensorflow:global_step/sec: 108.879\n",
            "INFO:tensorflow:loss = 75.09808, step = 1601 (0.914 sec)\n",
            "INFO:tensorflow:global_step/sec: 109.911\n",
            "INFO:tensorflow:loss = 71.40929, step = 1701 (0.908 sec)\n",
            "INFO:tensorflow:global_step/sec: 109.776\n",
            "INFO:tensorflow:loss = 71.10919, step = 1801 (0.911 sec)\n",
            "INFO:tensorflow:global_step/sec: 110.765\n",
            "INFO:tensorflow:loss = 82.478226, step = 1901 (0.910 sec)\n",
            "INFO:tensorflow:Saving checkpoints for 2000 into ./prueba/model.ckpt.\n",
            "INFO:tensorflow:Loss for final step: 71.98523.\n"
          ],
          "name": "stdout"
        },
        {
          "output_type": "execute_result",
          "data": {
            "text/plain": [
              "<tensorflow_estimator.python.estimator.canned.dnn.DNNClassifier at 0x7f634cdd84a8>"
            ]
          },
          "metadata": {
            "tags": []
          },
          "execution_count": 36
        }
      ]
    },
    {
      "metadata": {
        "id": "LSNocFCaTD_U",
        "colab_type": "code",
        "colab": {
          "base_uri": "https://localhost:8080/",
          "height": 343
        },
        "outputId": "615d7e29-dcdb-4c7e-cdaf-4ff993becc59"
      },
      "cell_type": "code",
      "source": [
        "dev = model.evaluate(input_fn = make_input_fn(evaldf, num_epochs = 10))"
      ],
      "execution_count": 37,
      "outputs": [
        {
          "output_type": "stream",
          "text": [
            "INFO:tensorflow:Calling model_fn.\n",
            "WARNING:tensorflow:From /usr/local/lib/python3.6/dist-packages/tensorflow/python/ops/metrics_impl.py:2002: div (from tensorflow.python.ops.math_ops) is deprecated and will be removed in a future version.\n",
            "Instructions for updating:\n",
            "Deprecated in favor of operator or tf.math.divide.\n",
            "WARNING:tensorflow:Trapezoidal rule is known to produce incorrect PR-AUCs; please switch to \"careful_interpolation\" instead.\n",
            "WARNING:tensorflow:Trapezoidal rule is known to produce incorrect PR-AUCs; please switch to \"careful_interpolation\" instead.\n",
            "INFO:tensorflow:Done calling model_fn.\n",
            "INFO:tensorflow:Starting evaluation at 2019-03-02T02:56:40Z\n",
            "INFO:tensorflow:Graph was finalized.\n",
            "WARNING:tensorflow:From /usr/local/lib/python3.6/dist-packages/tensorflow/python/training/saver.py:1266: checkpoint_exists (from tensorflow.python.training.checkpoint_management) is deprecated and will be removed in a future version.\n",
            "Instructions for updating:\n",
            "Use standard file APIs to check for files with this prefix.\n",
            "INFO:tensorflow:Restoring parameters from ./prueba/model.ckpt-2000\n",
            "INFO:tensorflow:Running local_init_op.\n",
            "INFO:tensorflow:Done running local_init_op.\n",
            "INFO:tensorflow:Finished evaluation at 2019-03-02-02:59:28\n",
            "INFO:tensorflow:Saving dict for global step 2000: accuracy = 0.6729728, accuracy_baseline = 0.99866235, auc = 0.7327151, auc_precision_recall = 0.0034720579, average_loss = 0.66062725, global_step = 2000, label/mean = 0.0013376282, loss = 84.556694, precision = 0.0027104754, prediction/mean = 0.4295086, recall = 0.6635514\n",
            "INFO:tensorflow:Saving 'checkpoint_path' summary for global step 2000: ./prueba/model.ckpt-2000\n"
          ],
          "name": "stdout"
        }
      ]
    },
    {
      "metadata": {
        "id": "YzX_M7QdVPJT",
        "colab_type": "code",
        "colab": {
          "base_uri": "https://localhost:8080/",
          "height": 54
        },
        "outputId": "e2bf051e-5d66-4529-ec9a-57162b4db43a"
      },
      "cell_type": "code",
      "source": [
        "print(dev)"
      ],
      "execution_count": 38,
      "outputs": [
        {
          "output_type": "stream",
          "text": [
            "{'accuracy': 0.6729728, 'accuracy_baseline': 0.99866235, 'auc': 0.7327151, 'auc_precision_recall': 0.0034720579, 'average_loss': 0.66062725, 'label/mean': 0.0013376282, 'loss': 84.556694, 'precision': 0.0027104754, 'prediction/mean': 0.4295086, 'recall': 0.6635514, 'global_step': 2000}\n"
          ],
          "name": "stdout"
        }
      ]
    },
    {
      "metadata": {
        "id": "hzVWA6Q6VPMi",
        "colab_type": "code",
        "colab": {
          "base_uri": "https://localhost:8080/",
          "height": 204
        },
        "outputId": "7079c041-cf35-450d-de04-27e3b2ece833"
      },
      "cell_type": "code",
      "source": [
        "dev"
      ],
      "execution_count": 39,
      "outputs": [
        {
          "output_type": "execute_result",
          "data": {
            "text/plain": [
              "{'accuracy': 0.6729728,\n",
              " 'accuracy_baseline': 0.99866235,\n",
              " 'auc': 0.7327151,\n",
              " 'auc_precision_recall': 0.0034720579,\n",
              " 'average_loss': 0.66062725,\n",
              " 'global_step': 2000,\n",
              " 'label/mean': 0.0013376282,\n",
              " 'loss': 84.556694,\n",
              " 'precision': 0.0027104754,\n",
              " 'prediction/mean': 0.4295086,\n",
              " 'recall': 0.6635514}"
            ]
          },
          "metadata": {
            "tags": []
          },
          "execution_count": 39
        }
      ]
    },
    {
      "metadata": {
        "id": "mzCccNVYV3p1",
        "colab_type": "text"
      },
      "cell_type": "markdown",
      "source": [
        "**Test Prediction**"
      ]
    },
    {
      "metadata": {
        "id": "iJW4QL30VPPp",
        "colab_type": "code",
        "colab": {}
      },
      "cell_type": "code",
      "source": [
        "def make_test_fn(df, num_epochs):\n",
        "    return tf.estimator.inputs.pandas_input_fn(\n",
        "    x = df,\n",
        "    num_epochs = num_epochs,\n",
        "    shuffle = False,\n",
        "    num_threads = 1\n",
        "  )"
      ],
      "execution_count": 0,
      "outputs": []
    },
    {
      "metadata": {
        "id": "TK-tmmWsVPSB",
        "colab_type": "code",
        "colab": {
          "base_uri": "https://localhost:8080/",
          "height": 119
        },
        "outputId": "523c7816-9e8a-400e-8a59-f5b03f288b3e"
      },
      "cell_type": "code",
      "source": [
        "pred = model.predict(input_fn = make_test_fn(evaldf, 1))\n",
        "pred = list(pred)\n",
        "probas = [x[\"probabilities\"] for x in pred]\n",
        "probas = pd.DataFrame(probas)\n",
        "probas.columns = [\"no_conv\",\"conv\"]"
      ],
      "execution_count": 41,
      "outputs": [
        {
          "output_type": "stream",
          "text": [
            "INFO:tensorflow:Calling model_fn.\n",
            "INFO:tensorflow:Done calling model_fn.\n",
            "INFO:tensorflow:Graph was finalized.\n",
            "INFO:tensorflow:Restoring parameters from ./prueba/model.ckpt-2000\n",
            "INFO:tensorflow:Running local_init_op.\n",
            "INFO:tensorflow:Done running local_init_op.\n"
          ],
          "name": "stdout"
        }
      ]
    },
    {
      "metadata": {
        "id": "qvsBjWvXWH0s",
        "colab_type": "code",
        "colab": {}
      },
      "cell_type": "code",
      "source": [
        "import seaborn as sns"
      ],
      "execution_count": 0,
      "outputs": []
    },
    {
      "metadata": {
        "id": "o7lKosFNWH3b",
        "colab_type": "code",
        "colab": {
          "base_uri": "https://localhost:8080/",
          "height": 142
        },
        "outputId": "0054ce38-51f6-45ab-f893-a08f0c9b578d"
      },
      "cell_type": "code",
      "source": [
        "pd.crosstab(probas.iloc[:,1]>0.5,evaldf.susc_target)"
      ],
      "execution_count": 43,
      "outputs": [
        {
          "output_type": "execute_result",
          "data": {
            "text/html": [
              "<div>\n",
              "<style scoped>\n",
              "    .dataframe tbody tr th:only-of-type {\n",
              "        vertical-align: middle;\n",
              "    }\n",
              "\n",
              "    .dataframe tbody tr th {\n",
              "        vertical-align: top;\n",
              "    }\n",
              "\n",
              "    .dataframe thead th {\n",
              "        text-align: right;\n",
              "    }\n",
              "</style>\n",
              "<table border=\"1\" class=\"dataframe\">\n",
              "  <thead>\n",
              "    <tr style=\"text-align: right;\">\n",
              "      <th>susc_target</th>\n",
              "      <th>0</th>\n",
              "      <th>1</th>\n",
              "    </tr>\n",
              "    <tr>\n",
              "      <th>conv</th>\n",
              "      <th></th>\n",
              "      <th></th>\n",
              "    </tr>\n",
              "  </thead>\n",
              "  <tbody>\n",
              "    <tr>\n",
              "      <th>False</th>\n",
              "      <td>161285</td>\n",
              "      <td>108</td>\n",
              "    </tr>\n",
              "    <tr>\n",
              "      <th>True</th>\n",
              "      <td>78371</td>\n",
              "      <td>213</td>\n",
              "    </tr>\n",
              "  </tbody>\n",
              "</table>\n",
              "</div>"
            ],
            "text/plain": [
              "susc_target       0    1\n",
              "conv                    \n",
              "False        161285  108\n",
              "True          78371  213"
            ]
          },
          "metadata": {
            "tags": []
          },
          "execution_count": 43
        }
      ]
    },
    {
      "metadata": {
        "id": "VbtgxeafWH6F",
        "colab_type": "code",
        "colab": {
          "base_uri": "https://localhost:8080/",
          "height": 446
        },
        "outputId": "cc6bf650-6e82-4def-84d9-9cb05cade05a"
      },
      "cell_type": "code",
      "source": [
        "sns.violinplot(x=evaldf.susc_target, y=probas.conv)"
      ],
      "execution_count": 44,
      "outputs": [
        {
          "output_type": "stream",
          "text": [
            "/usr/local/lib/python3.6/dist-packages/seaborn/categorical.py:588: FutureWarning: remove_na is deprecated and is a private function. Do not use.\n",
            "  kde_data = remove_na(group_data)\n",
            "/usr/local/lib/python3.6/dist-packages/seaborn/categorical.py:816: FutureWarning: remove_na is deprecated and is a private function. Do not use.\n",
            "  violin_data = remove_na(group_data)\n"
          ],
          "name": "stderr"
        },
        {
          "output_type": "execute_result",
          "data": {
            "text/plain": [
              "<matplotlib.axes._subplots.AxesSubplot at 0x7f637ce0c828>"
            ]
          },
          "metadata": {
            "tags": []
          },
          "execution_count": 44
        },
        {
          "output_type": "display_data",
          "data": {
            "image/png": "[encoded data removed]",
            "text/plain": [
              "<Figure size 576x396 with 1 Axes>"
            ]
          },
          "metadata": {
            "tags": []
          }
        }
      ]
    },
    {
      "metadata": {
        "id": "ZxOozzX0WfLv",
        "colab_type": "text"
      },
      "cell_type": "markdown",
      "source": [
        "**ORD**"
      ]
    },
    {
      "metadata": {
        "id": "AahewlIqWH9B",
        "colab_type": "code",
        "colab": {}
      },
      "cell_type": "code",
      "source": [
        "orden = list(probas.sort_values(\"conv\",ascending=False).index)\n",
        "def tomar_primeros_n(ordenamiento,n,df=evaldf,label=\"susc_target\"):\n",
        "    ordenamiento = ordenamiento[:n]\n",
        "    return df.iloc[ordenamiento,:][label].value_counts()"
      ],
      "execution_count": 0,
      "outputs": []
    },
    {
      "metadata": {
        "id": "87mgte0TWH_X",
        "colab_type": "code",
        "colab": {
          "base_uri": "https://localhost:8080/",
          "height": 527
        },
        "outputId": "de89b71c-36fb-4365-a5a5-6d199d956bdb"
      },
      "cell_type": "code",
      "source": [
        "for i in [1000,5000,10000,50000,100000]:\n",
        "    print(\"De un total de {} casos: \".format(i))\n",
        "    print(tomar_primeros_n(orden,i,df= evaldf))\n",
        "    print(\"\\n\")"
      ],
      "execution_count": 47,
      "outputs": [
        {
          "output_type": "stream",
          "text": [
            "De un total de 1000 casos: \n",
            "0    996\n",
            "1      4\n",
            "Name: susc_target, dtype: int64\n",
            "\n",
            "\n",
            "De un total de 5000 casos: \n",
            "0    4971\n",
            "1      29\n",
            "Name: susc_target, dtype: int64\n",
            "\n",
            "\n",
            "De un total de 10000 casos: \n",
            "0    9947\n",
            "1      53\n",
            "Name: susc_target, dtype: int64\n",
            "\n",
            "\n",
            "De un total de 50000 casos: \n",
            "0    49835\n",
            "1      165\n",
            "Name: susc_target, dtype: int64\n",
            "\n",
            "\n",
            "De un total de 100000 casos: \n",
            "0    99750\n",
            "1      250\n",
            "Name: susc_target, dtype: int64\n",
            "\n",
            "\n"
          ],
          "name": "stdout"
        }
      ]
    }
  ]
}