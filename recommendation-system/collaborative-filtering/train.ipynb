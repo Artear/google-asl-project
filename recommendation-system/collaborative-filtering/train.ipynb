{
  "nbformat": 4,
  "nbformat_minor": 0,
  "metadata": {
    "colab": {
      "name": "train.ipynb",
      "version": "0.3.2",
      "provenance": [],
      "include_colab_link": true
    },
    "kernelspec": {
      "name": "python3",
      "display_name": "Python 3"
    }
  },
  "cells": [
    {
      "cell_type": "markdown",
      "metadata": {
        "id": "view-in-github",
        "colab_type": "text"
      },
      "source": [
        "<a href=\"https://colab.research.google.com/github/marianoogimenez/google-asl-project/blob/master/recommendation-system/collaborative-filtering/train.ipynb\" target=\"_parent\"><img src=\"https://colab.research.google.com/assets/colab-badge.svg\" alt=\"Open In Colab\"/></a>"
      ]
    },
    {
      "metadata": {
        "id": "QSsZhKfuk50q",
        "colab_type": "text"
      },
      "cell_type": "markdown",
      "source": [
        "# Collaborative filtering using WALS algorithm | 3"
      ]
    },
    {
      "metadata": {
        "id": "HNH8u9-Gk-cd",
        "colab_type": "text"
      },
      "cell_type": "markdown",
      "source": [
        "## Train"
      ]
    },
    {
      "metadata": {
        "id": "Pyr4VTMElfJ_",
        "colab_type": "code",
        "colab": {}
      },
      "cell_type": "code",
      "source": [
        "PROJECT = 'qwiklabs-gcp-4a684069c4776675'\n",
        "BUCKET = 'colaborative-filtering-agea'\n",
        "REGION = 'us-central1'"
      ],
      "execution_count": 0,
      "outputs": []
    },
    {
      "metadata": {
        "id": "z5PwzE0YlbKk",
        "colab_type": "code",
        "colab": {}
      },
      "cell_type": "code",
      "source": [
        "import os\n",
        "import shutil\n",
        "from google.colab import auth\n",
        "import pandas as pd\n",
        "import numpy as np\n",
        "import tensorflow as tf\n",
        "from tensorflow.python.lib.io import file_io\n",
        "from tensorflow.contrib.factorization import WALSMatrixFactorization\n",
        "from tensorflow.contrib.learn.python.learn import learn_runner"
      ],
      "execution_count": 0,
      "outputs": []
    },
    {
      "metadata": {
        "id": "Bqszf8xelo5J",
        "colab_type": "code",
        "colab": {}
      },
      "cell_type": "code",
      "source": [
        "auth.authenticate_user()"
      ],
      "execution_count": 0,
      "outputs": []
    },
    {
      "metadata": {
        "id": "x2wfxPHOlp7G",
        "colab_type": "code",
        "colab": {}
      },
      "cell_type": "code",
      "source": [
        "def read_dataset(mode, args):\n",
        "  def decode_example(protos, vocab_size):\n",
        "    features = {'key': tf.FixedLenFeature([1], tf.int64),\n",
        "                'indices': tf.VarLenFeature(dtype=tf.int64),\n",
        "                'values': tf.VarLenFeature(dtype=tf.float32)}\n",
        "    parsed_features = tf.parse_single_example(protos, features)\n",
        "    values = tf.sparse_merge(parsed_features['indices'], parsed_features['values'], vocab_size=vocab_size)\n",
        "    # Save key to remap after batching\n",
        "    # This is a temporary workaround to assign correct row numbers in each batch.\n",
        "    key = parsed_features['key']\n",
        "    decoded_sparse_tensor = tf.SparseTensor(indices=tf.concat([values.indices, [key]], axis = 0), values = tf.concat([values.values, [0.0]], axis = 0), dense_shape = values.dense_shape)\n",
        "    return decoded_sparse_tensor\n",
        "  \n",
        "  \n",
        "  def remap_keys(sparse_tensor):\n",
        "    # Current indices of our SparseTensor that we need to fix\n",
        "    bad_indices = sparse_tensor.indices\n",
        "    # Current values of our SparseTensor that we need to fix\n",
        "    bad_values = sparse_tensor.values \n",
        "  \n",
        "    # Group by the batch_indices and get the count for each  \n",
        "    size = tf.segment_sum(data = tf.ones_like(bad_indices[:,0], dtype = tf.int64), segment_ids = bad_indices[:,0]) - 1\n",
        "    # The number of batch_indices (this should be batch_size unless it is a partially full batch)\n",
        "    length = tf.shape(size, out_type = tf.int64)[0]\n",
        "    # Finds the cumulative sum which we can use for indexing later\n",
        "    cum = tf.cumsum(size)\n",
        "    # The offsets between each example in the batch due to our concatentation of the keys in the decode_example method\n",
        "    length_range = tf.range(start = 0, limit = length, delta = 1, dtype = tf.int64)\n",
        "    # Indices of the SparseTensor's indices member of the rows we added by the concatentation of our keys in the decode_example method\n",
        "    cum_range = cum + length_range\n",
        "\n",
        "    # The keys that we have extracted back out of our concatentated SparseTensor\n",
        "    gathered_indices = tf.squeeze(tf.gather(bad_indices, cum_range)[:,1])\n",
        "\n",
        "    # The enumerated row indices of the SparseTensor's indices member\n",
        "    sparse_indices_range = tf.range(tf.shape(bad_indices, out_type = tf.int64)[0], dtype = tf.int64)\n",
        "\n",
        "    # We want to find here the row indices of the SparseTensor's indices member that are of our actual data and not the concatentated rows\n",
        "    # So we want to find the intersection of the two sets and then take the opposite of that\n",
        "    x = sparse_indices_range\n",
        "    s = cum_range\n",
        "\n",
        "    # Number of multiples we are going to tile x, which is our sparse_indices_range\n",
        "    tile_multiples = tf.concat([tf.ones(tf.shape(tf.shape(x)), dtype=tf.int64), tf.shape(s, out_type = tf.int64)], axis = 0)\n",
        "    # Expands x, our sparse_indices_range, into a rank 2 tensor and then multiplies the rows by 1 (no copying) and the columns by the number of examples in the batch\n",
        "    x_tile = tf.tile(tf.expand_dims(x, -1), tile_multiples)\n",
        "    # Essentially a vectorized logical or, that we then negate\n",
        "    x_not_in_s = ~tf.reduce_any(tf.equal(x_tile, s), -1)\n",
        "\n",
        "    # The SparseTensor's indices that are our actual data by using the boolean_mask we just made above applied to the entire indices member of our SparseTensor\n",
        "    selected_indices = tf.boolean_mask(tensor = bad_indices, mask = x_not_in_s, axis = 0)\n",
        "    # Apply the same boolean_mask to the entire values member of our SparseTensor to get the actual values data\n",
        "    selected_values = tf.boolean_mask(tensor = bad_values, mask = x_not_in_s, axis = 0)\n",
        "\n",
        "    # Need to replace the first column of our selected_indices with keys, so we first need to tile our gathered_indices\n",
        "    tiling = tf.tile(input = tf.expand_dims(gathered_indices[0], -1), multiples = tf.expand_dims(size[0] , -1))\n",
        "    \n",
        "    # We have to repeatedly apply the tiling to each example in the batch\n",
        "    # Since it is jagged we cannot use tf.map_fn due to the stacking of the TensorArray, so we have to create our own custom version\n",
        "    def loop_body(i, tensor_grow):\n",
        "      return i + 1, tf.concat(values = [tensor_grow, tf.tile(input = tf.expand_dims(gathered_indices[i], -1), multiples = tf.expand_dims(size[i] , -1))], axis = 0)\n",
        "\n",
        "    _, result = tf.while_loop(lambda i, tensor_grow: i < length, loop_body, [tf.constant(1, dtype = tf.int64), tiling])\n",
        "    \n",
        "    # Concatenate tiled keys with the 2nd column of selected_indices\n",
        "    selected_indices_fixed = tf.concat([tf.expand_dims(result, -1), tf.expand_dims(selected_indices[:, 1], -1)], axis = 1)\n",
        "    \n",
        "    # Combine everything together back into a SparseTensor\n",
        "    remapped_sparse_tensor = tf.SparseTensor(indices = selected_indices_fixed, values = selected_values, dense_shape = sparse_tensor.dense_shape)\n",
        "    return remapped_sparse_tensor\n",
        "\n",
        "    \n",
        "  def parse_tfrecords(filename, vocab_size):\n",
        "    if mode == tf.estimator.ModeKeys.TRAIN:\n",
        "        num_epochs = None # indefinitely\n",
        "    else:\n",
        "        num_epochs = 1 # end-of-input after this\n",
        "    \n",
        "    files = tf.gfile.Glob(os.path.join(args['input_path'], filename))\n",
        "    \n",
        "    # Create dataset from file list\n",
        "    dataset = tf.data.TFRecordDataset(files)\n",
        "    dataset = dataset.map(lambda x: decode_example(x, vocab_size))\n",
        "    dataset = dataset.repeat(num_epochs)\n",
        "    dataset = dataset.batch(args['batch_size'])\n",
        "    dataset = dataset.map(lambda x: remap_keys(x))\n",
        "    return dataset.make_one_shot_iterator().get_next()\n",
        "  \n",
        "  def _input_fn():\n",
        "    features = {\n",
        "      WALSMatrixFactorization.INPUT_ROWS: parse_tfrecords('items_for_user', args['nitems']),\n",
        "      WALSMatrixFactorization.INPUT_COLS: parse_tfrecords('users_for_item', args['nusers']),\n",
        "      WALSMatrixFactorization.PROJECT_ROW: tf.constant(True)\n",
        "    }\n",
        "    return features, None\n",
        "  \n",
        "  return _input_fn"
      ],
      "execution_count": 0,
      "outputs": []
    },
    {
      "metadata": {
        "id": "PjL2kVDMoLI4",
        "colab_type": "code",
        "colab": {}
      },
      "cell_type": "code",
      "source": [
        "def find_top_k(user, item_factors, k):\n",
        "  all_items = tf.matmul(tf.expand_dims(user, 0), tf.transpose(item_factors))\n",
        "  topk = tf.nn.top_k(all_items, k=k)\n",
        "  return tf.cast(topk.indices, dtype=tf.int64)\n",
        "    \n",
        "def batch_predict(args):\n",
        "  with tf.Session() as sess:\n",
        "    estimator = WALSMatrixFactorization(\n",
        "        num_rows=args['nusers'],\n",
        "        num_cols=args['nitems'],\n",
        "        embedding_dimension=args['n_embeds'],\n",
        "        model_dir=args['output_dir']\n",
        "    )\n",
        "    # this is how you would get the row factors for out-of-vocab user data\n",
        "    #row_factors = list(estimator.get_projections(input_fn=read_dataset(tf.estimator.ModeKeys.EVAL, args)))\n",
        "    #user_factors = tf.convert_to_tensor(np.array(row_factors))\n",
        "    \n",
        "    # but for in-vocab data, the row factors are already in the checkpoint\n",
        "    user_factors = tf.convert_to_tensor(estimator.get_row_factors()[0]) # (nusers, nembeds)\n",
        "    # in either case, we have to assume catalog doesn't change, so col_factors are read in\n",
        "    item_factors = tf.convert_to_tensor(estimator.get_col_factors()[0])# (nitems, nembeds)\n",
        "    \n",
        "    # for each user, find the top K items\n",
        "    topk = tf.squeeze(tf.map_fn(lambda user: find_top_k(user, item_factors, args['topk']), user_factors, dtype=tf.int64))\n",
        "    with file_io.FileIO(os.path.join(args['output_dir'], 'batch_pred.txt'), mode='w') as f:\n",
        "      for best_items_for_user in topk.eval():\n",
        "        f.write(','.join(str(x) for x in best_items_for_user) + '\\n')\n",
        "\n",
        "def train_and_evaluate(args):\n",
        "    train_steps = int(0.5 + (1.0 * args['num_epochs'] * args['nusers']) / args['batch_size'])\n",
        "    steps_in_epoch = int(0.5 + args['nusers'] / args['batch_size'])\n",
        "    print('Will train for {} steps, evaluating once every {} steps'.format(train_steps, steps_in_epoch))\n",
        "    def experiment_fn(output_dir):\n",
        "        return tf.contrib.learn.Experiment(\n",
        "            tf.contrib.factorization.WALSMatrixFactorization(\n",
        "                num_rows=args['nusers'], num_cols=args['nitems'],\n",
        "                embedding_dimension=args['n_embeds'],\n",
        "                model_dir=args['output_dir']),\n",
        "                train_input_fn=read_dataset(tf.estimator.ModeKeys.TRAIN, args),\n",
        "                eval_input_fn=read_dataset(tf.estimator.ModeKeys.EVAL, args),\n",
        "                train_steps=train_steps,\n",
        "                eval_steps=1,\n",
        "                min_eval_frequency=steps_in_epoch\n",
        "        )\n",
        "\n",
        "    \n",
        "    learn_runner.run(experiment_fn, args['output_dir'])\n",
        "    \n",
        "    batch_predict(args)"
      ],
      "execution_count": 0,
      "outputs": []
    },
    {
      "metadata": {
        "id": "y4msDctllqbB",
        "colab_type": "code",
        "outputId": "a1f53299-e1d7-45c8-903a-ffbd7dc3d72a",
        "colab": {
          "base_uri": "https://localhost:8080/",
          "height": 1074
        }
      },
      "cell_type": "code",
      "source": [
        "shutil.rmtree('wals_trained', ignore_errors=True)\n",
        "train_and_evaluate({\n",
        "    'output_dir': 'wals_trained',\n",
        "    'input_path': 'data/',\n",
        "    'num_epochs': 0.05,\n",
        "    'nitems': 5668,\n",
        "    'nusers': 82802,\n",
        "\n",
        "    'batch_size': 512,\n",
        "    'n_embeds': 10,\n",
        "    'topk': 3\n",
        "  })"
      ],
      "execution_count": 0,
      "outputs": [
        {
          "output_type": "stream",
          "text": [
            "Will train for 8 steps, evaluating once every 162 steps\n",
            "WARNING:tensorflow:From <ipython-input-10-a197759b7e68>:47: run (from tensorflow.contrib.learn.python.learn.learn_runner) is deprecated and will be removed in a future version.\n",
            "Instructions for updating:\n",
            "Use tf.estimator.train_and_evaluate.\n",
            "WARNING:tensorflow:From /usr/local/lib/python3.6/dist-packages/tensorflow/contrib/learn/python/learn/estimators/estimator.py:1179: BaseEstimator.__init__ (from tensorflow.contrib.learn.python.learn.estimators.estimator) is deprecated and will be removed in a future version.\n",
            "Instructions for updating:\n",
            "Please replace uses of any Estimator from tf.contrib.learn with an Estimator from tf.estimator.*\n",
            "WARNING:tensorflow:From /usr/local/lib/python3.6/dist-packages/tensorflow/contrib/learn/python/learn/estimators/estimator.py:427: RunConfig.__init__ (from tensorflow.contrib.learn.python.learn.estimators.run_config) is deprecated and will be removed in a future version.\n",
            "Instructions for updating:\n",
            "When switching to tf.estimator.Estimator, use tf.estimator.RunConfig instead.\n",
            "INFO:tensorflow:Using default config.\n",
            "INFO:tensorflow:Using config: {'_task_type': None, '_task_id': 0, '_cluster_spec': <tensorflow.python.training.server_lib.ClusterSpec object at 0x7f56276495f8>, '_master': '', '_num_ps_replicas': 0, '_num_worker_replicas': 0, '_environment': 'local', '_is_chief': True, '_evaluation_master': '', '_train_distribute': None, '_eval_distribute': None, '_device_fn': None, '_tf_config': gpu_options {\n",
            "  per_process_gpu_memory_fraction: 1.0\n",
            "}\n",
            ", '_tf_random_seed': None, '_save_summary_steps': 100, '_save_checkpoints_secs': 600, '_log_step_count_steps': 100, '_protocol': None, '_session_config': None, '_save_checkpoints_steps': None, '_keep_checkpoint_max': 5, '_keep_checkpoint_every_n_hours': 10000, '_model_dir': 'wals_trained'}\n",
            "WARNING:tensorflow:From <ipython-input-10-a197759b7e68>:43: Experiment.__init__ (from tensorflow.contrib.learn.python.learn.experiment) is deprecated and will be removed in a future version.\n",
            "Instructions for updating:\n",
            "Please switch to tf.estimator.train_and_evaluate. You will also have to convert to a tf.estimator.Estimator.\n",
            "WARNING:tensorflow:From /usr/local/lib/python3.6/dist-packages/tensorflow/contrib/learn/python/learn/monitors.py:279: BaseMonitor.__init__ (from tensorflow.contrib.learn.python.learn.monitors) is deprecated and will be removed after 2016-12-05.\n",
            "Instructions for updating:\n",
            "Monitors are deprecated. Please use tf.train.SessionRunHook.\n",
            "WARNING:tensorflow:From /usr/local/lib/python3.6/dist-packages/tensorflow/contrib/factorization/python/ops/wals.py:315: ModelFnOps.__new__ (from tensorflow.contrib.learn.python.learn.estimators.model_fn) is deprecated and will be removed in a future version.\n",
            "Instructions for updating:\n",
            "When switching to tf.estimator.Estimator, use tf.estimator.EstimatorSpec. You can use the `estimator_spec` method to create an equivalent one.\n",
            "INFO:tensorflow:Create CheckpointSaverHook.\n",
            "INFO:tensorflow:Graph was finalized.\n",
            "INFO:tensorflow:Running local_init_op.\n",
            "INFO:tensorflow:Done running local_init_op.\n",
            "INFO:tensorflow:Saving checkpoints for 0 into wals_trained/model.ckpt.\n",
            "INFO:tensorflow:SweepHook running init op.\n",
            "INFO:tensorflow:SweepHook running prep ops for the row sweep.\n",
            "INFO:tensorflow:Next fit step starting.\n",
            "INFO:tensorflow:loss = 9006.519, step = 1\n",
            "INFO:tensorflow:Next fit step starting.\n",
            "INFO:tensorflow:Next fit step starting.\n",
            "INFO:tensorflow:Next fit step starting.\n",
            "INFO:tensorflow:Next fit step starting.\n",
            "INFO:tensorflow:Next fit step starting.\n",
            "INFO:tensorflow:Next fit step starting.\n",
            "INFO:tensorflow:Next fit step starting.\n",
            "INFO:tensorflow:Saving checkpoints for 8 into wals_trained/model.ckpt.\n",
            "INFO:tensorflow:Loss for final step: 8362.629.\n",
            "WARNING:tensorflow:From /usr/local/lib/python3.6/dist-packages/tensorflow/python/ops/metrics_impl.py:363: to_float (from tensorflow.python.ops.math_ops) is deprecated and will be removed in a future version.\n",
            "Instructions for updating:\n",
            "Use tf.cast instead.\n",
            "INFO:tensorflow:Starting evaluation at 2019-03-02T09:10:28Z\n",
            "INFO:tensorflow:Graph was finalized.\n",
            "WARNING:tensorflow:From /usr/local/lib/python3.6/dist-packages/tensorflow/python/training/saver.py:1266: checkpoint_exists (from tensorflow.python.training.checkpoint_management) is deprecated and will be removed in a future version.\n",
            "Instructions for updating:\n",
            "Use standard file APIs to check for files with this prefix.\n",
            "INFO:tensorflow:Restoring parameters from wals_trained/model.ckpt-8\n",
            "INFO:tensorflow:Running local_init_op.\n",
            "INFO:tensorflow:Done running local_init_op.\n",
            "INFO:tensorflow:Evaluation [1/1]\n",
            "INFO:tensorflow:Finished evaluation at 2019-03-02-09:10:28\n",
            "INFO:tensorflow:Saving dict for global step 8: global_step = 8, loss = 9006.519\n",
            "INFO:tensorflow:Using default config.\n",
            "INFO:tensorflow:Using config: {'_task_type': None, '_task_id': 0, '_cluster_spec': <tensorflow.python.training.server_lib.ClusterSpec object at 0x7f562b325a58>, '_master': '', '_num_ps_replicas': 0, '_num_worker_replicas': 0, '_environment': 'local', '_is_chief': True, '_evaluation_master': '', '_train_distribute': None, '_eval_distribute': None, '_device_fn': None, '_tf_config': gpu_options {\n",
            "  per_process_gpu_memory_fraction: 1.0\n",
            "}\n",
            ", '_tf_random_seed': None, '_save_summary_steps': 100, '_save_checkpoints_secs': 600, '_log_step_count_steps': 100, '_protocol': None, '_session_config': None, '_save_checkpoints_steps': None, '_keep_checkpoint_max': 5, '_keep_checkpoint_every_n_hours': 10000, '_model_dir': 'wals_trained'}\n"
          ],
          "name": "stdout"
        }
      ]
    },
    {
      "metadata": {
        "id": "gT2poZ2UlpVs",
        "colab_type": "code",
        "outputId": "055f2c11-d0ed-4018-c08b-6e3d41a9475b",
        "colab": {
          "base_uri": "https://localhost:8080/",
          "height": 119
        }
      },
      "cell_type": "code",
      "source": [
        "!ls wals_trained"
      ],
      "execution_count": 0,
      "outputs": [
        {
          "output_type": "stream",
          "text": [
            "batch_pred.txt\t\t\t\t     model.ckpt-0.index\n",
            "checkpoint\t\t\t\t     model.ckpt-0.meta\n",
            "eval\t\t\t\t\t     model.ckpt-8.data-00000-of-00001\n",
            "events.out.tfevents.1551517826.56ed76bd26cd  model.ckpt-8.index\n",
            "graph.pbtxt\t\t\t\t     model.ckpt-8.meta\n",
            "model.ckpt-0.data-00000-of-00001\n"
          ],
          "name": "stdout"
        }
      ]
    },
    {
      "metadata": {
        "id": "qcIT7ZGdsao6",
        "colab_type": "code",
        "outputId": "57d8b26b-f550-4f00-e483-77f4d4c74605",
        "colab": {
          "base_uri": "https://localhost:8080/",
          "height": 340
        }
      },
      "cell_type": "code",
      "source": [
        "!gsutil cp wals_trained/*  gs://{BUCKET}/wals_trained   "
      ],
      "execution_count": 0,
      "outputs": [
        {
          "output_type": "stream",
          "text": [
            "Copying file://wals_trained/batch_pred.txt [Content-Type=text/plain]...\n",
            "Copying file://wals_trained/checkpoint [Content-Type=application/octet-stream]...\n",
            "Omitting directory \"file://wals_trained/eval\". (Did you mean to do cp -r?)\n",
            "Copying file://wals_trained/events.out.tfevents.1551517826.56ed76bd26cd [Content-Type=application/octet-stream]...\n",
            "Copying file://wals_trained/graph.pbtxt [Content-Type=application/octet-stream]...\n",
            "- [4 files][  2.1 MiB/  2.1 MiB]                                                \n",
            "==> NOTE: You are performing a sequence of gsutil operations that may\n",
            "run significantly faster if you instead use gsutil -m cp ... Please\n",
            "see the -m section under \"gsutil help options\" for further information\n",
            "about when gsutil -m can be advantageous.\n",
            "\n",
            "Copying file://wals_trained/model.ckpt-0.data-00000-of-00001 [Content-Type=application/octet-stream]...\n",
            "Copying file://wals_trained/model.ckpt-0.index [Content-Type=application/octet-stream]...\n",
            "Copying file://wals_trained/model.ckpt-0.meta [Content-Type=application/octet-stream]...\n",
            "Copying file://wals_trained/model.ckpt-8.data-00000-of-00001 [Content-Type=application/octet-stream]...\n",
            "Copying file://wals_trained/model.ckpt-8.index [Content-Type=application/octet-stream]...\n",
            "Copying file://wals_trained/model.ckpt-8.meta [Content-Type=application/octet-stream]...\n",
            "| [10 files][  9.9 MiB/  9.9 MiB]                                               \n",
            "Operation completed over 10 objects/9.9 MiB.                                     \n"
          ],
          "name": "stdout"
        }
      ]
    },
    {
      "metadata": {
        "id": "-TLheXpwrNa9",
        "colab_type": "code",
        "outputId": "8ed64bc0-b097-4ce4-88b4-4281bacaca98",
        "colab": {
          "base_uri": "https://localhost:8080/",
          "height": 187
        }
      },
      "cell_type": "code",
      "source": [
        "!head wals_trained/batch_pred.txt"
      ],
      "execution_count": 0,
      "outputs": [
        {
          "output_type": "stream",
          "text": [
            "4491,3929,2021\n",
            "5538,3689,2461\n",
            "2923,2257,3599\n",
            "3,1221,3116\n",
            "4767,1829,5091\n",
            "4231,1010,1632\n",
            "1010,4577,10\n",
            "7,2401,1897\n",
            "5011,77,629\n",
            "9,1589,560\n"
          ],
          "name": "stdout"
        }
      ]
    },
    {
      "metadata": {
        "id": "64xjciU9rapQ",
        "colab_type": "text"
      },
      "cell_type": "markdown",
      "source": [
        "## Get row and column factors"
      ]
    },
    {
      "metadata": {
        "id": "IHAMtZOUraTh",
        "colab_type": "code",
        "colab": {}
      },
      "cell_type": "code",
      "source": [
        "def get_factors(args):\n",
        "  with tf.Session() as sess:\n",
        "    estimator = WALSMatrixFactorization(\n",
        "      num_rows=args['nusers'], num_cols=args['nitems'],\n",
        "      embedding_dimension=args['n_embeds'],\n",
        "      model_dir=args['output_dir']\n",
        "    )\n",
        "    row_factors = estimator.get_row_factors()[0]\n",
        "    col_factors = estimator.get_col_factors()[0]\n",
        "    return row_factors, col_factors"
      ],
      "execution_count": 0,
      "outputs": []
    },
    {
      "metadata": {
        "id": "VWlvd9WOsHo0",
        "colab_type": "code",
        "outputId": "7cd9e6c1-aa2d-46e7-d685-0f89b5657b73",
        "colab": {
          "base_uri": "https://localhost:8080/",
          "height": 377
        }
      },
      "cell_type": "code",
      "source": [
        "args = {\n",
        "    'output_dir': 'gs://{}/wals_trained'.format(BUCKET),\n",
        "    'nitems': 5668,\n",
        "    'nusers': 82802,\n",
        "    'n_embeds': 10\n",
        "  }\n",
        "\n",
        "user_embeddings, item_embeddings = get_factors(args)\n",
        "print(user_embeddings[:3])\n",
        "print(item_embeddings[:3])"
      ],
      "execution_count": 0,
      "outputs": [
        {
          "output_type": "stream",
          "text": [
            "INFO:tensorflow:Using default config.\n",
            "INFO:tensorflow:Using config: {'_task_type': None, '_task_id': 0, '_cluster_spec': <tensorflow.python.training.server_lib.ClusterSpec object at 0x7f562b2b5c50>, '_master': '', '_num_ps_replicas': 0, '_num_worker_replicas': 0, '_environment': 'local', '_is_chief': True, '_evaluation_master': '', '_train_distribute': None, '_eval_distribute': None, '_device_fn': None, '_tf_config': gpu_options {\n",
            "  per_process_gpu_memory_fraction: 1.0\n",
            "}\n",
            ", '_tf_random_seed': None, '_save_summary_steps': 100, '_save_checkpoints_secs': 600, '_log_step_count_steps': 100, '_protocol': None, '_session_config': None, '_save_checkpoints_steps': None, '_keep_checkpoint_max': 5, '_keep_checkpoint_every_n_hours': 10000, '_model_dir': 'gs://colaborative-filtering-agea/wals_trained'}\n",
            "[[-4.4919419e-04 -2.1646431e-04 -2.3344136e-04  4.1561897e-04\n",
            "   7.2422827e-04  1.8585239e-05  2.2978982e-04 -8.6783220e-05\n",
            "   6.5142231e-05  8.0189365e-04]\n",
            " [ 7.1926607e-04  2.1249820e-04  7.7724340e-04 -2.3045222e-04\n",
            "  -8.8360241e-05  3.1261539e-04  5.2573794e-04 -3.5507936e-05\n",
            "  -2.8187505e-04  1.4140763e-04]\n",
            " [ 1.5574931e-04 -5.4526771e-04  5.0074223e-04 -3.8337091e-04\n",
            "   2.5273341e-04  1.3174436e-05  5.9236580e-04 -1.2830550e-04\n",
            "   3.5201115e-04  9.5836636e-05]]\n",
            "[[-0.7586808  -0.4271783  -0.32996434  0.7001497   1.1857657  -0.00570106\n",
            "   0.4299907  -0.10053055  0.08455928  1.3604221 ]\n",
            " [ 1.2381824   0.40640143  1.3515222  -0.3810522  -0.06445635  0.62791073\n",
            "   0.92400485 -0.08632682 -0.4960975   0.25264812]\n",
            " [ 0.23379761 -0.93034095  0.8728155  -0.6500542   0.4576692   0.063375\n",
            "   1.0476297  -0.19774924  0.6096275   0.19329591]]\n"
          ],
          "name": "stdout"
        }
      ]
    },
    {
      "metadata": {
        "id": "x6a9RO6ztb8g",
        "colab_type": "code",
        "outputId": "8fddbd28-b899-4eec-b412-e3ec733d7cfe",
        "colab": {
          "base_uri": "https://localhost:8080/",
          "height": 483
        }
      },
      "cell_type": "code",
      "source": [
        "import matplotlib.pyplot as plt\n",
        "from mpl_toolkits.mplot3d import Axes3D\n",
        "from sklearn.decomposition import PCA\n",
        "\n",
        "pca = PCA(n_components=3)\n",
        "pca.fit(user_embeddings)\n",
        "user_embeddings_pca = pca.transform(user_embeddings)\n",
        "\n",
        "fig = plt.figure(figsize=(8,8))\n",
        "ax = fig.add_subplot(111, projection='3d')\n",
        "xs, ys, zs = user_embeddings_pca[::150].T\n",
        "ax.scatter(xs, ys, zs)"
      ],
      "execution_count": 0,
      "outputs": [
        {
          "output_type": "execute_result",
          "data": {
            "text/plain": [
              "<mpl_toolkits.mplot3d.art3d.Path3DCollection at 0x7f5626f50ac8>"
            ]
          },
          "metadata": {
            "tags": []
          },
          "execution_count": 21
        },
        {
          "output_type": "display_data",
          "data": {
            "image/png": "[encoded data removed]",
            "text/plain": [
              "<Figure size 576x576 with 1 Axes>"
            ]
          },
          "metadata": {
            "tags": []
          }
        }
      ]
    }
  ]
}