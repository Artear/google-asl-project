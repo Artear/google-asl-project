{
  "nbformat": 4,
  "nbformat_minor": 0,
  "metadata": {
    "colab": {
      "name": "wals.ipynb",
      "version": "0.3.2",
      "provenance": []
    },
    "kernelspec": {
      "display_name": "Python 2",
      "language": "python",
      "name": "python2"
    }
  },
  "cells": [
    {
      "metadata": {
        "id": "sl8gnHjeu_nC",
        "colab_type": "text"
      },
      "cell_type": "markdown",
      "source": [
        "# Collaborative filtering using WALS algorithm | 1"
      ]
    },
    {
      "metadata": {
        "id": "GuTfYGbzWhK_",
        "colab_type": "text"
      },
      "cell_type": "markdown",
      "source": [
        "## Create raw dataset"
      ]
    },
    {
      "metadata": {
        "id": "i_IiSzwmvQJx",
        "colab_type": "code",
        "colab": {}
      },
      "cell_type": "code",
      "source": [
        "PROJECT = 'qwiklabs-gcp-4a684069c4776675'\n",
        "BUCKET = 'colaborative-filtering-agea'\n",
        "REGION = 'us-central1'"
      ],
      "execution_count": 0,
      "outputs": []
    },
    {
      "metadata": {
        "id": "ZGjYqlL1v5JT",
        "colab_type": "code",
        "colab": {}
      },
      "cell_type": "code",
      "source": [
        "from google.cloud import bigquery\n",
        "from google.colab import auth"
      ],
      "execution_count": 0,
      "outputs": []
    },
    {
      "metadata": {
        "id": "m6hREOkTyMh9",
        "colab_type": "code",
        "colab": {}
      },
      "cell_type": "code",
      "source": [
        "auth.authenticate_user()"
      ],
      "execution_count": 0,
      "outputs": []
    },
    {
      "metadata": {
        "id": "MTEi-Ds7_6H8",
        "colab_type": "code",
        "outputId": "eada11cc-db29-4be0-9725-863438f3a08b",
        "colab": {
          "base_uri": "https://localhost:8080/",
          "height": 204
        }
      },
      "cell_type": "code",
      "source": [
        "client = bigquery.Client(PROJECT)\n",
        "sql = \"\"\"\n",
        "#standardSQL\n",
        "SELECT \n",
        "  user_id as visitorId,\n",
        "  content_id as contentId,\n",
        "  COUNT(user_id) as numberOfVisits\n",
        "\n",
        "  FROM AGEA_ASL.Dataset_B\n",
        "  GROUP BY contentId,visitorId\n",
        "\"\"\"\n",
        "df = client.query(sql + 'LIMIT 10000').to_dataframe() # TODO: SACAR LIMIT\n",
        "df.head()"
      ],
      "execution_count": 7,
      "outputs": [
        {
          "output_type": "execute_result",
          "data": {
            "text/html": [
              "<div>\n",
              "<style scoped>\n",
              "    .dataframe tbody tr th:only-of-type {\n",
              "        vertical-align: middle;\n",
              "    }\n",
              "\n",
              "    .dataframe tbody tr th {\n",
              "        vertical-align: top;\n",
              "    }\n",
              "\n",
              "    .dataframe thead th {\n",
              "        text-align: right;\n",
              "    }\n",
              "</style>\n",
              "<table border=\"1\" class=\"dataframe\">\n",
              "  <thead>\n",
              "    <tr style=\"text-align: right;\">\n",
              "      <th></th>\n",
              "      <th>visitorId</th>\n",
              "      <th>contentId</th>\n",
              "      <th>numberOfVisits</th>\n",
              "    </tr>\n",
              "  </thead>\n",
              "  <tbody>\n",
              "    <tr>\n",
              "      <th>0</th>\n",
              "      <td>7003253</td>\n",
              "      <td>nLBCbDNAc</td>\n",
              "      <td>1</td>\n",
              "    </tr>\n",
              "    <tr>\n",
              "      <th>1</th>\n",
              "      <td>3828642</td>\n",
              "      <td>oadkSDA7v</td>\n",
              "      <td>1</td>\n",
              "    </tr>\n",
              "    <tr>\n",
              "      <th>2</th>\n",
              "      <td>4390038</td>\n",
              "      <td>VlhGrp0-M</td>\n",
              "      <td>1</td>\n",
              "    </tr>\n",
              "    <tr>\n",
              "      <th>3</th>\n",
              "      <td>6779720</td>\n",
              "      <td>UfolOSfq_</td>\n",
              "      <td>1</td>\n",
              "    </tr>\n",
              "    <tr>\n",
              "      <th>4</th>\n",
              "      <td>7438985</td>\n",
              "      <td>0ZpSCTZmI</td>\n",
              "      <td>1</td>\n",
              "    </tr>\n",
              "  </tbody>\n",
              "</table>\n",
              "</div>"
            ],
            "text/plain": [
              "  visitorId  contentId  numberOfVisits\n",
              "0   7003253  nLBCbDNAc               1\n",
              "1   3828642  oadkSDA7v               1\n",
              "2   4390038  VlhGrp0-M               1\n",
              "3   6779720  UfolOSfq_               1\n",
              "4   7438985  0ZpSCTZmI               1"
            ]
          },
          "metadata": {
            "tags": []
          },
          "execution_count": 7
        }
      ]
    },
    {
      "metadata": {
        "id": "sbIal5_iQaoz",
        "colab_type": "code",
        "colab": {}
      },
      "cell_type": "code",
      "source": [
        "stats = df.describe()"
      ],
      "execution_count": 0,
      "outputs": []
    },
    {
      "metadata": {
        "id": "4vUtOAFBQ54a",
        "colab_type": "code",
        "colab": {
          "base_uri": "https://localhost:8080/",
          "height": 119
        },
        "outputId": "0b8231ef-6b40-4246-f391-a667c34c222b"
      },
      "cell_type": "code",
      "source": [
        "# the rating is the numberOfVisits scaled to be in the range 0-1\n",
        "median = stats['numberOfVisits']['50%']\n",
        "df['rating'] = 0.3 * df['numberOfVisits'] / median\n",
        "df[df['rating'] > 1]['rating'] = 1"
      ],
      "execution_count": 9,
      "outputs": [
        {
          "output_type": "stream",
          "text": [
            "/usr/local/lib/python2.7/dist-packages/ipykernel_launcher.py:3: SettingWithCopyWarning: \n",
            "A value is trying to be set on a copy of a slice from a DataFrame.\n",
            "Try using .loc[row_indexer,col_indexer] = value instead\n",
            "\n",
            "See the caveats in the documentation: http://pandas.pydata.org/pandas-docs/stable/indexing.html#indexing-view-versus-copy\n",
            "  This is separate from the ipykernel package so we can avoid doing imports until\n"
          ],
          "name": "stderr"
        }
      ]
    },
    {
      "metadata": {
        "id": "MMuF98CzRRCS",
        "colab_type": "code",
        "colab": {}
      },
      "cell_type": "code",
      "source": [
        "del df['numberOfVisits']"
      ],
      "execution_count": 0,
      "outputs": []
    },
    {
      "metadata": {
        "id": "rSYVufXwSJyT",
        "colab_type": "code",
        "colab": {}
      },
      "cell_type": "code",
      "source": [
        "!rm -rf data\n",
        "!mkdir data"
      ],
      "execution_count": 0,
      "outputs": []
    },
    {
      "metadata": {
        "id": "-acLtFE-Sc_T",
        "colab_type": "code",
        "colab": {}
      },
      "cell_type": "code",
      "source": [
        "df.to_csv('data/collab_raw.csv', index=False, header=False)"
      ],
      "execution_count": 0,
      "outputs": []
    },
    {
      "metadata": {
        "id": "IbL7i1m4Sho6",
        "colab_type": "code",
        "outputId": "2192c9b6-bc22-451d-a30d-f24f2e1dcef1",
        "colab": {
          "base_uri": "https://localhost:8080/",
          "height": 68
        }
      },
      "cell_type": "code",
      "source": [
        "# upload to bucket just in case that the local csv be erased\n",
        "!gsutil cp 'data/collab_raw.csv'  gs://{BUCKET}/collab_raw.csv "
      ],
      "execution_count": 13,
      "outputs": [
        {
          "output_type": "stream",
          "text": [
            "Copying file://data/collab_raw.csv [Content-Type=text/csv]...\n",
            "/ [1 files][215.1 KiB/215.1 KiB]                                                \n",
            "Operation completed over 1 objects/215.1 KiB.                                    \n"
          ],
          "name": "stdout"
        }
      ]
    },
    {
      "metadata": {
        "id": "aau8DYWVTaVz",
        "colab_type": "code",
        "outputId": "a45c3f49-0c16-406f-fb92-7872b909e615",
        "colab": {
          "base_uri": "https://localhost:8080/",
          "height": 187
        }
      },
      "cell_type": "code",
      "source": [
        "!head data/collab_raw.csv"
      ],
      "execution_count": 14,
      "outputs": [
        {
          "output_type": "stream",
          "text": [
            "7003253,nLBCbDNAc,0.3\n",
            "3828642,oadkSDA7v,0.3\n",
            "4390038,VlhGrp0-M,0.3\n",
            "6779720,UfolOSfq_,0.3\n",
            "7438985,0ZpSCTZmI,0.3\n",
            "4614746,mv3bSgwD0,0.3\n",
            "4894674,mQAcCfHZn,0.6\n",
            "3729812,-oEBh31DE,0.3\n",
            "3660364,k4JktPu_S,0.3\n",
            "6655995,fHJ_wRDU9,0.3\n"
          ],
          "name": "stdout"
        }
      ]
    }
  ]
}