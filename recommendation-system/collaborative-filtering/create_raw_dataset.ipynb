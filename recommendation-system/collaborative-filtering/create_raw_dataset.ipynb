{
  "nbformat": 4,
  "nbformat_minor": 0,
  "metadata": {
    "colab": {
      "name": "wals.ipynb",
      "version": "0.3.2",
      "provenance": []
    },
    "kernelspec": {
      "display_name": "Python 2",
      "language": "python",
      "name": "python2"
    }
  },
  "cells": [
    {
      "metadata": {
        "id": "sl8gnHjeu_nC",
        "colab_type": "text"
      },
      "cell_type": "markdown",
      "source": [
        "# Collaborative filtering using WALS algorithm | 1"
      ]
    },
    {
      "metadata": {
        "id": "GuTfYGbzWhK_",
        "colab_type": "text"
      },
      "cell_type": "markdown",
      "source": [
        "## Create raw dataset"
      ]
    },
    {
      "metadata": {
        "id": "i_IiSzwmvQJx",
        "colab_type": "code",
        "colab": {}
      },
      "cell_type": "code",
      "source": [
        "PROJECT = 'qwiklabs-gcp-4a684069c4776675'\n",
        "BUCKET = 'colaborative-filtering-agea'\n",
        "REGION = 'us-central1'"
      ],
      "execution_count": 0,
      "outputs": []
    },
    {
      "metadata": {
        "id": "ZGjYqlL1v5JT",
        "colab_type": "code",
        "colab": {}
      },
      "cell_type": "code",
      "source": [
        "from google.cloud import bigquery\n",
        "from google.colab import auth"
      ],
      "execution_count": 0,
      "outputs": []
    },
    {
      "metadata": {
        "id": "m6hREOkTyMh9",
        "colab_type": "code",
        "colab": {}
      },
      "cell_type": "code",
      "source": [
        "auth.authenticate_user()"
      ],
      "execution_count": 0,
      "outputs": []
    },
    {
      "metadata": {
        "id": "MTEi-Ds7_6H8",
        "colab_type": "code",
        "outputId": "e3410aa7-517b-491e-d8e1-dd9dc745f7d4",
        "colab": {
          "base_uri": "https://localhost:8080/",
          "height": 204
        }
      },
      "cell_type": "code",
      "source": [
        "sql = \"\"\"\n",
        "#standardSQL\n",
        "SELECT \n",
        "  Dataset_B.user_id as visitorId,\n",
        "  Dataset_A.content_id as contentId,\n",
        "  COUNT(Dataset_B.user_id) as numberOfVisits\n",
        "\n",
        "  FROM AGEA_ASL.Dataset_A LEFT JOIN AGEA_ASL.Dataset_B \n",
        "  ON Dataset_A.content_id = Dataset_B.content_id\n",
        "  GROUP BY contentId,visitorId\n",
        "\"\"\"\n",
        "df = client.query(sql + 'LIMIT 1000').to_dataframe() # TODO: SACAR LIMIT\n",
        "df.head()"
      ],
      "execution_count": 0,
      "outputs": [
        {
          "output_type": "execute_result",
          "data": {
            "text/html": [
              "<div>\n",
              "<style scoped>\n",
              "    .dataframe tbody tr th:only-of-type {\n",
              "        vertical-align: middle;\n",
              "    }\n",
              "\n",
              "    .dataframe tbody tr th {\n",
              "        vertical-align: top;\n",
              "    }\n",
              "\n",
              "    .dataframe thead th {\n",
              "        text-align: right;\n",
              "    }\n",
              "</style>\n",
              "<table border=\"1\" class=\"dataframe\">\n",
              "  <thead>\n",
              "    <tr style=\"text-align: right;\">\n",
              "      <th></th>\n",
              "      <th>visitorId</th>\n",
              "      <th>contentId</th>\n",
              "      <th>numberOfVisits</th>\n",
              "    </tr>\n",
              "  </thead>\n",
              "  <tbody>\n",
              "    <tr>\n",
              "      <th>0</th>\n",
              "      <td>3354744</td>\n",
              "      <td>iSxtIl20T</td>\n",
              "      <td>1</td>\n",
              "    </tr>\n",
              "    <tr>\n",
              "      <th>1</th>\n",
              "      <td>6173819</td>\n",
              "      <td>YseZiW82j</td>\n",
              "      <td>1</td>\n",
              "    </tr>\n",
              "    <tr>\n",
              "      <th>2</th>\n",
              "      <td>4721998</td>\n",
              "      <td>a6OfN4vlk</td>\n",
              "      <td>1</td>\n",
              "    </tr>\n",
              "    <tr>\n",
              "      <th>3</th>\n",
              "      <td>3828869</td>\n",
              "      <td>vF3slXjBT</td>\n",
              "      <td>1</td>\n",
              "    </tr>\n",
              "    <tr>\n",
              "      <th>4</th>\n",
              "      <td>4873900</td>\n",
              "      <td>ZWc35_MGK</td>\n",
              "      <td>1</td>\n",
              "    </tr>\n",
              "  </tbody>\n",
              "</table>\n",
              "</div>"
            ],
            "text/plain": [
              "  visitorId  contentId  numberOfVisits\n",
              "0   3354744  iSxtIl20T               1\n",
              "1   6173819  YseZiW82j               1\n",
              "2   4721998  a6OfN4vlk               1\n",
              "3   3828869  vF3slXjBT               1\n",
              "4   4873900  ZWc35_MGK               1"
            ]
          },
          "metadata": {
            "tags": []
          },
          "execution_count": 80
        }
      ]
    },
    {
      "metadata": {
        "id": "sbIal5_iQaoz",
        "colab_type": "code",
        "outputId": "ec33fa64-b07a-456d-b5b3-3526b5cf4e36",
        "colab": {
          "base_uri": "https://localhost:8080/",
          "height": 297
        }
      },
      "cell_type": "code",
      "source": [
        "stats = df.describe()"
      ],
      "execution_count": 0,
      "outputs": [
        {
          "output_type": "execute_result",
          "data": {
            "text/html": [
              "<div>\n",
              "<style scoped>\n",
              "    .dataframe tbody tr th:only-of-type {\n",
              "        vertical-align: middle;\n",
              "    }\n",
              "\n",
              "    .dataframe tbody tr th {\n",
              "        vertical-align: top;\n",
              "    }\n",
              "\n",
              "    .dataframe thead th {\n",
              "        text-align: right;\n",
              "    }\n",
              "</style>\n",
              "<table border=\"1\" class=\"dataframe\">\n",
              "  <thead>\n",
              "    <tr style=\"text-align: right;\">\n",
              "      <th></th>\n",
              "      <th>numberOfVisits</th>\n",
              "    </tr>\n",
              "  </thead>\n",
              "  <tbody>\n",
              "    <tr>\n",
              "      <th>count</th>\n",
              "      <td>1000.000000</td>\n",
              "    </tr>\n",
              "    <tr>\n",
              "      <th>mean</th>\n",
              "      <td>1.027000</td>\n",
              "    </tr>\n",
              "    <tr>\n",
              "      <th>std</th>\n",
              "      <td>0.174073</td>\n",
              "    </tr>\n",
              "    <tr>\n",
              "      <th>min</th>\n",
              "      <td>1.000000</td>\n",
              "    </tr>\n",
              "    <tr>\n",
              "      <th>25%</th>\n",
              "      <td>1.000000</td>\n",
              "    </tr>\n",
              "    <tr>\n",
              "      <th>50%</th>\n",
              "      <td>1.000000</td>\n",
              "    </tr>\n",
              "    <tr>\n",
              "      <th>75%</th>\n",
              "      <td>1.000000</td>\n",
              "    </tr>\n",
              "    <tr>\n",
              "      <th>max</th>\n",
              "      <td>3.000000</td>\n",
              "    </tr>\n",
              "  </tbody>\n",
              "</table>\n",
              "</div>"
            ],
            "text/plain": [
              "       numberOfVisits\n",
              "count     1000.000000\n",
              "mean         1.027000\n",
              "std          0.174073\n",
              "min          1.000000\n",
              "25%          1.000000\n",
              "50%          1.000000\n",
              "75%          1.000000\n",
              "max          3.000000"
            ]
          },
          "metadata": {
            "tags": []
          },
          "execution_count": 82
        }
      ]
    },
    {
      "metadata": {
        "id": "4vUtOAFBQ54a",
        "colab_type": "code",
        "colab": {}
      },
      "cell_type": "code",
      "source": [
        "# the rating is the numberOfVisits scaled to be in the range 0-1\n",
        "median = stats['numberOfVisits']['50%']\n",
        "df['rating'] = 0.3 * df['numberOfVisits'] / median\n",
        "df[df['rating'] > 1]['rating'] = 1"
      ],
      "execution_count": 0,
      "outputs": []
    },
    {
      "metadata": {
        "id": "MMuF98CzRRCS",
        "colab_type": "code",
        "colab": {}
      },
      "cell_type": "code",
      "source": [
        "del df['numberOfVisits']"
      ],
      "execution_count": 0,
      "outputs": []
    },
    {
      "metadata": {
        "id": "rSYVufXwSJyT",
        "colab_type": "code",
        "colab": {}
      },
      "cell_type": "code",
      "source": [
        "!rm -rf data\n",
        "!mkdir data"
      ],
      "execution_count": 0,
      "outputs": []
    },
    {
      "metadata": {
        "id": "-acLtFE-Sc_T",
        "colab_type": "code",
        "colab": {}
      },
      "cell_type": "code",
      "source": [
        "df.to_csv('data/collab_raw.csv', index=False, header=False)"
      ],
      "execution_count": 0,
      "outputs": []
    },
    {
      "metadata": {
        "id": "IbL7i1m4Sho6",
        "colab_type": "code",
        "outputId": "092338db-f8e9-48d4-f9f8-5f31a7d944f9",
        "colab": {
          "base_uri": "https://localhost:8080/",
          "height": 68
        }
      },
      "cell_type": "code",
      "source": [
        "# upload to bucket just in case that the local csv be erased\n",
        "!gsutil cp 'data/collab_raw.csv'  gs://{BUCKET}/collab_raw.csv "
      ],
      "execution_count": 0,
      "outputs": [
        {
          "output_type": "stream",
          "text": [
            "Copying file://data/collab_raw.csv [Content-Type=text/csv]...\n",
            "/ [0 files][    0.0 B/ 21.5 KiB]                                                \r/ [1 files][ 21.5 KiB/ 21.5 KiB]                                                \r\n",
            "Operation completed over 1 objects/21.5 KiB.                                     \n"
          ],
          "name": "stdout"
        }
      ]
    },
    {
      "metadata": {
        "id": "aau8DYWVTaVz",
        "colab_type": "code",
        "outputId": "aa374e49-2e5c-47bb-c812-3e95f77de912",
        "colab": {
          "base_uri": "https://localhost:8080/",
          "height": 187
        }
      },
      "cell_type": "code",
      "source": [
        "!head data/collab_raw.csv"
      ],
      "execution_count": 0,
      "outputs": [
        {
          "output_type": "stream",
          "text": [
            "3354744,iSxtIl20T,0.3\n",
            "6173819,YseZiW82j,0.3\n",
            "4721998,a6OfN4vlk,0.3\n",
            "3828869,vF3slXjBT,0.3\n",
            "4873900,ZWc35_MGK,0.3\n",
            "5897171,e9Sq0o8Mz,0.3\n",
            "4207853,qTIuTHv3D,0.3\n",
            "6280619,6gNoVtDlH,0.3\n",
            "3858068,dGiHrgot6,0.3\n",
            "6429652,StXtMQRp6,0.3\n"
          ],
          "name": "stdout"
        }
      ]
    }
  ]
}