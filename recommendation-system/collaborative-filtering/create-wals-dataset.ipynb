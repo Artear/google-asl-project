{
  "nbformat": 4,
  "nbformat_minor": 0,
  "metadata": {
    "colab": {
      "name": "create_walls_dataset.ipynb",
      "version": "0.3.2",
      "provenance": [],
      "include_colab_link": true
    },
    "kernelspec": {
      "name": "python3",
      "display_name": "Python 3"
    }
  },
  "cells": [
    {
      "cell_type": "markdown",
      "metadata": {
        "id": "view-in-github",
        "colab_type": "text"
      },
      "source": [
        "<a href=\"https://colab.research.google.com/github/marianoogimenez/google-asl-project/blob/master/recommendation-system/collaborative-filtering/create-wals-dataset.ipynb\" target=\"_parent\"><img src=\"https://colab.research.google.com/assets/colab-badge.svg\" alt=\"Open In Colab\"/></a>"
      ]
    },
    {
      "metadata": {
        "id": "jXukPiNkZxo9",
        "colab_type": "text"
      },
      "cell_type": "markdown",
      "source": [
        "# Collaborative filtering using WALS algorithm  | 2"
      ]
    },
    {
      "metadata": {
        "id": "FywH4kegZzc_",
        "colab_type": "text"
      },
      "cell_type": "markdown",
      "source": [
        "## Create walls dataset"
      ]
    },
    {
      "metadata": {
        "id": "zmrbI23TYgQV",
        "colab_type": "code",
        "colab": {}
      },
      "cell_type": "code",
      "source": [
        "PROJECT = 'qwiklabs-gcp-4a684069c4776675'\n",
        "BUCKET = 'colaborative-filtering-agea'\n",
        "REGION = 'us-central1'"
      ],
      "execution_count": 0,
      "outputs": []
    },
    {
      "metadata": {
        "id": "NyzZrceSZSON",
        "colab_type": "code",
        "colab": {}
      },
      "cell_type": "code",
      "source": [
        "from google.colab import auth\n",
        "import pandas as pd\n",
        "import numpy as np\n",
        "import tensorflow as tf"
      ],
      "execution_count": 0,
      "outputs": []
    },
    {
      "metadata": {
        "id": "LmPUOiw1Z6J7",
        "colab_type": "code",
        "colab": {}
      },
      "cell_type": "code",
      "source": [
        "auth.authenticate_user()"
      ],
      "execution_count": 0,
      "outputs": []
    },
    {
      "metadata": {
        "id": "EK99cjocZ-j-",
        "colab_type": "text"
      },
      "cell_type": "markdown",
      "source": [
        "### Mapping"
      ]
    },
    {
      "metadata": {
        "id": "_fAbjR9maIn3",
        "colab_type": "code",
        "colab": {}
      },
      "cell_type": "code",
      "source": [
        "def create_mapping(values, filename):\n",
        "  with open(filename, 'w') as ofp:\n",
        "    value_to_id = {value:idx for idx, value in enumerate(values.unique())}\n",
        "    for value, idx in value_to_id.items():\n",
        "      ofp.write('{},{}\\n'.format(value, idx))\n",
        "  return value_to_id\n"
      ],
      "execution_count": 0,
      "outputs": []
    },
    {
      "metadata": {
        "id": "zbsjNuj-b1-d",
        "colab_type": "code",
        "outputId": "720c3a51-eb9b-438c-89e9-80a5b34c5285",
        "colab": {
          "base_uri": "https://localhost:8080/",
          "height": 68
        }
      },
      "cell_type": "code",
      "source": [
        "!gsutil cp gs://{BUCKET}/collab_raw.csv  'data/collab_raw.csv'  "
      ],
      "execution_count": 6,
      "outputs": [
        {
          "output_type": "stream",
          "text": [
            "Copying gs://colaborative-filtering-agea/collab_raw.csv...\n",
            "/ [1 files][ 21.5 KiB/ 21.5 KiB]                                                \n",
            "Operation completed over 1 objects/21.5 KiB.                                     \n"
          ],
          "name": "stdout"
        }
      ]
    },
    {
      "metadata": {
        "id": "9U6DCIFMaTQo",
        "colab_type": "code",
        "colab": {}
      },
      "cell_type": "code",
      "source": [
        "df = pd.read_csv('data/collab_raw.csv',\n",
        "                 header=None,\n",
        "                 names=['visitorId', 'contentId', 'rating'],\n",
        "                dtype={'visitorId': str, 'contentId': str, 'rating': np.float})"
      ],
      "execution_count": 0,
      "outputs": []
    },
    {
      "metadata": {
        "id": "vyZnMPMecZtk",
        "colab_type": "code",
        "colab": {}
      },
      "cell_type": "code",
      "source": [
        "user_mapping = create_mapping(df['visitorId'], 'data/users.csv')\n",
        "item_mapping = create_mapping(df['contentId'], 'data/items.csv')"
      ],
      "execution_count": 0,
      "outputs": []
    },
    {
      "metadata": {
        "id": "ln-EZcsdd_hk",
        "colab_type": "code",
        "outputId": "6cf08ec8-bcac-498a-b594-0337663b6a62",
        "colab": {
          "base_uri": "https://localhost:8080/",
          "height": 119
        }
      },
      "cell_type": "code",
      "source": [
        "#copy to bucket\n",
        "!gsutil cp 'data/users.csv'  gs://{BUCKET}/users.csv   \n",
        "!gsutil cp 'data/items.csv'  gs://{BUCKET}/items.csv  "
      ],
      "execution_count": 9,
      "outputs": [
        {
          "output_type": "stream",
          "text": [
            "Copying file://data/users.csv [Content-Type=text/csv]...\n",
            "/ [1 files][ 11.6 KiB/ 11.6 KiB]                                                \n",
            "Operation completed over 1 objects/11.6 KiB.                                     \n",
            "Copying file://data/items.csv [Content-Type=text/csv]...\n",
            "/ [1 files][ 12.0 KiB/ 12.0 KiB]                                                \n",
            "Operation completed over 1 objects/12.0 KiB.                                     \n"
          ],
          "name": "stdout"
        }
      ]
    },
    {
      "metadata": {
        "id": "wAxv2ybDdwOH",
        "colab_type": "code",
        "colab": {}
      },
      "cell_type": "code",
      "source": [
        "df['userId'] = df['visitorId'].map(user_mapping.get)\n",
        "df['itemId'] = df['contentId'].map(item_mapping.get)"
      ],
      "execution_count": 0,
      "outputs": []
    },
    {
      "metadata": {
        "id": "HGsWI-pJgBwt",
        "colab_type": "code",
        "outputId": "ccd133ce-6d7c-4bda-df98-dba538ec4763",
        "colab": {
          "base_uri": "https://localhost:8080/",
          "height": 204
        }
      },
      "cell_type": "code",
      "source": [
        "mapped_df = df[['userId', 'itemId', 'rating']]\n",
        "mapped_df.to_csv('data/collab_mapped.csv', index=False, header=False)\n",
        "mapped_df.head()"
      ],
      "execution_count": 32,
      "outputs": [
        {
          "output_type": "execute_result",
          "data": {
            "text/html": [
              "<div>\n",
              "<style scoped>\n",
              "    .dataframe tbody tr th:only-of-type {\n",
              "        vertical-align: middle;\n",
              "    }\n",
              "\n",
              "    .dataframe tbody tr th {\n",
              "        vertical-align: top;\n",
              "    }\n",
              "\n",
              "    .dataframe thead th {\n",
              "        text-align: right;\n",
              "    }\n",
              "</style>\n",
              "<table border=\"1\" class=\"dataframe\">\n",
              "  <thead>\n",
              "    <tr style=\"text-align: right;\">\n",
              "      <th></th>\n",
              "      <th>userId</th>\n",
              "      <th>itemId</th>\n",
              "      <th>rating</th>\n",
              "    </tr>\n",
              "  </thead>\n",
              "  <tbody>\n",
              "    <tr>\n",
              "      <th>0</th>\n",
              "      <td>0</td>\n",
              "      <td>0</td>\n",
              "      <td>0.3</td>\n",
              "    </tr>\n",
              "    <tr>\n",
              "      <th>1</th>\n",
              "      <td>1</td>\n",
              "      <td>1</td>\n",
              "      <td>0.3</td>\n",
              "    </tr>\n",
              "    <tr>\n",
              "      <th>2</th>\n",
              "      <td>2</td>\n",
              "      <td>2</td>\n",
              "      <td>0.3</td>\n",
              "    </tr>\n",
              "    <tr>\n",
              "      <th>3</th>\n",
              "      <td>3</td>\n",
              "      <td>3</td>\n",
              "      <td>0.3</td>\n",
              "    </tr>\n",
              "    <tr>\n",
              "      <th>4</th>\n",
              "      <td>4</td>\n",
              "      <td>4</td>\n",
              "      <td>0.3</td>\n",
              "    </tr>\n",
              "  </tbody>\n",
              "</table>\n",
              "</div>"
            ],
            "text/plain": [
              "   userId  itemId  rating\n",
              "0       0       0     0.3\n",
              "1       1       1     0.3\n",
              "2       2       2     0.3\n",
              "3       3       3     0.3\n",
              "4       4       4     0.3"
            ]
          },
          "metadata": {
            "tags": []
          },
          "execution_count": 32
        }
      ]
    },
    {
      "metadata": {
        "id": "8FJMh3ska1__",
        "colab_type": "code",
        "colab": {
          "base_uri": "https://localhost:8080/",
          "height": 34
        },
        "outputId": "f1e10513-048d-43e2-d8e1-01d162c63b8e"
      },
      "cell_type": "code",
      "source": [
        "mapped_df = pd.read_csv('data/collab_mapped.csv', header=None, names=['userId', 'itemId', 'rating'])\n",
        "NITEMS = np.max(mapped_df['itemId']) + 1\n",
        "NUSERS = np.max(mapped_df['userId'])+1\n",
        "mapped_df['rating'] = np.round(mapped_df['rating'].values, 2)\n",
        "print('{} items, {} users, {} interactions'.format( NITEMS, NUSERS, len(mapped_df) ))"
      ],
      "execution_count": 23,
      "outputs": [
        {
          "output_type": "stream",
          "text": [
            "884 items, 998 users, 1000 interactions\n"
          ],
          "name": "stdout"
        }
      ]
    },
    {
      "metadata": {
        "id": "8WQi_5Daba25",
        "colab_type": "code",
        "colab": {}
      },
      "cell_type": "code",
      "source": [
        "grouped_by_items = mapped_df.groupby('itemId')"
      ],
      "execution_count": 0,
      "outputs": []
    },
    {
      "metadata": {
        "id": "MQ3ukG41dZOj",
        "colab_type": "code",
        "colab": {
          "base_uri": "https://localhost:8080/",
          "height": 119
        },
        "outputId": "969ac836-a189-48ec-a784-c867bdae58d8"
      },
      "cell_type": "code",
      "source": [
        "iter = 0\n",
        "for item, grouped in grouped_by_items:\n",
        "  print(item, grouped['userId'].values, grouped['rating'].values)\n",
        "  iter = iter + 1\n",
        "  if iter > 5:\n",
        "    break"
      ],
      "execution_count": 33,
      "outputs": [
        {
          "output_type": "stream",
          "text": [
            "0 [ 0 26] [0.3 0.3]\n",
            "1 [1] [0.3]\n",
            "2 [2] [0.3]\n",
            "3 [3] [0.3]\n",
            "4 [4] [0.3]\n",
            "5 [  5 341] [0.3 0.3]\n"
          ],
          "name": "stdout"
        }
      ]
    },
    {
      "metadata": {
        "id": "ofusooBucjDV",
        "colab_type": "code",
        "colab": {}
      },
      "cell_type": "code",
      "source": [
        "grouped_by_items = mapped_df.groupby('itemId')\n",
        "with tf.python_io.TFRecordWriter('data/users_for_item') as ofp:\n",
        "  for item, grouped in grouped_by_items:\n",
        "    example = tf.train.Example(features=tf.train.Features(feature={\n",
        "          'key': tf.train.Feature(int64_list=tf.train.Int64List(value=[item])),\n",
        "          'indices': tf.train.Feature(int64_list=tf.train.Int64List(value=grouped['userId'].values)),\n",
        "          'values': tf.train.Feature(float_list=tf.train.FloatList(value=grouped['rating'].values))\n",
        "        }))\n",
        "    ofp.write(example.SerializeToString())"
      ],
      "execution_count": 0,
      "outputs": []
    },
    {
      "metadata": {
        "id": "Gztn-FNieOgf",
        "colab_type": "code",
        "colab": {}
      },
      "cell_type": "code",
      "source": [
        "grouped_by_users = mapped_df.groupby('userId')\n",
        "with tf.python_io.TFRecordWriter('data/items_for_user') as ofp:\n",
        "  for user, grouped in grouped_by_users:\n",
        "    example = tf.train.Example(features=tf.train.Features(feature={\n",
        "          'key': tf.train.Feature(int64_list=tf.train.Int64List(value=[user])),\n",
        "          'indices': tf.train.Feature(int64_list=tf.train.Int64List(value=grouped['itemId'].values)),\n",
        "          'values': tf.train.Feature(float_list=tf.train.FloatList(value=grouped['rating'].values))\n",
        "        }))\n",
        "    ofp.write(example.SerializeToString())"
      ],
      "execution_count": 0,
      "outputs": []
    },
    {
      "metadata": {
        "id": "Ze84m0PxfWUz",
        "colab_type": "code",
        "colab": {
          "base_uri": "https://localhost:8080/",
          "height": 136
        },
        "outputId": "c568735e-3fc4-4306-f699-efbd88756b4f"
      },
      "cell_type": "code",
      "source": [
        "!ls -lrt data"
      ],
      "execution_count": 40,
      "outputs": [
        {
          "output_type": "stream",
          "text": [
            "total 196\n",
            "-rw-r--r-- 1 root root 22036 Mar  2 08:01 collab_raw.csv\n",
            "-rw-r--r-- 1 root root 11864 Mar  2 08:01 users.csv\n",
            "-rw-r--r-- 1 root root 12274 Mar  2 08:01 items.csv\n",
            "-rw-r--r-- 1 root root 11784 Mar  2 08:11 collab_mapped.csv\n",
            "-rw-r--r-- 1 root root 64088 Mar  2 08:20 users_for_item\n",
            "-rw-r--r-- 1 root root 71583 Mar  2 08:20 items_for_user\n"
          ],
          "name": "stdout"
        }
      ]
    }
  ]
}