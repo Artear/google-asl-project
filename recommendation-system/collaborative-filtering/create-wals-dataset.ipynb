{
 "cells": [
  {
   "cell_type": "markdown",
   "metadata": {
    "colab_type": "text",
    "id": "jXukPiNkZxo9"
   },
   "source": [
    "# Collaborative filtering using WALS algorithm  | 2"
   ]
  },
  {
   "cell_type": "markdown",
   "metadata": {
    "colab_type": "text",
    "id": "FywH4kegZzc_"
   },
   "source": [
    "## Create walls dataset"
   ]
  },
  {
   "cell_type": "code",
   "execution_count": 3,
   "metadata": {
    "colab": {},
    "colab_type": "code",
    "id": "zmrbI23TYgQV"
   },
   "outputs": [],
   "source": [
    "PROJECT = 'qwiklabs-gcp-4a684069c4776675'\n",
    "BUCKET = 'colaborative-filtering-agea'\n",
    "REGION = 'us-central1'"
   ]
  },
  {
   "cell_type": "code",
   "execution_count": 4,
   "metadata": {
    "colab": {},
    "colab_type": "code",
    "id": "NyzZrceSZSON"
   },
   "outputs": [
    {
     "name": "stderr",
     "output_type": "stream",
     "text": [
      "/usr/local/envs/py3env/lib/python3.5/site-packages/h5py/__init__.py:36: FutureWarning: Conversion of the second argument of issubdtype from `float` to `np.floating` is deprecated. In future, it will be treated as `np.float64 == np.dtype(float).type`.\n",
      "  from ._conv import register_converters as _register_converters\n"
     ]
    }
   ],
   "source": [
    "import pandas as pd\n",
    "import numpy as np\n",
    "import tensorflow as tf"
   ]
  },
  {
   "cell_type": "code",
   "execution_count": 0,
   "metadata": {
    "colab": {},
    "colab_type": "code",
    "id": "LmPUOiw1Z6J7"
   },
   "outputs": [],
   "source": [
    "from google.colab import auth\n",
    "auth.authenticate_user()"
   ]
  },
  {
   "cell_type": "markdown",
   "metadata": {
    "colab_type": "text",
    "id": "EK99cjocZ-j-"
   },
   "source": [
    "### Mapping"
   ]
  },
  {
   "cell_type": "code",
   "execution_count": 5,
   "metadata": {
    "colab": {},
    "colab_type": "code",
    "id": "_fAbjR9maIn3"
   },
   "outputs": [],
   "source": [
    "def create_mapping(values, filename):\n",
    "  with open(filename, 'w') as ofp:\n",
    "    value_to_id = {value:idx for idx, value in enumerate(values.unique())}\n",
    "    for value, idx in value_to_id.items():\n",
    "      ofp.write('{},{}\\n'.format(value, idx))\n",
    "  return value_to_id\n"
   ]
  },
  {
   "cell_type": "code",
   "execution_count": 6,
   "metadata": {
    "colab": {
     "base_uri": "https://8080-dot-6301579-dot-devshell.appspot.com/",
     "height": 68
    },
    "colab_type": "code",
    "id": "zbsjNuj-b1-d",
    "outputId": "a7ce6853-1145-4ef8-80cc-a7291418a3c1"
   },
   "outputs": [
    {
     "name": "stdout",
     "output_type": "stream",
     "text": [
      "Copying gs://colaborative-filtering-agea/collab_raw.csv...\n",
      "==> NOTE: You are downloading one or more large file(s), which would            \n",
      "run significantly faster if you enabled sliced object downloads. This\n",
      "feature is enabled by default but requires that compiled crcmod be\n",
      "installed (see \"gsutil help crcmod\").\n",
      "\n",
      "| [1 files][835.9 MiB/835.9 MiB]                                                \n",
      "Operation completed over 1 objects/835.9 MiB.                                    \n"
     ]
    }
   ],
   "source": [
    "!gsutil cp gs://{BUCKET}/collab_raw.csv  'data/collab_raw.csv'  "
   ]
  },
  {
   "cell_type": "code",
   "execution_count": 7,
   "metadata": {
    "colab": {},
    "colab_type": "code",
    "id": "9U6DCIFMaTQo"
   },
   "outputs": [],
   "source": [
    "df = pd.read_csv('data/collab_raw.csv',\n",
    "                 header=None,\n",
    "                 names=['visitorId', 'contentId', 'rating'],\n",
    "                dtype={'visitorId': str, 'contentId': str, 'rating': np.float})"
   ]
  },
  {
   "cell_type": "code",
   "execution_count": 8,
   "metadata": {
    "colab": {},
    "colab_type": "code",
    "id": "vyZnMPMecZtk"
   },
   "outputs": [],
   "source": [
    "user_mapping = create_mapping(df['visitorId'], 'data/users.csv')\n",
    "item_mapping = create_mapping(df['contentId'], 'data/items.csv')"
   ]
  },
  {
   "cell_type": "code",
   "execution_count": 9,
   "metadata": {
    "colab": {
     "base_uri": "https://8080-dot-6301579-dot-devshell.appspot.com/",
     "height": 119
    },
    "colab_type": "code",
    "id": "ln-EZcsdd_hk",
    "outputId": "730882a8-153b-4dd6-8814-214281df4923"
   },
   "outputs": [
    {
     "name": "stdout",
     "output_type": "stream",
     "text": [
      "Copying file://data/users.csv [Content-Type=text/csv]...\n",
      "/ [1 files][ 15.5 MiB/ 15.5 MiB]                                                \n",
      "Operation completed over 1 objects/15.5 MiB.                                     \n",
      "Copying file://data/items.csv [Content-Type=text/csv]...\n",
      "/ [1 files][281.8 KiB/281.8 KiB]                                                \n",
      "Operation completed over 1 objects/281.8 KiB.                                    \n"
     ]
    }
   ],
   "source": [
    "#copy to bucket\n",
    "!gsutil cp 'data/users.csv'  gs://{BUCKET}/data/users.csv   \n",
    "!gsutil cp 'data/items.csv'  gs://{BUCKET}/data/items.csv  "
   ]
  },
  {
   "cell_type": "code",
   "execution_count": 10,
   "metadata": {
    "colab": {},
    "colab_type": "code",
    "id": "wAxv2ybDdwOH"
   },
   "outputs": [],
   "source": [
    "df['userId'] = df['visitorId'].map(user_mapping.get)\n",
    "df['itemId'] = df['contentId'].map(item_mapping.get)"
   ]
  },
  {
   "cell_type": "code",
   "execution_count": 12,
   "metadata": {
    "colab": {
     "base_uri": "https://8080-dot-6301579-dot-devshell.appspot.com/",
     "height": 204
    },
    "colab_type": "code",
    "id": "HGsWI-pJgBwt",
    "outputId": "1b4e24a2-8348-4ee6-bdd8-ceb53a5cd31b"
   },
   "outputs": [
    {
     "data": {
      "text/html": [
       "<div>\n",
       "<style scoped>\n",
       "    .dataframe tbody tr th:only-of-type {\n",
       "        vertical-align: middle;\n",
       "    }\n",
       "\n",
       "    .dataframe tbody tr th {\n",
       "        vertical-align: top;\n",
       "    }\n",
       "\n",
       "    .dataframe thead th {\n",
       "        text-align: right;\n",
       "    }\n",
       "</style>\n",
       "<table border=\"1\" class=\"dataframe\">\n",
       "  <thead>\n",
       "    <tr style=\"text-align: right;\">\n",
       "      <th></th>\n",
       "      <th>userId</th>\n",
       "      <th>itemId</th>\n",
       "      <th>rating</th>\n",
       "    </tr>\n",
       "  </thead>\n",
       "  <tbody>\n",
       "    <tr>\n",
       "      <th>0</th>\n",
       "      <td>0</td>\n",
       "      <td>0</td>\n",
       "      <td>0.3</td>\n",
       "    </tr>\n",
       "    <tr>\n",
       "      <th>1</th>\n",
       "      <td>1</td>\n",
       "      <td>1</td>\n",
       "      <td>0.3</td>\n",
       "    </tr>\n",
       "    <tr>\n",
       "      <th>2</th>\n",
       "      <td>2</td>\n",
       "      <td>2</td>\n",
       "      <td>0.3</td>\n",
       "    </tr>\n",
       "    <tr>\n",
       "      <th>3</th>\n",
       "      <td>3</td>\n",
       "      <td>3</td>\n",
       "      <td>0.3</td>\n",
       "    </tr>\n",
       "    <tr>\n",
       "      <th>4</th>\n",
       "      <td>4</td>\n",
       "      <td>4</td>\n",
       "      <td>0.3</td>\n",
       "    </tr>\n",
       "  </tbody>\n",
       "</table>\n",
       "</div>"
      ],
      "text/plain": [
       "   userId  itemId  rating\n",
       "0       0       0     0.3\n",
       "1       1       1     0.3\n",
       "2       2       2     0.3\n",
       "3       3       3     0.3\n",
       "4       4       4     0.3"
      ]
     },
     "execution_count": 12,
     "metadata": {},
     "output_type": "execute_result"
    }
   ],
   "source": [
    "mapped_df = df[['userId', 'itemId', 'rating']]\n",
    "mapped_df.to_csv('data/collab_mapped.csv', index=False, header=False)\n",
    "mapped_df.head()"
   ]
  },
  {
   "cell_type": "code",
   "execution_count": 13,
   "metadata": {
    "colab": {
     "base_uri": "https://8080-dot-6301579-dot-devshell.appspot.com/",
     "height": 68
    },
    "colab_type": "code",
    "id": "PMn-mBNdmKyG",
    "outputId": "6e078065-e452-47c4-8c12-2d81077ddeda"
   },
   "outputs": [
    {
     "name": "stdout",
     "output_type": "stream",
     "text": [
      "Copying file://data/collab_mapped.csv [Content-Type=text/csv]...\n",
      "==> NOTE: You are uploading one or more large file(s), which would run          \n",
      "significantly faster if you enable parallel composite uploads. This\n",
      "feature can be enabled by editing the\n",
      "\"parallel_composite_upload_threshold\" value in your .boto\n",
      "configuration file. However, note that if you do this large files will\n",
      "be uploaded as `composite objects\n",
      "<https://cloud.google.com/storage/docs/composite-objects>`_,which\n",
      "means that any user who downloads such objects will need to have a\n",
      "compiled crcmod installed (see \"gsutil help crcmod\"). This is because\n",
      "without a compiled crcmod, computing checksums on composite objects is\n",
      "so slow that gsutil disables downloads of composite objects.\n",
      "\n",
      "| [1 files][584.7 MiB/584.7 MiB]                                                \n",
      "Operation completed over 1 objects/584.7 MiB.                                    \n"
     ]
    }
   ],
   "source": [
    "#copy to bucket\n",
    "!gsutil cp 'data/collab_mapped.csv'  gs://{BUCKET}/collab_mapped.csv   "
   ]
  },
  {
   "cell_type": "code",
   "execution_count": 14,
   "metadata": {
    "colab": {
     "base_uri": "https://8080-dot-6301579-dot-devshell.appspot.com/",
     "height": 34
    },
    "colab_type": "code",
    "id": "8FJMh3ska1__",
    "outputId": "03945488-dc05-4fb8-8a66-f9076c3a81a8"
   },
   "outputs": [
    {
     "name": "stdout",
     "output_type": "stream",
     "text": [
      "18715 items, 1086609 users, 39805654 interactions\n"
     ]
    }
   ],
   "source": [
    "mapped_df = pd.read_csv('data/collab_mapped.csv', header=None, names=['userId', 'itemId', 'rating'])\n",
    "NITEMS = np.max(mapped_df['itemId']) + 1\n",
    "NUSERS = np.max(mapped_df['userId'])+1\n",
    "mapped_df['rating'] = np.round(mapped_df['rating'].values, 2)\n",
    "print('{} items, {} users, {} interactions'.format( NITEMS, NUSERS, len(mapped_df) ))"
   ]
  },
  {
   "cell_type": "code",
   "execution_count": 15,
   "metadata": {
    "colab": {},
    "colab_type": "code",
    "id": "8WQi_5Daba25"
   },
   "outputs": [],
   "source": [
    "grouped_by_items = mapped_df.groupby('itemId')"
   ]
  },
  {
   "cell_type": "code",
   "execution_count": 16,
   "metadata": {
    "colab": {
     "base_uri": "https://8080-dot-6301579-dot-devshell.appspot.com/",
     "height": 119
    },
    "colab_type": "code",
    "id": "MQ3ukG41dZOj",
    "outputId": "c90ca397-d101-43d3-c00e-365d478871d6"
   },
   "outputs": [
    {
     "name": "stdout",
     "output_type": "stream",
     "text": [
      "0 [     0   5021  10934 ...   3511  90864 261148] [0.3 0.6 0.3 ... 0.3 0.3 0.3]\n",
      "1 [     1   3374   5969 ... 220505 194098 158559] [0.3 0.3 0.3 ... 0.3 0.3 0.3]\n",
      "2 [     2   3871 176572 373585 452550 159525 134694 484080 295122  24213\n",
      "  68074 524830   7949  56810 226671 414522 488148 370721 330521 146764\n",
      " 364879 357275 554002 645689 104938 124695 613265 108011 505155   1666\n",
      " 749902  32414  23650 929761 174658 649411  26677  83009 311890  21238\n",
      "  97548 559865  88011 425794   1183  12461 280568  46510  88463 912410\n",
      " 219975 369836 981777 515242 247724 275596 998094  38669 443068  95711\n",
      " 475341  30630 680153 494881 624552 107050   8898 778535   3381 272900\n",
      " 124653 661368 247118 549424 317373 284688 164981 132233 180197 296518\n",
      " 266172 115874 351902  61918 462685 434978 290913 521438 358747 644847\n",
      " 661394 175949  66788  28899 137625 159507] [0.3 0.3 0.3 0.3 0.3 0.3 0.3 0.3 0.3 0.3 0.3 0.3 0.3 0.3 0.3 0.3 0.6 0.3\n",
      " 0.3 0.3 0.3 0.6 0.3 0.3 0.3 0.3 0.3 0.3 0.3 0.3 0.3 0.3 0.3 0.6 0.3 0.3\n",
      " 0.6 0.3 0.6 0.3 0.3 0.3 0.3 0.3 0.3 0.3 0.3 0.3 0.3 0.3 0.3 0.3 0.3 0.3\n",
      " 0.3 0.3 0.3 0.3 0.3 0.3 0.3 0.3 0.3 0.3 0.3 0.3 0.3 0.6 0.3 0.3 0.3 0.3\n",
      " 0.3 0.3 0.3 0.3 0.3 0.3 0.3 0.3 0.3 0.3 0.3 0.3 0.3 0.3 0.3 0.3 0.3 0.3\n",
      " 0.3 0.3 0.3 0.3 0.3 0.3]\n",
      "3 [      3     483  111015   55203   11035  146815  253348  275839   63627\n",
      "  172300  135068  115048   49887   26874  258354  130469   38467  440928\n",
      "   78968   37587  400560  403855  485068  506483  511441  475322   55699\n",
      "  454188  241984   60504   67336   96913  306302   32049  591206  308901\n",
      "  340153  153098  613859   40041   61168  413178  427402  131931  190270\n",
      "  655884  275834  306296  390694   71479   21041  244305  321396  705747\n",
      "   51703  430296  109414    4485  513249  461740   32017  178108  357864\n",
      "  198954  224925   15139  617751  337949   55830  205992   20710  119512\n",
      "  461211   11466   81131  328530   64593  213131  312607   18314   18925\n",
      "   30302  776263   16891  781697   31894   72687   80123   16340    3086\n",
      "  547576   30910  796097  153719   35541  483307   50985  812150  319803\n",
      "   75013  250282  442986   45593  454838  651718   41828  182455  577134\n",
      "  459431   70019  832374  833398   36138  663938   40585  692459  133009\n",
      "   25462  428500  523380   78012    5671  352652  562960  657788  300956\n",
      "   11705   33796  338179    9439  334079   96336  277331  259524   26813\n",
      "  640741  863690   32530  390015  867285  308608   54378  699601  233001\n",
      "   43147  341440   47470  633702    5598  127612  416051  228774  345527\n",
      "   28766  219490  513248  190433   83415   36421  826586    8319  513651\n",
      "  119922  405072   31741   94347   49761  142384  391817   21631  797138\n",
      "  902306  241361  903180   54277  845115  190797  119528  471290  904860\n",
      "  265731  392585   37729   59614  223000  517353   30814  249634  171764\n",
      "    9973   87104  296508  731797  392011  319736  354688  164079  229607\n",
      "   61299  179316   71692   22009  127101   29140  169690   85061  701603\n",
      "  234291   29325    5386  352512  507815  384132   55116  151803  873692\n",
      "    4772   64168  932851   10281   48693   44036   40242   41693   26303\n",
      "   48231  192612  314203  483250  589615  300816  426521  221759  464265\n",
      "  220721  548002  121354  109311  409945  746414  586746  772071   35838\n",
      "   29429  251344  184248  291628   22308   38457  230275  207413  393665\n",
      "  921707   80165  183790  245263  351790    4783  100338  435790   20938\n",
      "   37702   47460  517648   80178  588414  964498  652940  413945  311474\n",
      "  288736   37307  283135   98652  666172   32485  223945  318571  536463\n",
      "   76424  303556  413202  117539  141962  485050  344404   79679   83336\n",
      "  142474    2284  620553     189   64835  159601   14680  225801  364340\n",
      "  435478  182443  317481   27546   42097  565357   38007  397721  342747\n",
      "   16429   68165  287214    4828  324269  130664  316719  249086  261381\n",
      "  261178   94162  898800  418769  960731   82110  537081   67171  366084\n",
      "  159667   77456  261276  651189  613958   92547   16000  104907   22934\n",
      "  254832  619604  789407  110470   53816  251052   73754  728659  187239\n",
      "  571213  998042   50832  160542   79773  239226   55354  509578   77306\n",
      "   76269  153984  284126 1001013  865877  751107  281548   28348  345606\n",
      "  528897  102603  846801   97055  631672   24610  113752  510225   86429\n",
      "   46108    1952  892889  817793  172849  806118  538188  113779  248356\n",
      "  447792  149030  509293  186309   26457   42678  388434   38994  834275\n",
      "  159494  371802   76750  365208  287041  249200    8531    1872  679150\n",
      "  156582  394391   90400   47187 1017303  675952  430546  209794   81008\n",
      "  101754  105542   38276   12058  436109    2485  597104  246371   58613\n",
      "  153349  109634  483930  129806  153910   27493  367029    9136  969219\n",
      "   74567  196445  252368   32884  456854  281699  141655  572672  755545\n",
      "   88110  184957 1007155  234480  528757  673578  691298     492   13250\n",
      "  163081   47335   10279  211463  558459  236290    4736  122915  365339\n",
      " 1032931  610793  949245  356956   43800   10765   71993  173965    6307\n",
      "  237134    8362  768275   33496   26724  447509  270190  316419  461462\n",
      "  188816  107047  492228 1040393  154151  140084  309821   48010   19790\n",
      "   41382  391479  483526  770277  128278  502402  346458   51122  318332\n",
      "   38828  160415  664269   18503  176451   53922  537713  306813    2540\n",
      "   78689  374640  331089  394137  467495  581271    5654  347741  656035\n",
      "   26982 1049469  407047   62791   38511   25889  180765   28180  367305\n",
      "   94914   12447  389518   56564  254691  104303  681336  586030  656033\n",
      "    2028  479493  140081     358    6609  480269  545028   17548  475965\n",
      "   16871  768934  685259   93806  103262  377829  819481    9943   91433\n",
      "  136999  655066   34351  266073  988125  198548   19773  577595  131174\n",
      "  511145  375950  965695   79364  454572  863725 1061177  356749  167303\n",
      "   25035  848080  129749  261667  113931  456837  365426   42510   62853\n",
      "  398868   22192  419060   14076   86154   65472  221685  677625    4884\n",
      "    3090  579617  241458    2349   88512  181206  212682  414277  697392\n",
      "  102124     213  139481  135331  520058  116104  832206   83903   34235\n",
      "  312896  604274  471195 1063323   23865   78560  413999  310050  861230\n",
      "  213354  114528   26669  382695   86804  287857  134119    9299  228382\n",
      "   40648   36645   17061   50278   14416    6252  126830  335911  285108\n",
      "  240760  211136   48223   58601  228600   39590  292004   26995  991829\n",
      "  662730   48900   16128   40481   15169  321193   70029   70956  318137\n",
      "  522631  140814  135679  227851    8769   37109  284510   66545  647414\n",
      "  837279  619014  560387  664032  314040   18109  441047   32340  278213\n",
      "   87148  847492  129499  138870   10476  548078  673091   67530  865796\n",
      "  408070  471495  373398  748939  651074  332337  200037  169945   44697\n",
      "   70012  190997  644386  514103   15083  388442   25774  470403  430136\n",
      "   25383  874629  529909  292601  477800  147339  310025   88898   10862\n",
      " 1084971  406720   98949  644127   43039  117841] [0.3 0.3 0.3 0.3 0.3 0.3 0.3 0.3 0.3 0.3 0.3 0.3 0.3 0.3 0.3 0.3 0.3 0.3\n",
      " 0.3 0.3 0.6 0.3 0.3 0.3 0.3 0.3 0.3 0.3 0.3 0.3 0.3 0.3 0.3 0.3 0.3 0.3\n",
      " 0.3 0.3 1.5 0.3 0.3 0.3 0.3 0.3 0.3 0.3 0.3 0.3 0.3 0.3 0.3 0.3 0.3 0.3\n",
      " 0.3 0.3 0.6 0.3 0.3 0.3 0.3 0.3 0.3 0.3 0.3 0.3 0.3 0.3 0.3 0.3 0.3 0.3\n",
      " 0.3 0.3 0.3 0.3 0.3 0.3 0.3 0.3 0.3 0.3 0.3 0.3 0.3 0.3 0.3 0.3 0.3 0.3\n",
      " 0.3 0.3 0.3 0.3 0.3 0.3 0.3 0.3 0.3 0.3 0.3 0.3 0.3 0.3 0.3 0.3 0.9 0.3\n",
      " 0.6 0.3 0.3 0.3 0.3 0.3 0.3 0.3 0.3 0.3 0.3 0.3 0.3 0.3 0.3 0.3 0.3 0.3\n",
      " 0.3 0.3 0.3 0.3 0.3 0.3 0.3 0.3 0.3 0.3 0.6 0.3 0.3 0.3 0.3 0.3 0.3 0.3\n",
      " 0.3 0.3 0.3 0.3 0.3 0.3 0.3 0.3 0.3 0.3 0.3 0.3 0.3 0.3 0.3 0.3 0.3 0.3\n",
      " 0.3 0.3 0.3 0.6 0.3 0.3 0.6 0.3 0.3 0.3 0.3 0.3 0.3 0.3 0.3 0.3 0.3 0.3\n",
      " 0.3 0.3 0.3 0.3 0.3 0.3 0.3 0.3 0.3 0.3 0.3 0.3 0.3 0.3 0.3 0.3 0.3 0.3\n",
      " 0.3 0.3 0.3 0.3 0.3 0.3 0.3 0.3 0.3 0.3 0.3 0.3 0.3 0.6 0.3 0.3 0.3 0.3\n",
      " 0.3 0.3 0.3 0.3 0.3 0.3 0.6 0.3 0.6 0.3 0.3 0.3 0.3 0.3 0.3 0.3 0.3 0.3\n",
      " 0.3 0.3 0.3 0.3 0.3 0.3 0.3 0.3 0.3 0.3 0.3 0.3 0.3 0.3 0.3 0.3 0.3 0.3\n",
      " 0.3 0.3 0.3 0.3 0.3 0.3 0.3 0.3 0.3 0.3 0.3 0.3 0.3 0.3 0.3 0.3 0.3 0.3\n",
      " 0.3 0.3 0.3 0.3 0.3 0.3 0.3 0.3 5.7 0.3 0.6 0.3 0.3 0.3 0.3 0.3 0.3 0.3\n",
      " 0.3 0.3 0.6 0.3 0.3 0.3 0.3 0.3 0.3 0.3 0.3 0.3 0.3 0.3 0.3 0.3 0.3 0.3\n",
      " 0.3 0.3 0.3 0.3 0.3 0.3 0.3 0.3 0.3 0.3 0.3 0.3 0.3 0.3 0.3 0.3 0.3 0.3\n",
      " 0.3 0.3 0.3 0.3 0.3 0.3 0.3 0.3 0.3 0.3 0.3 0.3 0.3 0.6 0.3 0.3 0.3 0.3\n",
      " 0.3 0.3 0.3 0.3 0.3 0.3 0.3 0.3 0.3 0.3 0.3 0.3 0.3 0.3 0.3 0.3 0.3 0.3\n",
      " 0.6 0.3 0.3 0.3 0.3 0.3 0.3 0.3 0.3 0.3 0.3 0.3 0.3 0.3 0.3 0.3 0.3 0.3\n",
      " 0.3 0.3 0.3 0.3 0.3 0.3 0.3 0.3 0.3 0.3 0.3 0.3 0.3 0.3 0.3 0.3 0.3 0.3\n",
      " 0.3 0.3 0.3 0.3 0.3 0.3 0.3 0.9 0.3 0.3 0.3 0.3 0.3 0.3 0.3 0.3 0.3 0.3\n",
      " 0.3 0.3 0.3 0.3 0.3 0.3 0.3 0.3 0.3 0.6 0.3 0.3 0.3 0.3 0.3 0.3 0.3 0.3\n",
      " 0.3 0.3 0.3 0.3 0.3 0.3 0.6 0.3 0.3 0.3 0.3 0.3 0.3 0.3 0.3 0.3 0.3 0.3\n",
      " 0.3 0.3 0.3 0.3 0.3 0.3 0.3 0.3 0.3 0.3 0.3 0.3 0.3 0.3 0.3 0.3 0.3 0.3\n",
      " 0.3 0.6 0.3 0.3 0.3 0.3 0.3 0.3 0.3 0.3 0.3 0.3 0.3 0.3 0.3 0.3 0.3 0.3\n",
      " 0.3 0.3 0.3 0.3 0.3 0.3 0.3 0.3 0.6 0.3 0.3 0.3 0.3 0.3 0.3 0.3 0.3 0.3\n",
      " 0.3 0.3 0.3 0.3 0.3 0.3 0.3 0.3 0.3 0.3 0.3 0.3 0.3 0.3 0.3 0.3 0.6 0.3\n",
      " 0.3 0.3 0.3 0.3 0.3 0.3 0.3 0.3 0.3 0.3 0.3 0.3 0.3 0.3 0.3 0.3 0.3 0.3\n",
      " 0.3 0.3 0.3 0.3 0.3 0.3 0.3 0.3 0.3 0.3 0.3 0.3 0.3 0.3 0.3 0.3 0.3 0.3\n",
      " 0.3 0.3 0.3 0.3 0.3 0.3 0.3 0.3 0.3 0.3 0.3 0.3 0.3 0.3 0.3 0.3 0.3 0.6\n",
      " 0.3 0.3 0.3 0.9 0.6 0.3 0.3 0.3 0.3 0.6 0.3 0.6 0.3 0.3 0.3 0.3 0.3 0.3\n",
      " 0.3 0.3 0.3 0.3 0.3 0.3 0.3 0.3 0.3 0.6 0.3 0.3 0.3 0.3 0.3 0.3 0.3 0.3\n",
      " 0.3 0.6 0.3 0.3 0.3 0.3 0.3 0.3 0.3 0.3 0.3 0.3 0.3 0.3 0.3 0.3 0.6 0.3\n",
      " 0.3 0.3 0.3 0.3 0.3 0.3 0.3 0.3 0.3 0.3 0.3 0.3 0.3 0.3 0.3 0.3 0.3 0.3\n",
      " 0.3 0.3 0.3 0.3 0.3 0.3 0.3 0.3 0.3 0.3 0.3 0.3 0.3 0.3 0.3 0.3 0.3 0.3\n",
      " 0.3 0.3 0.3 0.3 0.3 0.3 0.3 0.3 0.3 0.3 0.3 0.3 0.3 0.3 0.3 0.3 0.3 0.3\n",
      " 0.3 0.3 0.3 0.3 0.3 0.3 0.3 0.3 0.3 0.3 0.3 0.3 0.3 0.3 0.3]\n",
      "4 [     4    552   4575 ... 480092 140048  31439] [0.3 0.3 0.3 ... 0.3 0.3 0.3]\n",
      "5 [    5   102   558 ... 87587 85056 23831] [0.3 0.3 0.3 ... 0.3 0.3 0.3]\n"
     ]
    }
   ],
   "source": [
    "iter = 0\n",
    "for item, grouped in grouped_by_items:\n",
    "  print(item, grouped['userId'].values, grouped['rating'].values)\n",
    "  iter = iter + 1\n",
    "  if iter > 5:\n",
    "    break"
   ]
  },
  {
   "cell_type": "code",
   "execution_count": 17,
   "metadata": {
    "colab": {},
    "colab_type": "code",
    "id": "ofusooBucjDV"
   },
   "outputs": [],
   "source": [
    "grouped_by_items = mapped_df.groupby('itemId')\n",
    "with tf.python_io.TFRecordWriter('data/users_for_item') as ofp:\n",
    "  for item, grouped in grouped_by_items:\n",
    "    example = tf.train.Example(features=tf.train.Features(feature={\n",
    "          'key': tf.train.Feature(int64_list=tf.train.Int64List(value=[item])),\n",
    "          'indices': tf.train.Feature(int64_list=tf.train.Int64List(value=grouped['userId'].values)),\n",
    "          'values': tf.train.Feature(float_list=tf.train.FloatList(value=grouped['rating'].values))\n",
    "        }))\n",
    "    ofp.write(example.SerializeToString())"
   ]
  },
  {
   "cell_type": "code",
   "execution_count": 18,
   "metadata": {
    "colab": {},
    "colab_type": "code",
    "id": "Gztn-FNieOgf"
   },
   "outputs": [],
   "source": [
    "grouped_by_users = mapped_df.groupby('userId')\n",
    "with tf.python_io.TFRecordWriter('data/items_for_user') as ofp:\n",
    "  for user, grouped in grouped_by_users:\n",
    "    example = tf.train.Example(features=tf.train.Features(feature={\n",
    "          'key': tf.train.Feature(int64_list=tf.train.Int64List(value=[user])),\n",
    "          'indices': tf.train.Feature(int64_list=tf.train.Int64List(value=grouped['itemId'].values)),\n",
    "          'values': tf.train.Feature(float_list=tf.train.FloatList(value=grouped['rating'].values))\n",
    "        }))\n",
    "    ofp.write(example.SerializeToString())"
   ]
  },
  {
   "cell_type": "code",
   "execution_count": 19,
   "metadata": {
    "colab": {
     "base_uri": "https://8080-dot-6301579-dot-devshell.appspot.com/",
     "height": 136
    },
    "colab_type": "code",
    "id": "Ze84m0PxfWUz",
    "outputId": "41e9ae31-b06a-4b6b-a11e-474bfc3896ce"
   },
   "outputs": [
    {
     "name": "stdout",
     "output_type": "stream",
     "text": [
      "total 2046820\r\n",
      "-rw-r--r-- 1 root root 876506370 Mar  5 19:05 collab_raw.csv\r\n",
      "-rw-r--r-- 1 root root  16272129 Mar  5 19:06 users.csv\r\n",
      "-rw-r--r-- 1 root root    288553 Mar  5 19:06 items.csv\r\n",
      "-rw-r--r-- 1 root root 613068836 Mar  5 19:11 collab_mapped.csv\r\n",
      "-rw-r--r-- 1 root root 276544461 Mar  5 19:13 users_for_item\r\n",
      "-rw-r--r-- 1 root root 313242326 Mar  5 19:18 items_for_user\r\n"
     ]
    }
   ],
   "source": [
    "!ls -lrt data"
   ]
  },
  {
   "cell_type": "code",
   "execution_count": 20,
   "metadata": {
    "colab": {
     "base_uri": "https://8080-dot-6301579-dot-devshell.appspot.com/",
     "height": 119
    },
    "colab_type": "code",
    "id": "Vs9eW6u0mQrx",
    "outputId": "d29ea8dc-bb0e-4fd6-f43a-673b8b2f0cca"
   },
   "outputs": [
    {
     "name": "stdout",
     "output_type": "stream",
     "text": [
      "Copying file://data/users_for_item [Content-Type=application/octet-stream]...\n",
      "==> NOTE: You are uploading one or more large file(s), which would run          \n",
      "significantly faster if you enable parallel composite uploads. This\n",
      "feature can be enabled by editing the\n",
      "\"parallel_composite_upload_threshold\" value in your .boto\n",
      "configuration file. However, note that if you do this large files will\n",
      "be uploaded as `composite objects\n",
      "<https://cloud.google.com/storage/docs/composite-objects>`_,which\n",
      "means that any user who downloads such objects will need to have a\n",
      "compiled crcmod installed (see \"gsutil help crcmod\"). This is because\n",
      "without a compiled crcmod, computing checksums on composite objects is\n",
      "so slow that gsutil disables downloads of composite objects.\n",
      "\n",
      "| [1 files][263.7 MiB/263.7 MiB]                                                \n",
      "Operation completed over 1 objects/263.7 MiB.                                    \n",
      "Copying file://data/items_for_user [Content-Type=application/octet-stream]...\n",
      "==> NOTE: You are uploading one or more large file(s), which would run          \n",
      "significantly faster if you enable parallel composite uploads. This\n",
      "feature can be enabled by editing the\n",
      "\"parallel_composite_upload_threshold\" value in your .boto\n",
      "configuration file. However, note that if you do this large files will\n",
      "be uploaded as `composite objects\n",
      "<https://cloud.google.com/storage/docs/composite-objects>`_,which\n",
      "means that any user who downloads such objects will need to have a\n",
      "compiled crcmod installed (see \"gsutil help crcmod\"). This is because\n",
      "without a compiled crcmod, computing checksums on composite objects is\n",
      "so slow that gsutil disables downloads of composite objects.\n",
      "\n",
      "/ [1 files][298.7 MiB/298.7 MiB]                                                \n",
      "Operation completed over 1 objects/298.7 MiB.                                    \n"
     ]
    }
   ],
   "source": [
    "#copy to bucket\n",
    "!gsutil cp 'data/users_for_item'  gs://{BUCKET}/data/users_for_item   \n",
    "!gsutil cp 'data/items_for_user'  gs://{BUCKET}/data/items_for_user   "
   ]
  }
 ],
 "metadata": {
  "colab": {
   "include_colab_link": true,
   "name": "create_walls_dataset.ipynb",
   "provenance": [],
   "version": "0.3.2"
  },
  "kernelspec": {
   "display_name": "Python 3",
   "language": "python",
   "name": "python3"
  },
  "language_info": {
   "codemirror_mode": {
    "name": "ipython",
    "version": 3
   },
   "file_extension": ".py",
   "mimetype": "text/x-python",
   "name": "python",
   "nbconvert_exporter": "python",
   "pygments_lexer": "ipython3",
   "version": "3.5.6"
  }
 },
 "nbformat": 4,
 "nbformat_minor": 1
}
