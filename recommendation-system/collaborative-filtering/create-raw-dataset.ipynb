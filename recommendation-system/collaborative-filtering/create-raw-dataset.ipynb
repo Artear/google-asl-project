{
 "cells": [
  {
   "cell_type": "markdown",
   "metadata": {
    "colab_type": "text",
    "id": "sl8gnHjeu_nC"
   },
   "source": [
    "# Collaborative filtering using WALS algorithm"
   ]
  },
  {
   "cell_type": "markdown",
   "metadata": {
    "colab_type": "text",
    "id": "GuTfYGbzWhK_"
   },
   "source": [
    "## Create raw dataset"
   ]
  },
  {
   "cell_type": "code",
   "execution_count": 16,
   "metadata": {
    "colab": {},
    "colab_type": "code",
    "id": "i_IiSzwmvQJx"
   },
   "outputs": [],
   "source": [
    "PROJECT = 'qwiklabs-gcp-4a684069c4776675'\n",
    "BUCKET = 'colaborative-filtering-agea'\n",
    "REGION = 'us-central1'"
   ]
  },
  {
   "cell_type": "code",
   "execution_count": 3,
   "metadata": {
    "colab": {},
    "colab_type": "code",
    "id": "ZGjYqlL1v5JT"
   },
   "outputs": [
    {
     "name": "stderr",
     "output_type": "stream",
     "text": [
      "/usr/local/envs/py2env/lib/python2.7/site-packages/h5py/__init__.py:36: FutureWarning: Conversion of the second argument of issubdtype from `float` to `np.floating` is deprecated. In future, it will be treated as `np.float64 == np.dtype(float).type`.\n",
      "  from ._conv import register_converters as _register_converters\n"
     ]
    }
   ],
   "source": [
    "import tensorflow as tf\n",
    "from google.cloud import bigquery"
   ]
  },
  {
   "cell_type": "code",
   "execution_count": 0,
   "metadata": {
    "colab": {},
    "colab_type": "code",
    "id": "m6hREOkTyMh9"
   },
   "outputs": [],
   "source": [
    "from google.colab import auth\n",
    "auth.authenticate_user()"
   ]
  },
  {
   "cell_type": "code",
   "execution_count": 6,
   "metadata": {
    "colab": {
     "base_uri": "https://8080-dot-6301579-dot-devshell.appspot.com/",
     "height": 204
    },
    "colab_type": "code",
    "id": "MTEi-Ds7_6H8",
    "outputId": "e3410aa7-517b-491e-d8e1-dd9dc745f7d4"
   },
   "outputs": [],
   "source": [
    "sql = \"\"\"\n",
    "#standardSQL\n",
    "SELECT \n",
    "  user_id as visitorId,\n",
    "  content_id as contentId,\n",
    "  COUNT(user_id) as numberOfVisits\n",
    "\n",
    "  FROM AGEA_ASL.Dataset_B\n",
    "  GROUP BY contentId,visitorId\n",
    "\"\"\""
   ]
  },
  {
   "cell_type": "code",
   "execution_count": null,
   "metadata": {},
   "outputs": [],
   "source": [
    "#df = client.query(sql + 'LIMIT 1000').to_dataframe() # TODO: SACAR LIMIT\n",
    "#df.head()"
   ]
  },
  {
   "cell_type": "code",
   "execution_count": 7,
   "metadata": {},
   "outputs": [
    {
     "data": {
      "text/html": [
       "<div>\n",
       "<style scoped>\n",
       "    .dataframe tbody tr th:only-of-type {\n",
       "        vertical-align: middle;\n",
       "    }\n",
       "\n",
       "    .dataframe tbody tr th {\n",
       "        vertical-align: top;\n",
       "    }\n",
       "\n",
       "    .dataframe thead th {\n",
       "        text-align: right;\n",
       "    }\n",
       "</style>\n",
       "<table border=\"1\" class=\"dataframe\">\n",
       "  <thead>\n",
       "    <tr style=\"text-align: right;\">\n",
       "      <th></th>\n",
       "      <th>visitorId</th>\n",
       "      <th>contentId</th>\n",
       "      <th>numberOfVisits</th>\n",
       "    </tr>\n",
       "  </thead>\n",
       "  <tbody>\n",
       "    <tr>\n",
       "      <th>0</th>\n",
       "      <td>3127735</td>\n",
       "      <td>JVAFAfO5p</td>\n",
       "      <td>1</td>\n",
       "    </tr>\n",
       "    <tr>\n",
       "      <th>1</th>\n",
       "      <td>1402547</td>\n",
       "      <td>YhYp5WCm-</td>\n",
       "      <td>1</td>\n",
       "    </tr>\n",
       "    <tr>\n",
       "      <th>2</th>\n",
       "      <td>4424328</td>\n",
       "      <td>ekUWVdEXY</td>\n",
       "      <td>1</td>\n",
       "    </tr>\n",
       "    <tr>\n",
       "      <th>3</th>\n",
       "      <td>3604872</td>\n",
       "      <td>Y-vZd0XoQ</td>\n",
       "      <td>1</td>\n",
       "    </tr>\n",
       "    <tr>\n",
       "      <th>4</th>\n",
       "      <td>3627874</td>\n",
       "      <td>2nvx6mPGW</td>\n",
       "      <td>1</td>\n",
       "    </tr>\n",
       "  </tbody>\n",
       "</table>\n",
       "</div>"
      ],
      "text/plain": [
       "  visitorId  contentId  numberOfVisits\n",
       "0   3127735  JVAFAfO5p               1\n",
       "1   1402547  YhYp5WCm-               1\n",
       "2   4424328  ekUWVdEXY               1\n",
       "3   3604872  Y-vZd0XoQ               1\n",
       "4   3627874  2nvx6mPGW               1"
      ]
     },
     "execution_count": 7,
     "metadata": {},
     "output_type": "execute_result"
    }
   ],
   "source": [
    "import google.datalab.bigquery as bq\n",
    "df = bq.Query(sql).execute().result().to_dataframe()\n",
    "df.head()"
   ]
  },
  {
   "cell_type": "code",
   "execution_count": 8,
   "metadata": {
    "colab": {
     "base_uri": "https://8080-dot-6301579-dot-devshell.appspot.com/",
     "height": 297
    },
    "colab_type": "code",
    "id": "sbIal5_iQaoz",
    "outputId": "ec33fa64-b07a-456d-b5b3-3526b5cf4e36"
   },
   "outputs": [],
   "source": [
    "stats = df.describe()"
   ]
  },
  {
   "cell_type": "code",
   "execution_count": null,
   "metadata": {
    "colab": {},
    "colab_type": "code",
    "id": "4vUtOAFBQ54a"
   },
   "outputs": [],
   "source": [
    "# the rating is the numberOfVisits scaled to be in the range 0-1\n",
    "median = stats['numberOfVisits']['50%']\n",
    "df['rating'] = 0.3 * df['numberOfVisits'] / median\n",
    "df.loc[df['rating'] > 1, 'rating'] = 1"
   ]
  },
  {
   "cell_type": "code",
   "execution_count": null,
   "metadata": {
    "colab": {},
    "colab_type": "code",
    "id": "MMuF98CzRRCS"
   },
   "outputs": [],
   "source": [
    "del df['numberOfVisits']"
   ]
  },
  {
   "cell_type": "code",
   "execution_count": 13,
   "metadata": {
    "colab": {},
    "colab_type": "code",
    "id": "rSYVufXwSJyT"
   },
   "outputs": [],
   "source": [
    "!rm -rf data\n",
    "!mkdir data"
   ]
  },
  {
   "cell_type": "code",
   "execution_count": 14,
   "metadata": {
    "colab": {},
    "colab_type": "code",
    "id": "-acLtFE-Sc_T"
   },
   "outputs": [],
   "source": [
    "df.to_csv('data/collab_raw.csv', index=False, header=False)"
   ]
  },
  {
   "cell_type": "code",
   "execution_count": 17,
   "metadata": {
    "colab": {
     "base_uri": "https://8080-dot-6301579-dot-devshell.appspot.com/",
     "height": 68
    },
    "colab_type": "code",
    "id": "IbL7i1m4Sho6",
    "outputId": "092338db-f8e9-48d4-f9f8-5f31a7d944f9"
   },
   "outputs": [
    {
     "name": "stdout",
     "output_type": "stream",
     "text": [
      "Copying file://data/collab_raw.csv [Content-Type=text/csv]...\n",
      "==> NOTE: You are uploading one or more large file(s), which would run          \n",
      "significantly faster if you enable parallel composite uploads. This\n",
      "feature can be enabled by editing the\n",
      "\"parallel_composite_upload_threshold\" value in your .boto\n",
      "configuration file. However, note that if you do this large files will\n",
      "be uploaded as `composite objects\n",
      "<https://cloud.google.com/storage/docs/composite-objects>`_,which\n",
      "means that any user who downloads such objects will need to have a\n",
      "compiled crcmod installed (see \"gsutil help crcmod\"). This is because\n",
      "without a compiled crcmod, computing checksums on composite objects is\n",
      "so slow that gsutil disables downloads of composite objects.\n",
      "\n",
      "| [1 files][835.9 MiB/835.9 MiB]      0.0 B/s                                   \n",
      "Operation completed over 1 objects/835.9 MiB.                                    \n"
     ]
    }
   ],
   "source": [
    "# upload to bucket just in case that the local csv be erased\n",
    "!gsutil cp 'data/collab_raw.csv'  gs://{BUCKET}/collab_raw.csv "
   ]
  },
  {
   "cell_type": "code",
   "execution_count": 18,
   "metadata": {
    "colab": {
     "base_uri": "https://8080-dot-6301579-dot-devshell.appspot.com/",
     "height": 187
    },
    "colab_type": "code",
    "id": "aau8DYWVTaVz",
    "outputId": "aa374e49-2e5c-47bb-c812-3e95f77de912"
   },
   "outputs": [
    {
     "name": "stdout",
     "output_type": "stream",
     "text": [
      "3127735,JVAFAfO5p,0.3\r\n",
      "1402547,YhYp5WCm-,0.3\r\n",
      "4424328,ekUWVdEXY,0.3\r\n",
      "3604872,Y-vZd0XoQ,0.3\r\n",
      "3627874,2nvx6mPGW,0.3\r\n",
      "3862440,9P5DtZj9t,0.3\r\n",
      "4961169,0bMjAUf8i,0.3\r\n",
      "3853869,SRlruhYHQ,0.3\r\n",
      "4491186,ws7UTZTlf,0.3\r\n",
      "5604673,5wAUEiwRI,0.3\r\n"
     ]
    }
   ],
   "source": [
    "!head data/collab_raw.csv"
   ]
  }
 ],
 "metadata": {
  "colab": {
   "name": "wals.ipynb",
   "provenance": [],
   "version": "0.3.2"
  },
  "kernelspec": {
   "display_name": "Python 2",
   "language": "python",
   "name": "python2"
  },
  "language_info": {
   "codemirror_mode": {
    "name": "ipython",
    "version": 2
   },
   "file_extension": ".py",
   "mimetype": "text/x-python",
   "name": "python",
   "nbconvert_exporter": "python",
   "pygments_lexer": "ipython2",
   "version": "2.7.15"
  }
 },
 "nbformat": 4,
 "nbformat_minor": 1
}
