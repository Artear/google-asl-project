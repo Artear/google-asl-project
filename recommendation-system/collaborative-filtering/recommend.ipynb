{
 "cells": [
  {
   "cell_type": "code",
   "execution_count": 62,
   "metadata": {},
   "outputs": [],
   "source": [
    "import os\n",
    "import shutil\n",
    "import pandas as pd\n",
    "import numpy as np\n",
    "import tensorflow as tf\n",
    "from tensorflow.python.lib.io import file_io\n",
    "from tensorflow.contrib.factorization import WALSMatrixFactorization\n",
    "from tensorflow.contrib.learn.python.learn import learn_runner"
   ]
  },
  {
   "cell_type": "code",
   "execution_count": 63,
   "metadata": {},
   "outputs": [],
   "source": [
    "PROJECT = 'qwiklabs-gcp-4a684069c4776675'\n",
    "BUCKET = 'colaborative-filtering-agea'\n",
    "REGION = 'us-east1'\n",
    "os.environ['PROJECT'] = PROJECT\n",
    "os.environ['BUCKET'] = BUCKET\n",
    "os.environ['REGION'] = REGION\n",
    "os.environ['TFVERSION'] = '1.8'"
   ]
  },
  {
   "cell_type": "code",
   "execution_count": 64,
   "metadata": {},
   "outputs": [],
   "source": [
    "def find_top_k(user, item_factors, k):\n",
    "  all_items = tf.matmul(tf.expand_dims(user, 0), tf.transpose(item_factors))\n",
    "  topk = tf.nn.top_k(all_items, k=k)\n",
    "  return tf.cast(topk.indices, dtype=tf.int64)\n",
    "\n",
    "def batch_predict(args):\n",
    "  with tf.Session() as sess:\n",
    "    estimator = WALSMatrixFactorization(\n",
    "        num_rows=args['nusers'],\n",
    "        num_cols=args['nitems'],\n",
    "        embedding_dimension=args['n_embeds'],\n",
    "        model_dir=args['model_dir']\n",
    "    )\n",
    "    \n",
    "    user_factors = tf.convert_to_tensor(estimator.get_row_factors()[0]) # (nusers, nembeds)\n",
    "    item_factors = tf.convert_to_tensor(estimator.get_col_factors()[0])# (nitems, nembeds)\n",
    "    # for each user, find the top K items\n",
    "    topk = tf.squeeze(tf.map_fn(lambda user: find_top_k(user, item_factors, args['topk']), user_factors, dtype=tf.int64))\n",
    "    with file_io.FileIO(os.path.join(args['output_dir'], 'batch_pred.txt'), mode='w') as f:\n",
    "      for best_items_for_user in topk.eval():\n",
    "        f.write(','.join(str(x) for x in best_items_for_user) + '\\n')"
   ]
  },
  {
   "cell_type": "code",
   "execution_count": 65,
   "metadata": {},
   "outputs": [
    {
     "name": "stdout",
     "output_type": "stream",
     "text": [
      "WARNING:tensorflow:From /usr/local/envs/py2env/lib/python2.7/site-packages/tensorflow/contrib/learn/python/learn/estimators/estimator.py:1179: __init__ (from tensorflow.contrib.learn.python.learn.estimators.estimator) is deprecated and will be removed in a future version.\n",
      "Instructions for updating:\n",
      "Please replace uses of any Estimator from tf.contrib.learn with an Estimator from tf.estimator.*\n",
      "WARNING:tensorflow:From /usr/local/envs/py2env/lib/python2.7/site-packages/tensorflow/contrib/learn/python/learn/estimators/estimator.py:427: __init__ (from tensorflow.contrib.learn.python.learn.estimators.run_config) is deprecated and will be removed in a future version.\n",
      "Instructions for updating:\n",
      "When switching to tf.estimator.Estimator, use tf.estimator.RunConfig instead.\n",
      "INFO:tensorflow:Using default config.\n",
      "INFO:tensorflow:Using config: {'_save_checkpoints_secs': 600, '_num_ps_replicas': 0, '_keep_checkpoint_max': 5, '_task_type': None, '_train_distribute': None, '_is_chief': True, '_cluster_spec': <tensorflow.python.training.server_lib.ClusterSpec object at 0x7f684dedf290>, '_model_dir': 'gs://colaborative-filtering-agea/wals/model_trained', '_save_checkpoints_steps': None, '_keep_checkpoint_every_n_hours': 10000, '_session_config': None, '_tf_random_seed': None, '_save_summary_steps': 100, '_environment': 'local', '_num_worker_replicas': 0, '_task_id': 0, '_log_step_count_steps': 100, '_tf_config': gpu_options {\n",
      "  per_process_gpu_memory_fraction: 1.0\n",
      "}\n",
      ", '_evaluation_master': '', '_master': ''}\n"
     ]
    }
   ],
   "source": [
    "batch_predict({\n",
    "    'model_dir': 'gs://{}/wals/model_trained'.format(BUCKET),\n",
    "    'output_dir': 'gs://{}/wals/data'.format(BUCKET),\n",
    "    'nitems': 18716,\n",
    "    'nusers': 1086609,\n",
    "    'n_embeds': 10,\n",
    "    'topk': 3\n",
    "  })"
   ]
  },
  {
   "cell_type": "code",
   "execution_count": 66,
   "metadata": {},
   "outputs": [
    {
     "name": "stdout",
     "output_type": "stream",
     "text": [
      "1064,146,339\r\n",
      "368,724,708\r\n",
      "1463,1091,2214\r\n",
      "368,1091,502\r\n",
      "337,129,206\r\n",
      "742,2933,1263\r\n",
      "530,1091,206\r\n",
      "1974,635,1472\r\n",
      "823,2933,368\r\n",
      "206,530,337\r\n",
      "931,585,1588\r\n",
      "901,812,566\r\n",
      "668,901,812\r\n",
      "389,368,1649\r\n",
      "1387,1913,502\r\n",
      "1913,1091,1142\r\n",
      "438,1833,1021\r\n",
      "519,1061,136\r\n",
      "901,1387,566\r\n",
      "92,724,368\r\n",
      "1073,808,980\r\n",
      "230,1387,256\r\n",
      "1635,1833,368\r\n",
      "1342,206,337\r\n",
      "1387,1036,1091\r\n",
      "1065,530,1142\r\n",
      "1061,1440,1104\r\n",
      "1064,146,1223\r\n",
      "1065,230,1648\r\n",
      "901,566,812\r\n",
      "139,1091,450\r\n",
      "230,1387,368\r\n",
      "1064,808,146\r\n",
      "1061,389,1440\r\n",
      "368,92,708\r\n",
      "577,1065,1036\r\n",
      "1064,146,249\r\n",
      "1978,530,591"
     ]
    }
   ],
   "source": [
    "!gsutil cat -r 0-500 gs://{BUCKET}/wals/data/batch_pred.txt "
   ]
  },
  {
   "cell_type": "code",
   "execution_count": 67,
   "metadata": {},
   "outputs": [],
   "source": [
    "def get_factors(args):\n",
    "  with tf.Session() as sess:\n",
    "    estimator = WALSMatrixFactorization(\n",
    "      num_rows=args['nusers'], num_cols=args['nitems'],\n",
    "      embedding_dimension=args['n_embeds'],\n",
    "      model_dir=args['model_dir']\n",
    "    )\n",
    "    row_factors = estimator.get_row_factors()[0]\n",
    "    col_factors = estimator.get_col_factors()[0]\n",
    "    return row_factors, col_factors"
   ]
  },
  {
   "cell_type": "code",
   "execution_count": 68,
   "metadata": {},
   "outputs": [
    {
     "name": "stdout",
     "output_type": "stream",
     "text": [
      "INFO:tensorflow:Using default config.\n",
      "INFO:tensorflow:Using config: {'_save_checkpoints_secs': 600, '_num_ps_replicas': 0, '_keep_checkpoint_max': 5, '_task_type': None, '_train_distribute': None, '_is_chief': True, '_cluster_spec': <tensorflow.python.training.server_lib.ClusterSpec object at 0x7f684deebf50>, '_model_dir': 'gs://colaborative-filtering-agea/wals/model_trained', '_save_checkpoints_steps': None, '_keep_checkpoint_every_n_hours': 10000, '_session_config': None, '_tf_random_seed': None, '_save_summary_steps': 100, '_environment': 'local', '_num_worker_replicas': 0, '_task_id': 0, '_log_step_count_steps': 100, '_tf_config': gpu_options {\n",
      "  per_process_gpu_memory_fraction: 1.0\n",
      "}\n",
      ", '_evaluation_master': '', '_master': ''}\n"
     ]
    }
   ],
   "source": [
    "args = {\n",
    "    'model_dir': 'gs://{}/wals/model_trained'.format(BUCKET),\n",
    "    'nitems': 18716,\n",
    "    'nusers': 1086609,\n",
    "    'n_embeds': 10\n",
    "  }\n",
    "\n",
    "user_embeddings, item_embeddings = get_factors(args)"
   ]
  },
  {
   "cell_type": "code",
   "execution_count": 37,
   "metadata": {},
   "outputs": [
    {
     "data": {
      "text/plain": [
       "<mpl_toolkits.mplot3d.art3d.Path3DCollection at 0x7f9083e729d0>"
      ]
     },
     "execution_count": 37,
     "metadata": {},
     "output_type": "execute_result"
    },
    {
     "data": {
      "image/png": "[encoded data removed]",
      "text/plain": [
       "<matplotlib.figure.Figure at 0x7f91327351d0>"
      ]
     },
     "metadata": {},
     "output_type": "display_data"
    }
   ],
   "source": [
    "import matplotlib.pyplot as plt\n",
    "from mpl_toolkits.mplot3d import Axes3D\n",
    "from sklearn.decomposition import PCA\n",
    "\n",
    "pca = PCA(n_components=3)\n",
    "pca.fit(user_embeddings)\n",
    "user_embeddings_pca = pca.transform(user_embeddings)\n",
    "\n",
    "fig = plt.figure(figsize=(8,8))\n",
    "ax = fig.add_subplot(111, projection='3d')\n",
    "xs, ys, zs = user_embeddings_pca[::150].T\n",
    "ax.scatter(xs, ys, zs)"
   ]
  },
  {
   "cell_type": "code",
   "execution_count": 44,
   "metadata": {},
   "outputs": [],
   "source": [
    "!mkdir data"
   ]
  },
  {
   "cell_type": "code",
   "execution_count": 69,
   "metadata": {},
   "outputs": [
    {
     "name": "stdout",
     "output_type": "stream",
     "text": [
      "Copying gs://colaborative-filtering-agea/wals/data/batch_pred.txt...\n",
      "Copying gs://colaborative-filtering-agea/wals/data/collab_mapped.csv...         \n",
      "Copying gs://colaborative-filtering-agea/wals/data/collab_raw.csv...            \n",
      "Copying gs://colaborative-filtering-agea/wals/data/items.csv...                 \n",
      "/ [4 files][  1.4 GiB/  1.4 GiB]                                                \n",
      "==> NOTE: You are performing a sequence of gsutil operations that may\n",
      "run significantly faster if you instead use gsutil -m cp ... Please\n",
      "see the -m section under \"gsutil help options\" for further information\n",
      "about when gsutil -m can be advantageous.\n",
      "\n",
      "Copying gs://colaborative-filtering-agea/wals/data/items_for_user...\n",
      "Copying gs://colaborative-filtering-agea/wals/data/users.csv...                 \n",
      "Copying gs://colaborative-filtering-agea/wals/data/users_for_item...            \n",
      "\\ [7 files][  2.0 GiB/  2.0 GiB]   96.8 MiB/s                                   \n",
      "Operation completed over 7 objects/2.0 GiB.                                      \n"
     ]
    }
   ],
   "source": [
    "!gsutil cp gs://{BUCKET}/wals/data/* ./data"
   ]
  },
  {
   "cell_type": "code",
   "execution_count": 70,
   "metadata": {},
   "outputs": [
    {
     "name": "stdout",
     "output_type": "stream",
     "text": [
      "-ZPRbaCoz,7347\r\n",
      "86sLs-KS_,6594\r\n",
      "5I5k5XSIN,12072\r\n",
      "QiH_Sd23-,15485\r\n",
      "8_NNrmRnu,7332\r\n",
      "FBODmTGeK,17156\r\n",
      "pNlNYlDZl,14624\r\n",
      "NYvFM_Vl4,16705\r\n",
      "g6bEFs-iG,8156\r\n",
      "ohG-9hNIk,11846\r\n"
     ]
    }
   ],
   "source": [
    "!head data/items.csv"
   ]
  },
  {
   "cell_type": "code",
   "execution_count": 32,
   "metadata": {},
   "outputs": [],
   "source": [
    "import csv\n",
    "def create_mapping(filename):\n",
    "  with open(filename, 'r') as csvfile:\n",
    "    index_to_id = {}\n",
    "    readCSV = csv.reader(csvfile, delimiter=',')\n",
    "    for row in readCSV:\n",
    "        index_to_id[row[1]] = row[0]\n",
    "  return index_to_id\n",
    "\n",
    "user_index_to_id = create_mapping('data/users.csv')\n",
    "item_index_to_id = create_mapping('data/items.csv')"
   ]
  },
  {
   "cell_type": "code",
   "execution_count": 113,
   "metadata": {},
   "outputs": [
    {
     "data": {
      "text/html": [
       "<div>\n",
       "<style scoped>\n",
       "    .dataframe tbody tr th:only-of-type {\n",
       "        vertical-align: middle;\n",
       "    }\n",
       "\n",
       "    .dataframe tbody tr th {\n",
       "        vertical-align: top;\n",
       "    }\n",
       "\n",
       "    .dataframe thead th {\n",
       "        text-align: right;\n",
       "    }\n",
       "</style>\n",
       "<table border=\"1\" class=\"dataframe\">\n",
       "  <thead>\n",
       "    <tr style=\"text-align: right;\">\n",
       "      <th></th>\n",
       "      <th>0</th>\n",
       "      <th>1</th>\n",
       "      <th>2</th>\n",
       "    </tr>\n",
       "  </thead>\n",
       "  <tbody>\n",
       "    <tr>\n",
       "      <th>0</th>\n",
       "      <td>1064</td>\n",
       "      <td>146</td>\n",
       "      <td>339</td>\n",
       "    </tr>\n",
       "    <tr>\n",
       "      <th>1</th>\n",
       "      <td>368</td>\n",
       "      <td>724</td>\n",
       "      <td>708</td>\n",
       "    </tr>\n",
       "    <tr>\n",
       "      <th>2</th>\n",
       "      <td>1463</td>\n",
       "      <td>1091</td>\n",
       "      <td>2214</td>\n",
       "    </tr>\n",
       "    <tr>\n",
       "      <th>3</th>\n",
       "      <td>368</td>\n",
       "      <td>1091</td>\n",
       "      <td>502</td>\n",
       "    </tr>\n",
       "    <tr>\n",
       "      <th>4</th>\n",
       "      <td>337</td>\n",
       "      <td>129</td>\n",
       "      <td>206</td>\n",
       "    </tr>\n",
       "  </tbody>\n",
       "</table>\n",
       "</div>"
      ],
      "text/plain": [
       "      0     1     2\n",
       "0  1064   146   339\n",
       "1   368   724   708\n",
       "2  1463  1091  2214\n",
       "3   368  1091   502\n",
       "4   337   129   206"
      ]
     },
     "execution_count": 113,
     "metadata": {},
     "output_type": "execute_result"
    }
   ],
   "source": [
    "df = pd.read_csv('data/batch_pred.txt',  header=None)\n",
    "df.head()"
   ]
  },
  {
   "cell_type": "code",
   "execution_count": 114,
   "metadata": {},
   "outputs": [
    {
     "name": "stdout",
     "output_type": "stream",
     "text": [
      "1064,146,339\r\n",
      "368,724,708\r\n",
      "1463,1091,2214\r\n",
      "368,1091,502\r\n",
      "337,129,206\r\n",
      "742,2933,1263\r\n",
      "530,1091,206\r\n",
      "1974,635,1472\r\n",
      "823,2933,368\r\n",
      "206,530,337\r\n"
     ]
    }
   ],
   "source": [
    "! head data/batch_pred.txt"
   ]
  },
  {
   "cell_type": "code",
   "execution_count": 115,
   "metadata": {},
   "outputs": [
    {
     "name": "stdout",
     "output_type": "stream",
     "text": [
      "batch_pred.txt\t   items.csv\t\t\t    users.csv\r\n",
      "collab_mapped.csv  items_for_user\t\t    users_for_item\r\n",
      "collab_raw.csv\t   recommended-articles-mapped.csv\r\n"
     ]
    }
   ],
   "source": [
    "!ls data"
   ]
  },
  {
   "cell_type": "code",
   "execution_count": 116,
   "metadata": {},
   "outputs": [],
   "source": [
    "for column in df.columns:\n",
    "  df[column] = df[column].apply(lambda index: item_index_to_id[(str(index))])"
   ]
  },
  {
   "cell_type": "code",
   "execution_count": 117,
   "metadata": {},
   "outputs": [
    {
     "data": {
      "text/html": [
       "<div>\n",
       "<style scoped>\n",
       "    .dataframe tbody tr th:only-of-type {\n",
       "        vertical-align: middle;\n",
       "    }\n",
       "\n",
       "    .dataframe tbody tr th {\n",
       "        vertical-align: top;\n",
       "    }\n",
       "\n",
       "    .dataframe thead th {\n",
       "        text-align: right;\n",
       "    }\n",
       "</style>\n",
       "<table border=\"1\" class=\"dataframe\">\n",
       "  <thead>\n",
       "    <tr style=\"text-align: right;\">\n",
       "      <th></th>\n",
       "      <th>0</th>\n",
       "      <th>1</th>\n",
       "      <th>2</th>\n",
       "    </tr>\n",
       "  </thead>\n",
       "  <tbody>\n",
       "    <tr>\n",
       "      <th>0</th>\n",
       "      <td>iX3X6tNDk</td>\n",
       "      <td>-yn-SCmEb</td>\n",
       "      <td>xhaWlfFsJ</td>\n",
       "    </tr>\n",
       "    <tr>\n",
       "      <th>1</th>\n",
       "      <td>0fYpABrXb</td>\n",
       "      <td>cGl_BoPtW</td>\n",
       "      <td>AYfFjDSci</td>\n",
       "    </tr>\n",
       "    <tr>\n",
       "      <th>2</th>\n",
       "      <td>VIpEwhPg5</td>\n",
       "      <td>YrpZD2B-o</td>\n",
       "      <td>Lo6wpP_2V</td>\n",
       "    </tr>\n",
       "    <tr>\n",
       "      <th>3</th>\n",
       "      <td>0fYpABrXb</td>\n",
       "      <td>YrpZD2B-o</td>\n",
       "      <td>Pzk2UKyZk</td>\n",
       "    </tr>\n",
       "    <tr>\n",
       "      <th>4</th>\n",
       "      <td>FmEAF-myl</td>\n",
       "      <td>6j10Sd240</td>\n",
       "      <td>4TLebQRBG</td>\n",
       "    </tr>\n",
       "  </tbody>\n",
       "</table>\n",
       "</div>"
      ],
      "text/plain": [
       "           0          1          2\n",
       "0  iX3X6tNDk  -yn-SCmEb  xhaWlfFsJ\n",
       "1  0fYpABrXb  cGl_BoPtW  AYfFjDSci\n",
       "2  VIpEwhPg5  YrpZD2B-o  Lo6wpP_2V\n",
       "3  0fYpABrXb  YrpZD2B-o  Pzk2UKyZk\n",
       "4  FmEAF-myl  6j10Sd240  4TLebQRBG"
      ]
     },
     "execution_count": 117,
     "metadata": {},
     "output_type": "execute_result"
    }
   ],
   "source": [
    "df.head()"
   ]
  },
  {
   "cell_type": "code",
   "execution_count": 118,
   "metadata": {},
   "outputs": [
    {
     "data": {
      "text/html": [
       "<div>\n",
       "<style scoped>\n",
       "    .dataframe tbody tr th:only-of-type {\n",
       "        vertical-align: middle;\n",
       "    }\n",
       "\n",
       "    .dataframe tbody tr th {\n",
       "        vertical-align: top;\n",
       "    }\n",
       "\n",
       "    .dataframe thead th {\n",
       "        text-align: right;\n",
       "    }\n",
       "</style>\n",
       "<table border=\"1\" class=\"dataframe\">\n",
       "  <thead>\n",
       "    <tr style=\"text-align: right;\">\n",
       "      <th></th>\n",
       "      <th>0</th>\n",
       "      <th>1</th>\n",
       "      <th>2</th>\n",
       "      <th>user_id</th>\n",
       "    </tr>\n",
       "  </thead>\n",
       "  <tbody>\n",
       "    <tr>\n",
       "      <th>0</th>\n",
       "      <td>iX3X6tNDk</td>\n",
       "      <td>-yn-SCmEb</td>\n",
       "      <td>xhaWlfFsJ</td>\n",
       "      <td>3127735</td>\n",
       "    </tr>\n",
       "    <tr>\n",
       "      <th>1</th>\n",
       "      <td>0fYpABrXb</td>\n",
       "      <td>cGl_BoPtW</td>\n",
       "      <td>AYfFjDSci</td>\n",
       "      <td>1402547</td>\n",
       "    </tr>\n",
       "    <tr>\n",
       "      <th>2</th>\n",
       "      <td>VIpEwhPg5</td>\n",
       "      <td>YrpZD2B-o</td>\n",
       "      <td>Lo6wpP_2V</td>\n",
       "      <td>4424328</td>\n",
       "    </tr>\n",
       "    <tr>\n",
       "      <th>3</th>\n",
       "      <td>0fYpABrXb</td>\n",
       "      <td>YrpZD2B-o</td>\n",
       "      <td>Pzk2UKyZk</td>\n",
       "      <td>3604872</td>\n",
       "    </tr>\n",
       "    <tr>\n",
       "      <th>4</th>\n",
       "      <td>FmEAF-myl</td>\n",
       "      <td>6j10Sd240</td>\n",
       "      <td>4TLebQRBG</td>\n",
       "      <td>3627874</td>\n",
       "    </tr>\n",
       "  </tbody>\n",
       "</table>\n",
       "</div>"
      ],
      "text/plain": [
       "           0          1          2  user_id\n",
       "0  iX3X6tNDk  -yn-SCmEb  xhaWlfFsJ  3127735\n",
       "1  0fYpABrXb  cGl_BoPtW  AYfFjDSci  1402547\n",
       "2  VIpEwhPg5  YrpZD2B-o  Lo6wpP_2V  4424328\n",
       "3  0fYpABrXb  YrpZD2B-o  Pzk2UKyZk  3604872\n",
       "4  FmEAF-myl  6j10Sd240  4TLebQRBG  3627874"
      ]
     },
     "execution_count": 118,
     "metadata": {},
     "output_type": "execute_result"
    }
   ],
   "source": [
    "users_index = [str(i) for i in range(len(df))]\n",
    "df['user_id'] = map(lambda index: user_index_to_id.get(index),users_index)\n",
    "df.head()"
   ]
  },
  {
   "cell_type": "code",
   "execution_count": 122,
   "metadata": {},
   "outputs": [],
   "source": [
    "df.to_csv('data/recommended-articles-mapped.csv',index=False)\n"
   ]
  },
  {
   "cell_type": "code",
   "execution_count": 124,
   "metadata": {},
   "outputs": [
    {
     "name": "stdout",
     "output_type": "stream",
     "text": [
      "Copying file://data/recommended-articles-mapped.csv [Content-Type=text/csv]...\n",
      "- [1 files][ 39.4 MiB/ 39.4 MiB]                                                \n",
      "Operation completed over 1 objects/39.4 MiB.                                     \n"
     ]
    }
   ],
   "source": [
    "!gsutil cp data/recommended-articles-mapped.csv gs://{BUCKET}/wals/data"
   ]
  },
  {
   "cell_type": "code",
   "execution_count": 123,
   "metadata": {},
   "outputs": [
    {
     "name": "stdout",
     "output_type": "stream",
     "text": [
      "0,1,2,user_id\r\n",
      "iX3X6tNDk,-yn-SCmEb,xhaWlfFsJ,3127735\r\n",
      "0fYpABrXb,cGl_BoPtW,AYfFjDSci,1402547\r\n",
      "VIpEwhPg5,YrpZD2B-o,Lo6wpP_2V,4424328\r\n",
      "0fYpABrXb,YrpZD2B-o,Pzk2UKyZk,3604872\r\n",
      "FmEAF-myl,6j10Sd240,4TLebQRBG,3627874\r\n",
      "FOIVMpCUe,jSOes3ZLw,ianIQDGsG,3862440\r\n",
      "Qkrub5W13,YrpZD2B-o,4TLebQRBG,4961169\r\n",
      "U4DXwSu00,2d7eYMo6G,X5vYQVmaJ,3853869\r\n",
      "WL4mkK9Qj,jSOes3ZLw,0fYpABrXb,4491186\r\n"
     ]
    }
   ],
   "source": [
    "! head data/recommended-articles-mapped.csv"
   ]
  },
  {
   "cell_type": "code",
   "execution_count": 125,
   "metadata": {},
   "outputs": [
    {
     "name": "stdout",
     "output_type": "stream",
     "text": [
      "1086610 data/recommended-articles-mapped.csv\r\n"
     ]
    }
   ],
   "source": [
    "! wc -l data/recommended-articles-mapped.csv"
   ]
  }
 ],
 "metadata": {
  "kernelspec": {
   "display_name": "Python 2",
   "language": "python",
   "name": "python2"
  },
  "language_info": {
   "codemirror_mode": {
    "name": "ipython",
    "version": 2
   },
   "file_extension": ".py",
   "mimetype": "text/x-python",
   "name": "python",
   "nbconvert_exporter": "python",
   "pygments_lexer": "ipython2",
   "version": "2.7.15"
  }
 },
 "nbformat": 4,
 "nbformat_minor": 2
}
