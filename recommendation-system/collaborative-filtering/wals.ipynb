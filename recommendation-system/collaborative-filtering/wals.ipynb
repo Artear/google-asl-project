{
  "nbformat": 4,
  "nbformat_minor": 0,
  "metadata": {
    "colab": {
      "name": "wals.ipynb",
      "version": "0.3.2",
      "provenance": []
    },
    "kernelspec": {
      "display_name": "Python 2",
      "language": "python",
      "name": "python2"
    }
  },
  "cells": [
    {
      "metadata": {
        "id": "sl8gnHjeu_nC",
        "colab_type": "text"
      },
      "cell_type": "markdown",
      "source": [
        "# Collaborative filtering using WALS algorithm"
      ]
    },
    {
      "metadata": {
        "id": "i_IiSzwmvQJx",
        "colab_type": "code",
        "colab": {}
      },
      "cell_type": "code",
      "source": [
        "PROJECT = 'qwiklabs-gcp-4a684069c4776675'\n",
        "BUCKET = 'colaborative-filtering-agea'\n",
        "REGION = 'us-central1'"
      ],
      "execution_count": 0,
      "outputs": []
    },
    {
      "metadata": {
        "id": "ZGjYqlL1v5JT",
        "colab_type": "code",
        "colab": {}
      },
      "cell_type": "code",
      "source": [
        "import tensorflow as tf\n",
        "from google.cloud import bigquery\n",
        "from google.colab import auth\n"
      ],
      "execution_count": 0,
      "outputs": []
    },
    {
      "metadata": {
        "id": "m6hREOkTyMh9",
        "colab_type": "code",
        "colab": {}
      },
      "cell_type": "code",
      "source": [
        "auth.authenticate_user()"
      ],
      "execution_count": 0,
      "outputs": []
    },
    {
      "metadata": {
        "id": "5_HRDFAtwT91",
        "colab_type": "code",
        "colab": {
          "base_uri": "https://localhost:8080/",
          "height": 204
        },
        "outputId": "1110fb13-3af6-466d-95ff-cfcef0263d53"
      },
      "cell_type": "code",
      "source": [
        "client = bigquery.Client(project=PROJECT)\n",
        "sql=\"\"\"\n",
        "#standardSQL\n",
        "WITH visitor_page_content AS (\n",
        "\n",
        "   SELECT  \n",
        "     fullVisitorID,\n",
        "     (SELECT MAX(IF(index=10, value, NULL)) FROM UNNEST(hits.customDimensions)) AS latestContentId,  \n",
        "     (LEAD(hits.time, 1) OVER (PARTITION BY fullVisitorId ORDER BY hits.time ASC) - hits.time) AS session_duration \n",
        "   FROM `cloud-training-demos.GA360_test.ga_sessions_sample`,   \n",
        "     UNNEST(hits) AS hits\n",
        "   WHERE \n",
        "     # only include hits on pages\n",
        "      hits.type = \"PAGE\"\n",
        "\n",
        "   GROUP BY   \n",
        "     fullVisitorId, latestContentId, hits.time\n",
        "     )\n",
        "\n",
        "# aggregate web stats\n",
        "SELECT   \n",
        "  fullVisitorID as visitorId,\n",
        "  latestContentId as contentId,\n",
        "  SUM(session_duration) AS session_duration \n",
        " \n",
        "FROM visitor_page_content\n",
        "  WHERE latestContentId IS NOT NULL \n",
        "  GROUP BY fullVisitorID, latestContentId\n",
        "  HAVING session_duration > 0\n",
        "  ORDER BY latestContentId \n",
        "\"\"\"\n",
        "\n",
        "df = client.query(sql).to_dataframe()\n",
        "df.head()"
      ],
      "execution_count": 20,
      "outputs": [
        {
          "output_type": "execute_result",
          "data": {
            "text/html": [
              "<div>\n",
              "<style scoped>\n",
              "    .dataframe tbody tr th:only-of-type {\n",
              "        vertical-align: middle;\n",
              "    }\n",
              "\n",
              "    .dataframe tbody tr th {\n",
              "        vertical-align: top;\n",
              "    }\n",
              "\n",
              "    .dataframe thead th {\n",
              "        text-align: right;\n",
              "    }\n",
              "</style>\n",
              "<table border=\"1\" class=\"dataframe\">\n",
              "  <thead>\n",
              "    <tr style=\"text-align: right;\">\n",
              "      <th></th>\n",
              "      <th>visitorId</th>\n",
              "      <th>contentId</th>\n",
              "      <th>session_duration</th>\n",
              "    </tr>\n",
              "  </thead>\n",
              "  <tbody>\n",
              "    <tr>\n",
              "      <th>0</th>\n",
              "      <td>7337153711992174438</td>\n",
              "      <td>100074831</td>\n",
              "      <td>44652</td>\n",
              "    </tr>\n",
              "    <tr>\n",
              "      <th>1</th>\n",
              "      <td>5190801220865459604</td>\n",
              "      <td>100170790</td>\n",
              "      <td>1214205</td>\n",
              "    </tr>\n",
              "    <tr>\n",
              "      <th>2</th>\n",
              "      <td>5874973374932455844</td>\n",
              "      <td>100510126</td>\n",
              "      <td>32109</td>\n",
              "    </tr>\n",
              "    <tr>\n",
              "      <th>3</th>\n",
              "      <td>2293633612703952721</td>\n",
              "      <td>100510126</td>\n",
              "      <td>47744</td>\n",
              "    </tr>\n",
              "    <tr>\n",
              "      <th>4</th>\n",
              "      <td>1173698801255170595</td>\n",
              "      <td>100676857</td>\n",
              "      <td>10512</td>\n",
              "    </tr>\n",
              "  </tbody>\n",
              "</table>\n",
              "</div>"
            ],
            "text/plain": [
              "             visitorId  contentId  session_duration\n",
              "0  7337153711992174438  100074831             44652\n",
              "1  5190801220865459604  100170790           1214205\n",
              "2  5874973374932455844  100510126             32109\n",
              "3  2293633612703952721  100510126             47744\n",
              "4  1173698801255170595  100676857             10512"
            ]
          },
          "metadata": {
            "tags": []
          },
          "execution_count": 20
        }
      ]
    },
    {
      "metadata": {
        "id": "eGtO9YnU2Lx9",
        "colab_type": "code",
        "colab": {
          "base_uri": "https://localhost:8080/",
          "height": 204
        },
        "outputId": "526d0243-5fd2-4fd5-8cff-2363d095f41f"
      },
      "cell_type": "code",
      "source": [
        "sql = \"\"\"\n",
        "SELECT * FROM AGEA_ASL.Dataset_B LIMIT 10\n",
        "\"\"\"\n",
        "client.query(sql).to_dataframe().head()"
      ],
      "execution_count": 23,
      "outputs": [
        {
          "output_type": "execute_result",
          "data": {
            "text/html": [
              "<div>\n",
              "<style scoped>\n",
              "    .dataframe tbody tr th:only-of-type {\n",
              "        vertical-align: middle;\n",
              "    }\n",
              "\n",
              "    .dataframe tbody tr th {\n",
              "        vertical-align: top;\n",
              "    }\n",
              "\n",
              "    .dataframe thead th {\n",
              "        text-align: right;\n",
              "    }\n",
              "</style>\n",
              "<table border=\"1\" class=\"dataframe\">\n",
              "  <thead>\n",
              "    <tr style=\"text-align: right;\">\n",
              "      <th></th>\n",
              "      <th>rownum</th>\n",
              "      <th>content_id</th>\n",
              "      <th>day</th>\n",
              "      <th>user_id</th>\n",
              "    </tr>\n",
              "  </thead>\n",
              "  <tbody>\n",
              "    <tr>\n",
              "      <th>0</th>\n",
              "      <td>43237075</td>\n",
              "      <td>sVu74bbfv</td>\n",
              "      <td>2019-01-01</td>\n",
              "      <td>3709618</td>\n",
              "    </tr>\n",
              "    <tr>\n",
              "      <th>1</th>\n",
              "      <td>43237470</td>\n",
              "      <td>NaTdXsf-I</td>\n",
              "      <td>2019-01-01</td>\n",
              "      <td>3881617</td>\n",
              "    </tr>\n",
              "    <tr>\n",
              "      <th>2</th>\n",
              "      <td>43238282</td>\n",
              "      <td>pyb5gkGxe</td>\n",
              "      <td>2019-01-01</td>\n",
              "      <td>3200261</td>\n",
              "    </tr>\n",
              "    <tr>\n",
              "      <th>3</th>\n",
              "      <td>43238638</td>\n",
              "      <td>w_UpfsohQ</td>\n",
              "      <td>2019-01-01</td>\n",
              "      <td>3468920</td>\n",
              "    </tr>\n",
              "    <tr>\n",
              "      <th>4</th>\n",
              "      <td>43239507</td>\n",
              "      <td>PjBv31CcC</td>\n",
              "      <td>2019-01-01</td>\n",
              "      <td>5487623</td>\n",
              "    </tr>\n",
              "  </tbody>\n",
              "</table>\n",
              "</div>"
            ],
            "text/plain": [
              "     rownum content_id         day  user_id\n",
              "0  43237075  sVu74bbfv  2019-01-01  3709618\n",
              "1  43237470  NaTdXsf-I  2019-01-01  3881617\n",
              "2  43238282  pyb5gkGxe  2019-01-01  3200261\n",
              "3  43238638  w_UpfsohQ  2019-01-01  3468920\n",
              "4  43239507  PjBv31CcC  2019-01-01  5487623"
            ]
          },
          "metadata": {
            "tags": []
          },
          "execution_count": 23
        }
      ]
    },
    {
      "metadata": {
        "id": "-rjoNdYXyhX5",
        "colab_type": "code",
        "colab": {}
      },
      "cell_type": "code",
      "source": [
        ""
      ],
      "execution_count": 0,
      "outputs": []
    },
    {
      "metadata": {
        "id": "VpAq2PJPy7EU",
        "colab_type": "code",
        "colab": {}
      },
      "cell_type": "code",
      "source": [
        ""
      ],
      "execution_count": 0,
      "outputs": []
    }
  ]
}