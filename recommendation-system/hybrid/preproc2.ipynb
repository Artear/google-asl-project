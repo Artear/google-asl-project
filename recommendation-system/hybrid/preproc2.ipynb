{
 "cells": [
  {
   "cell_type": "code",
   "execution_count": 1,
   "metadata": {},
   "outputs": [],
   "source": [
    "PROJECT = 'qwiklabs-gcp-4a684069c4776675'\n",
    "BUCKET = 'colaborative-filtering-agea'\n",
    "REGION = 'us-central1'"
   ]
  },
  {
   "cell_type": "code",
   "execution_count": 2,
   "metadata": {},
   "outputs": [
    {
     "name": "stderr",
     "output_type": "stream",
     "text": [
      "/usr/local/envs/py3env/lib/python3.5/site-packages/h5py/__init__.py:36: FutureWarning: Conversion of the second argument of issubdtype from `float` to `np.floating` is deprecated. In future, it will be treated as `np.float64 == np.dtype(float).type`.\n",
      "  from ._conv import register_converters as _register_converters\n"
     ]
    }
   ],
   "source": [
    "import tensorflow as tf\n",
    "from tensorflow.contrib.factorization import WALSMatrixFactorization\n",
    "import google.datalab.bigquery as bq\n",
    "import numpy as np"
   ]
  },
  {
   "cell_type": "code",
   "execution_count": 9,
   "metadata": {},
   "outputs": [
    {
     "name": "stdout",
     "output_type": "stream",
     "text": [
      "Copying gs://colaborative-filtering-agea/wals/data/batch_pred.txt...\n",
      "Copying gs://colaborative-filtering-agea/wals/data/collab_mapped.csv...         \n",
      "==> NOTE: You are downloading one or more large file(s), which would            \n",
      "run significantly faster if you enabled sliced object downloads. This\n",
      "feature is enabled by default but requires that compiled crcmod be\n",
      "installed (see \"gsutil help crcmod\").\n",
      "\n",
      "Copying gs://colaborative-filtering-agea/wals/data/collab_raw.csv...            \n",
      "Copying gs://colaborative-filtering-agea/wals/data/items.csv...                 \n",
      "- [4 files][  1.4 GiB/  1.4 GiB]    2.3 MiB/s                                   \n",
      "==> NOTE: You are performing a sequence of gsutil operations that may\n",
      "run significantly faster if you instead use gsutil -m cp ... Please\n",
      "see the -m section under \"gsutil help options\" for further information\n",
      "about when gsutil -m can be advantageous.\n",
      "\n",
      "Copying gs://colaborative-filtering-agea/wals/data/items_for_user...\n",
      "Copying gs://colaborative-filtering-agea/wals/data/recommended-articles-mapped.csv...\n",
      "Copying gs://colaborative-filtering-agea/wals/data/users.csv...                 \n",
      "Copying gs://colaborative-filtering-agea/wals/data/users_for_item...            \n",
      "/ [8 files][  2.1 GiB/  2.1 GiB]   65.7 MiB/s                                   \n",
      "Operation completed over 8 objects/2.1 GiB.                                      \n"
     ]
    }
   ],
   "source": [
    "!gsutil cp gs://{BUCKET}/wals/data/* data"
   ]
  },
  {
   "cell_type": "code",
   "execution_count": 10,
   "metadata": {},
   "outputs": [],
   "source": [
    "def get_factors(args):\n",
    "  with tf.Session() as sess:\n",
    "    estimator = WALSMatrixFactorization(\n",
    "      num_rows=args['nusers'], num_cols=args['nitems'],\n",
    "      embedding_dimension=args['n_embeds'],\n",
    "      model_dir=args['model_dir']\n",
    "    )\n",
    "    row_factors = estimator.get_row_factors()[0]\n",
    "    col_factors = estimator.get_col_factors()[0]\n",
    "    return row_factors, col_factors"
   ]
  },
  {
   "cell_type": "code",
   "execution_count": 11,
   "metadata": {},
   "outputs": [
    {
     "name": "stdout",
     "output_type": "stream",
     "text": [
      "WARNING:tensorflow:From /usr/local/envs/py3env/lib/python3.5/site-packages/tensorflow/contrib/learn/python/learn/estimators/estimator.py:1179: BaseEstimator.__init__ (from tensorflow.contrib.learn.python.learn.estimators.estimator) is deprecated and will be removed in a future version.\n",
      "Instructions for updating:\n",
      "Please replace uses of any Estimator from tf.contrib.learn with an Estimator from tf.estimator.*\n",
      "WARNING:tensorflow:From /usr/local/envs/py3env/lib/python3.5/site-packages/tensorflow/contrib/learn/python/learn/estimators/estimator.py:427: RunConfig.__init__ (from tensorflow.contrib.learn.python.learn.estimators.run_config) is deprecated and will be removed in a future version.\n",
      "Instructions for updating:\n",
      "When switching to tf.estimator.Estimator, use tf.estimator.RunConfig instead.\n",
      "INFO:tensorflow:Using default config.\n",
      "INFO:tensorflow:Using config: {'_cluster_spec': <tensorflow.python.training.server_lib.ClusterSpec object at 0x7f129a7b67b8>, '_evaluation_master': '', '_save_checkpoints_steps': None, '_num_worker_replicas': 0, '_task_id': 0, '_tf_random_seed': None, '_is_chief': True, '_train_distribute': None, '_environment': 'local', '_task_type': None, '_session_config': None, '_keep_checkpoint_every_n_hours': 10000, '_model_dir': 'gs://colaborative-filtering-agea/wals/model_trained', '_log_step_count_steps': 100, '_tf_config': gpu_options {\n",
      "  per_process_gpu_memory_fraction: 1.0\n",
      "}\n",
      ", '_num_ps_replicas': 0, '_save_summary_steps': 100, '_keep_checkpoint_max': 5, '_master': '', '_save_checkpoints_secs': 600}\n"
     ]
    }
   ],
   "source": [
    "args = {\n",
    "    'model_dir': 'gs://{}/wals/model_trained'.format(BUCKET),\n",
    "    'nitems': 18716,\n",
    "    'nusers': 1086609,\n",
    "    'n_embeds': 10\n",
    "  }\n",
    "\n",
    "user_embeddings, item_embeddings = get_factors(args)"
   ]
  },
  {
   "cell_type": "code",
   "execution_count": 12,
   "metadata": {},
   "outputs": [],
   "source": [
    "import csv\n",
    "def index_to_id(filename):\n",
    "  with open(filename, 'r') as csvfile:\n",
    "    index_to_id = {}\n",
    "    readCSV = csv.reader(csvfile, delimiter=',')\n",
    "    for row in readCSV:\n",
    "        index_to_id[row[1]] = row[0]\n",
    "  return index_to_id"
   ]
  },
  {
   "cell_type": "code",
   "execution_count": 13,
   "metadata": {},
   "outputs": [],
   "source": [
    "def create_factors_file(indexes,values, filename):\n",
    "  with open(filename, 'w') as ofp:\n",
    "    for id, value in enumerate(values):\n",
    "      value = ','.join(map(str,value))\n",
    "      ofp.write('{},{}\\n'.format(indexes.get(str(id)), value))"
   ]
  },
  {
   "cell_type": "code",
   "execution_count": 14,
   "metadata": {},
   "outputs": [],
   "source": [
    "user_indexes = index_to_id('data/users.csv')\n",
    "create_factors_file(user_indexes,user_embeddings,'data/user-factors.csv')"
   ]
  },
  {
   "cell_type": "code",
   "execution_count": 15,
   "metadata": {},
   "outputs": [
    {
     "name": "stdout",
     "output_type": "stream",
     "text": [
      "3127735,-0.0017153154,0.0032848527,0.0076523665,-0.0019144089,-0.0059423726,-0.0017860208,0.0027878233,0.0008396567,-0.0009451813,-0.0009942508\r\n",
      "1402547,-0.0017607884,0.0021899592,0.00084968493,-0.0033975916,0.0017300133,-0.00020751615,0.00089092355,0.0024477844,0.0010480098,0.00034418874\r\n",
      "4424328,4.5968216e-05,-0.00017753341,0.00012805944,-4.1691e-05,-0.00015069611,-0.00010710357,-0.00011879814,1.8828776e-05,-6.2402294e-05,-6.806698e-05\r\n",
      "3604872,-0.0014606222,-0.00011086347,0.0011216926,-0.0027857579,0.002231331,0.0020026544,-0.0056454516,0.0020387652,0.003127153,6.9451125e-05\r\n",
      "3627874,-0.00323687,-0.0013578553,0.009516894,0.0031726437,0.0010611685,0.0012763955,-0.005059517,0.0004372349,0.006737452,0.0007977917\r\n",
      "3862440,0.0011209525,0.0030286198,0.006886179,-0.0051683662,-0.001690426,0.0059568845,-0.011305199,-0.006216809,-0.0020964425,0.0032636446\r\n",
      "4961169,-0.0016805363,-0.0013381562,-0.00063323614,-0.00081844523,-0.000707734,0.0017801853,-0.00014434256,0.0032968502,0.0029611434,-0.00048120425\r\n",
      "3853869,0.00025145616,0.0013316914,-0.0015538619,-0.00011498305,-0.0019456642,0.0020074716,-0.0034496482,0.0004999959,0.0014768209,0.0023265008\r\n",
      "4491186,-0.0036917618,0.00595262,0.003247491,-0.00091114,-0.0022810318,-0.0002798045,-0.004885294,-0.00018944887,-0.0002749989,0.004450919\r\n",
      "5604673,-0.0035410076,-0.001975935,0.006186696,0.001525544,0.0036369537,0.0028406305,-0.00055888295,-0.0008597857,0.009488291,-0.0034262568\r\n"
     ]
    }
   ],
   "source": [
    "!head data/user-factors.csv"
   ]
  },
  {
   "cell_type": "code",
   "execution_count": 16,
   "metadata": {},
   "outputs": [],
   "source": [
    "item_indexes = index_to_id('data/items.csv')\n",
    "create_factors_file(item_indexes,user_embeddings,'data/items-factors.csv')"
   ]
  },
  {
   "cell_type": "code",
   "execution_count": 17,
   "metadata": {},
   "outputs": [
    {
     "name": "stdout",
     "output_type": "stream",
     "text": [
      "JVAFAfO5p,-0.0017153154,0.0032848527,0.0076523665,-0.0019144089,-0.0059423726,-0.0017860208,0.0027878233,0.0008396567,-0.0009451813,-0.0009942508\r\n",
      "YhYp5WCm-,-0.0017607884,0.0021899592,0.00084968493,-0.0033975916,0.0017300133,-0.00020751615,0.00089092355,0.0024477844,0.0010480098,0.00034418874\r\n",
      "ekUWVdEXY,4.5968216e-05,-0.00017753341,0.00012805944,-4.1691e-05,-0.00015069611,-0.00010710357,-0.00011879814,1.8828776e-05,-6.2402294e-05,-6.806698e-05\r\n",
      "Y-vZd0XoQ,-0.0014606222,-0.00011086347,0.0011216926,-0.0027857579,0.002231331,0.0020026544,-0.0056454516,0.0020387652,0.003127153,6.9451125e-05\r\n",
      "2nvx6mPGW,-0.00323687,-0.0013578553,0.009516894,0.0031726437,0.0010611685,0.0012763955,-0.005059517,0.0004372349,0.006737452,0.0007977917\r\n",
      "9P5DtZj9t,0.0011209525,0.0030286198,0.006886179,-0.0051683662,-0.001690426,0.0059568845,-0.011305199,-0.006216809,-0.0020964425,0.0032636446\r\n",
      "0bMjAUf8i,-0.0016805363,-0.0013381562,-0.00063323614,-0.00081844523,-0.000707734,0.0017801853,-0.00014434256,0.0032968502,0.0029611434,-0.00048120425\r\n",
      "SRlruhYHQ,0.00025145616,0.0013316914,-0.0015538619,-0.00011498305,-0.0019456642,0.0020074716,-0.0034496482,0.0004999959,0.0014768209,0.0023265008\r\n",
      "ws7UTZTlf,-0.0036917618,0.00595262,0.003247491,-0.00091114,-0.0022810318,-0.0002798045,-0.004885294,-0.00018944887,-0.0002749989,0.004450919\r\n",
      "5wAUEiwRI,-0.0035410076,-0.001975935,0.006186696,0.001525544,0.0036369537,0.0028406305,-0.00055888295,-0.0008597857,0.009488291,-0.0034262568\r\n"
     ]
    }
   ],
   "source": [
    "!head data/items-factors.csv"
   ]
  },
  {
   "cell_type": "code",
   "execution_count": 18,
   "metadata": {},
   "outputs": [
    {
     "name": "stdout",
     "output_type": "stream",
     "text": [
      "Copying file://data/items-factors.csv [Content-Type=text/csv]...\n",
      "Copying file://data/user-factors.csv [Content-Type=text/csv]...                 \n",
      "==> NOTE: You are uploading one or more large file(s), which would run          \n",
      "significantly faster if you enable parallel composite uploads. This\n",
      "feature can be enabled by editing the\n",
      "\"parallel_composite_upload_threshold\" value in your .boto\n",
      "configuration file. However, note that if you do this large files will\n",
      "be uploaded as `composite objects\n",
      "<https://cloud.google.com/storage/docs/composite-objects>`_,which\n",
      "means that any user who downloads such objects will need to have a\n",
      "compiled crcmod installed (see \"gsutil help crcmod\"). This is because\n",
      "without a compiled crcmod, computing checksums on composite objects is\n",
      "so slow that gsutil disables downloads of composite objects.\n",
      "\n",
      "\\ [2 files][299.5 MiB/299.5 MiB]                                                \n",
      "Operation completed over 2 objects/299.5 MiB.                                    \n"
     ]
    }
   ],
   "source": [
    "!gsutil cp data/*-factors.csv gs://{BUCKET}/data"
   ]
  },
  {
   "cell_type": "code",
   "execution_count": 3,
   "metadata": {},
   "outputs": [],
   "source": [
    "def get_factors_columns_casted(factors_table, factors_name):\n",
    "  return  \",'|',\".join([\"cast({}._{} as STRING) \".format(factors_table,i,factors_name,i) for i in range(10)])"
   ]
  },
  {
   "cell_type": "code",
   "execution_count": 4,
   "metadata": {},
   "outputs": [],
   "source": [
    "def get_articles_vector_average():\n",
    "  vector_columns = [\"v{}\".format(i) for i in range(50)]\n",
    "  vector_columns_str = \",\".join(vector_columns)\n",
    "  average_columns_str = \",'|',\".join(map(lambda x: 'CAST(AVG({}) as STRING)'.format(x),vector_columns))\n",
    "  query = \"\"\"\n",
    "      SELECT\n",
    "        user_id,\n",
    "        CONCAT({}) AS doc2vec_avg\n",
    "      FROM\n",
    "        `AGEA_ASL.Dataset_D` \n",
    "      GROUP BY user_id\n",
    "  \"\"\"\n",
    "  return query.format(average_columns_str)"
   ]
  },
  {
   "cell_type": "code",
   "execution_count": 13,
   "metadata": {},
   "outputs": [],
   "source": [
    "def get_hybrid_dataset_query():\n",
    "  vector_columns = [\"d.v{}\".format(i) for i in range(50)]\n",
    "  vector_columns_with_alias = \",'|',\".join([\"CAST(d.v{} as STRING)\".format(i,i) for i in range(50)])\n",
    "  \n",
    "  user_factors_columns  =  get_factors_columns_casted('user_factors','user_factor')\n",
    "  item_factors_columns  =  get_factors_columns_casted('item_factors','item_factor')\n",
    "  \n",
    "  query = \"\"\"\n",
    "      SELECT\n",
    "        d.user_id,\n",
    "        d.content_id,\n",
    "        a.title,\n",
    "        a.section_1,\n",
    "        a.tag_1,\n",
    "        users.gender,\n",
    "        users.age,\n",
    "        CONCAT({}) as d2v,\n",
    "        CONCAT({}) as user_factors,\n",
    "        CONCAT({}) as item_factors,\n",
    "        FARM_FINGERPRINT(CONCAT(CAST(d.user_id AS STRING), CAST(d.content_id AS STRING))) AS hash_id,\n",
    "        LEAD(d.content_id,1) OVER (PARTITION BY d.user_id ORDER BY CAST(day_write AS DATETIME) DESC) AS next_article,\n",
    "        article_vector_average.doc2vec_avg\n",
    "      FROM\n",
    "        `AGEA_ASL.Dataset_D` d \n",
    "        JOIN `AGEA_ASL.Dataset_A` a ON a.content_id = d.content_id\n",
    "        JOIN `AGEA_ASL.user_factors` user_factors ON d.user_id = user_factors.user_id\n",
    "        JOIN `AGEA_ASL.item_factors` item_factors ON d.content_id = item_factors.content_id\n",
    "        JOIN ({}) as article_vector_average ON article_vector_average.user_id = d.user_id\n",
    "        JOIN `AGEA_ASL.users_data` users ON users.user_id = d.user_id\n",
    "      LIMIT 10\n",
    "  \"\"\".format(vector_columns_with_alias,user_factors_columns,item_factors_columns, get_articles_vector_average())\n",
    "  return query\n",
    "\n"
   ]
  },
  {
   "cell_type": "code",
   "execution_count": null,
   "metadata": {},
   "outputs": [],
   "source": [
    "hybrid_query = get_hybrid_dataset_query()\n",
    "hybrid_dataset = bq.Query(hybrid_query).execute().result().to_dataframe()"
   ]
  },
  {
   "cell_type": "code",
   "execution_count": null,
   "metadata": {},
   "outputs": [],
   "source": [
    "print(hybrid_query)"
   ]
  },
  {
   "cell_type": "code",
   "execution_count": null,
   "metadata": {},
   "outputs": [],
   "source": [
    "hybrid_dataset.head()"
   ]
  },
  {
   "cell_type": "code",
   "execution_count": null,
   "metadata": {},
   "outputs": [],
   "source": [
    "df.to_csv('data/hybrid_dataset.csv',index=False)"
   ]
  },
  {
   "cell_type": "code",
   "execution_count": null,
   "metadata": {},
   "outputs": [],
   "source": [
    "!gsutil cp data/hybrid_dataset.csv gs://{BUCKET}/wals/data"
   ]
  },
  {
   "cell_type": "code",
   "execution_count": null,
   "metadata": {},
   "outputs": [],
   "source": [
    "!head data/hybrid_dataset.csv"
   ]
  },
  {
   "cell_type": "code",
   "execution_count": 18,
   "metadata": {},
   "outputs": [
    {
     "data": {
      "text/plain": [
       "\"d.v0,'|',d.v1,'|',d.v2,'|',d.v3,'|',d.v4,'|',d.v5,'|',d.v6,'|',d.v7,'|',d.v8,'|',d.v9,'|',d.v10,'|',d.v11,'|',d.v12,'|',d.v13,'|',d.v14,'|',d.v15,'|',d.v16,'|',d.v17,'|',d.v18,'|',d.v19,'|',d.v20,'|',d.v21,'|',d.v22,'|',d.v23,'|',d.v24,'|',d.v25,'|',d.v26,'|',d.v27,'|',d.v28,'|',d.v29,'|',d.v30,'|',d.v31,'|',d.v32,'|',d.v33,'|',d.v34,'|',d.v35,'|',d.v36,'|',d.v37,'|',d.v38,'|',d.v39,'|',d.v40,'|',d.v41,'|',d.v42,'|',d.v43,'|',d.v44,'|',d.v45,'|',d.v46,'|',d.v47,'|',d.v48,'|',d.v49\""
      ]
     },
     "execution_count": 18,
     "metadata": {},
     "output_type": "execute_result"
    }
   ],
   "source": [
    "\",'|',\".join([\"d.v{}\".format(i,i) for i in range(50)])"
   ]
  },
  {
   "cell_type": "code",
   "execution_count": null,
   "metadata": {},
   "outputs": [],
   "source": []
  }
 ],
 "metadata": {
  "kernelspec": {
   "display_name": "Python 3",
   "language": "python",
   "name": "python3"
  },
  "language_info": {
   "codemirror_mode": {
    "name": "ipython",
    "version": 3
   },
   "file_extension": ".py",
   "mimetype": "text/x-python",
   "name": "python",
   "nbconvert_exporter": "python",
   "pygments_lexer": "ipython3",
   "version": "3.5.6"
  }
 },
 "nbformat": 4,
 "nbformat_minor": 2
}
