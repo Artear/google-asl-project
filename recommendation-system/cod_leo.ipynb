{
  "nbformat": 4,
  "nbformat_minor": 0,
  "metadata": {
    "colab": {
      "name": "Untitled0.ipynb",
      "version": "0.3.2",
      "provenance": [],
      "include_colab_link": true
    },
    "kernelspec": {
      "name": "python3",
      "display_name": "Python 3"
    }
  },
  "cells": [
    {
      "cell_type": "markdown",
      "metadata": {
        "id": "view-in-github",
        "colab_type": "text"
      },
      "source": [
        "<a href=\"https://colab.research.google.com/github/marianoogimenez/google-asl-project/blob/master/recommendation-system/cod_leo.ipynb\" target=\"_parent\"><img src=\"https://colab.research.google.com/assets/colab-badge.svg\" alt=\"Open In Colab\"/></a>"
      ]
    },
    {
      "metadata": {
        "id": "Ktl75JTb3KfY",
        "colab_type": "code",
        "colab": {}
      },
      "cell_type": "code",
      "source": [
        "import pandas as pd\n",
        "import numpy as np\n",
        "import re\n",
        "import nltk\n",
        "import string\n",
        "import pandas as pd\n",
        "import gensim\n",
        "from nltk import SnowballStemmer\n",
        "import ibis"
      ],
      "execution_count": 0,
      "outputs": []
    },
    {
      "metadata": {
        "id": "-DZtkd2F3R5l",
        "colab_type": "code",
        "colab": {}
      },
      "cell_type": "code",
      "source": [
        "\n",
        "df = pd.read_csv(\"dataset_A.csv\",index_col=0)"
      ],
      "execution_count": 0,
      "outputs": []
    },
    {
      "metadata": {
        "id": "p8ZYQav33XLY",
        "colab_type": "code",
        "colab": {}
      },
      "cell_type": "code",
      "source": [
        "\n",
        "def limpiador_cuerpo(x):\n",
        "    x= x.strip()\n",
        "    x= x.lower()\n",
        "    x= re.sub(\"&#xe1;\",\"á\",x)\n",
        "    x= re.sub(\"&#xe9;\",\"é\",x)\n",
        "    x= re.sub(\"&#xed;\",\"í\",x)\n",
        "    x= re.sub(\"&#xf3;\",\"ó\",x)\n",
        "    x= re.sub(\"&#xfa;\",\"ú\",x)\n",
        "    x= re.sub('<.*?>', '',x)\n",
        "    x= re.sub(pattern=\"&quot;\",repl=\"\",string=x)\n",
        "    x= re.sub(\"&.*?;\",\" \",x)\n",
        "    x= re.sub(pattern=\"[^a-zA-Záéíóúñ \\n]\",repl=\"\",string=x)\n",
        "    return x\n",
        "\n",
        "def sacar_stop(tokens,idioma=\"spanish\",min_len = 3,stemizar= False):\n",
        "    stopwords = nltk.corpus.stopwords.words(idioma)\n",
        "    tok_filt = [token for token in tokens if token not in stopwords and len(token)>=min_len]\n",
        "    #tok_filt = [token for token in tok_filt if token not in nltk.corpus.stopwords.words(\"english\")]\n",
        "    if stemizar:\n",
        "        tok_filt = [self.stem.stem(token) for token in tok_filt]\n",
        "    return tok_filt"
      ],
      "execution_count": 0,
      "outputs": []
    },
    {
      "metadata": {
        "id": "PTiHnNO03Z0D",
        "colab_type": "code",
        "colab": {}
      },
      "cell_type": "code",
      "source": [
        "notas_tokenizadas = [sacar_stop(limpiador_cuerpo(x).split(\" \")) for x in df.body_raw]"
      ],
      "execution_count": 0,
      "outputs": []
    },
    {
      "metadata": {
        "id": "0g3dPJIw3cFC",
        "colab_type": "code",
        "colab": {}
      },
      "cell_type": "code",
      "source": [
        "d2v = gensim.models.doc2vec.Doc2Vec.load(\"doc2vecleo\") ## levanto el doc2vec entrenado con casi medio palo de notas"
      ],
      "execution_count": 0,
      "outputs": []
    },
    {
      "metadata": {
        "id": "HkP8cQzc3cqE",
        "colab_type": "code",
        "colab": {}
      },
      "cell_type": "code",
      "source": [
        "ans = []\n",
        "for nota in notas_tokenizadas:\n",
        "    ans.append(d2v.infer_vector(nota))\n",
        "notas_vec = np.array(ans)\n",
        "np.savetxt(X=notas_vec,fname=\"notas_datasetA_vectorizadas.txt\")"
      ],
      "execution_count": 0,
      "outputs": []
    }
  ]
}