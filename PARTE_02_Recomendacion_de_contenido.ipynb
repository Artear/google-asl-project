{
  "nbformat": 4,
  "nbformat_minor": 0,
  "metadata": {
    "colab": {
      "name": "PARTE 02 - Recomendacion de contenido.ipynb",
      "version": "0.3.2",
      "provenance": [],
      "collapsed_sections": [],
      "include_colab_link": true
    },
    "kernelspec": {
      "name": "python3",
      "display_name": "Python 3"
    }
  },
  "cells": [
    {
      "cell_type": "markdown",
      "metadata": {
        "id": "view-in-github",
        "colab_type": "text"
      },
      "source": [
        "<a href=\"https://colab.research.google.com/github/marianoogimenez/google-asl-project/blob/master/PARTE_02_Recomendacion_de_contenido.ipynb\" target=\"_parent\"><img src=\"https://colab.research.google.com/assets/colab-badge.svg\" alt=\"Open In Colab\"/></a>"
      ]
    },
    {
      "metadata": {
        "id": "o9kBXGxGbF_Z",
        "colab_type": "code",
        "colab": {}
      },
      "cell_type": "code",
      "source": [
        "import pandas as pd\n",
        "import numpy as np\n",
        "import re\n",
        "import nltk\n",
        "import string\n",
        "import matplotlib.pyplot  as plt\n",
        "#import pattern.es \n",
        "import pandas as pd\n",
        "from sklearn.feature_extraction.text import CountVectorizer\n",
        "from sklearn.feature_extraction.text import TfidfTransformer, TfidfVectorizer\n",
        "from sklearn.decomposition import NMF\n",
        "import unidecode\n",
        "import gensim\n",
        "from nltk import SnowballStemmer\n",
        "from sklearn.model_selection import train_test_split\n",
        "from scipy.spatial.distance import cosine\n",
        "import pickle\n",
        "import tensorflow as tf\n",
        "import tensorflow_hub as hub\n",
        "import shutil"
      ],
      "execution_count": 0,
      "outputs": []
    },
    {
      "metadata": {
        "id": "M67-IkWqcSKS",
        "colab_type": "code",
        "colab": {}
      },
      "cell_type": "code",
      "source": [
        "PROJECT = 'qwiklabs-gcp-4a684069c4776675'\n",
        "BUCKET = 'bucket_leo'\n",
        "REGION = 'us-central1'\n",
        "\n",
        "import tensorflow as tf\n",
        "from google.cloud import bigquery\n",
        "from google.colab import auth"
      ],
      "execution_count": 0,
      "outputs": []
    },
    {
      "metadata": {
        "id": "a5Hjk9nKcWKz",
        "colab_type": "code",
        "colab": {}
      },
      "cell_type": "code",
      "source": [
        "auth.authenticate_user()"
      ],
      "execution_count": 0,
      "outputs": []
    },
    {
      "metadata": {
        "id": "nDodPemYcY-O",
        "colab_type": "code",
        "colab": {}
      },
      "cell_type": "code",
      "source": [
        "client = bigquery.Client(project=PROJECT)\n",
        "sql = \"\"\"\n",
        "SELECT * FROM AGEA_ASL.Dataset_A\n",
        "\"\"\"\n",
        "client.query(sql).to_dataframe().head()\n",
        "da = client.query(sql).to_dataframe()\n",
        "da.head()"
      ],
      "execution_count": 0,
      "outputs": []
    },
    {
      "metadata": {
        "id": "LVwWLbevbQ__",
        "colab_type": "code",
        "colab": {}
      },
      "cell_type": "code",
      "source": [
        "da = pd.read_csv(\"C:\\\\Users\\\\ldalera.AGEA\\\\Documents\\\\Google\\\\Recomendacion\\\\dataset\\\\dataset_A.csv\",index_col = 0)"
      ],
      "execution_count": 0,
      "outputs": []
    },
    {
      "metadata": {
        "id": "M7v0HcCFbU8D",
        "colab_type": "code",
        "colab": {}
      },
      "cell_type": "code",
      "source": [
        "#da_v = pd.read_csv(\"C:\\\\Users\\\\ldalera.AGEA\\\\Documents\\\\Google\\\\Recomendacion\\\\Codigos\\\\notas_datasetA_vectoriz.txt\",sep=\" \",header=None)"
      ],
      "execution_count": 0,
      "outputs": []
    },
    {
      "metadata": {
        "id": "VcISdyZcbYF8",
        "colab_type": "code",
        "colab": {}
      },
      "cell_type": "code",
      "source": [
        "da_v.columns = [\"v\" + str(x) for x in np.arange(50)]\n"
      ],
      "execution_count": 0,
      "outputs": []
    },
    {
      "metadata": {
        "id": "OjZLBt4obar1",
        "colab_type": "code",
        "colab": {}
      },
      "cell_type": "code",
      "source": [
        "# junto dataset_a y le pongo los vectores de las notas (18.720 notas)\n",
        "da = pd.concat([da,da_v],1)"
      ],
      "execution_count": 0,
      "outputs": []
    },
    {
      "metadata": {
        "id": "MdncobwSbdX-",
        "colab_type": "code",
        "colab": {}
      },
      "cell_type": "code",
      "source": [
        "db =  pd.read_csv(\"C:\\\\Users\\\\ldalera.AGEA\\\\Documents\\\\Google\\\\Recomendacion\\\\dataset\\\\dataset_B_corregido.csv\",index_col= 0)\n",
        "db = db.dropna()\n"
      ],
      "execution_count": 0,
      "outputs": []
    },
    {
      "metadata": {
        "id": "Cr_cDrjKbf7e",
        "colab_type": "code",
        "colab": {}
      },
      "cell_type": "code",
      "source": [
        "pases = np.unique(db.pase_id)\n",
        "print (\"checkpoint\")"
      ],
      "execution_count": 0,
      "outputs": []
    },
    {
      "metadata": {
        "id": "S-5o3g3wbmIb",
        "colab_type": "code",
        "colab": {}
      },
      "cell_type": "code",
      "source": [
        "### escrito así es re de croto. Esto debería estar parametrizado respecto de db\n",
        "def obtener_vec(x):\n",
        "    return db[db.pase_id == x].merge(da,on=\"content_id\")[da_v.columns].mean(0)"
      ],
      "execution_count": 0,
      "outputs": []
    },
    {
      "metadata": {
        "id": "aw11i9Z1bry-",
        "colab_type": "code",
        "colab": {}
      },
      "cell_type": "code",
      "source": [
        "#a cada pase_id, le pego el content_id y le agrego las columnas.\n",
        "ans=[]\n",
        "for pase in pases:\n",
        "    ans.append(obtener_vec(pase))"
      ],
      "execution_count": 0,
      "outputs": []
    },
    {
      "metadata": {
        "id": "wtGolfV3bwii",
        "colab_type": "code",
        "colab": {}
      },
      "cell_type": "code",
      "source": [
        "ans2_v = np.array(ans)"
      ],
      "execution_count": 0,
      "outputs": []
    },
    {
      "metadata": {
        "id": "3fKHaCk8bzNk",
        "colab_type": "code",
        "colab": {}
      },
      "cell_type": "code",
      "source": [
        "df_vector_promedio_pase = pd.concat([pd.Series(pases),pd.DataFrame(ans2_v)],1)\n"
      ],
      "execution_count": 0,
      "outputs": []
    },
    {
      "metadata": {
        "id": "8I-ICE4db2Gp",
        "colab_type": "code",
        "colab": {}
      },
      "cell_type": "code",
      "source": [
        "df_vector_promedio_pase.to_csv(\"C:\\\\Users\\\\ldalera.AGEA\\\\Documents\\\\Google\\\\Recomendacion\\\\dataset\\\\vector_todas_las_notas_x_pase2.csv\")"
      ],
      "execution_count": 0,
      "outputs": []
    },
    {
      "metadata": {
        "id": "YkhMjay3b5C5",
        "colab_type": "code",
        "colab": {}
      },
      "cell_type": "code",
      "source": [
        "df_vector_promedio_pase.columns = [\"pase_id\"] + list(da_v.columns)"
      ],
      "execution_count": 0,
      "outputs": []
    },
    {
      "metadata": {
        "id": "HiB8mx4Sb-oH",
        "colab_type": "code",
        "colab": {}
      },
      "cell_type": "code",
      "source": [
        "np.unique(db.pase_id).shape"
      ],
      "execution_count": 0,
      "outputs": []
    },
    {
      "metadata": {
        "id": "LzMRe8JucCE1",
        "colab_type": "code",
        "colab": {}
      },
      "cell_type": "code",
      "source": [
        "df_vector_promedio_pase.shape"
      ],
      "execution_count": 0,
      "outputs": []
    }
  ]
}