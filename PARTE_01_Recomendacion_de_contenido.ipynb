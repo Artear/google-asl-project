{
  "nbformat": 4,
  "nbformat_minor": 0,
  "metadata": {
    "colab": {
      "name": "PARTE 01 - Recomendacion de contenido.ipynb",
      "version": "0.3.2",
      "provenance": [],
      "collapsed_sections": [],
      "include_colab_link": true
    },
    "kernelspec": {
      "name": "python3",
      "display_name": "Python 3"
    },
    "accelerator": "TPU"
  },
  "cells": [
    {
      "cell_type": "markdown",
      "metadata": {
        "id": "view-in-github",
        "colab_type": "text"
      },
      "source": [
        "<a href=\"https://colab.research.google.com/github/marianoogimenez/google-asl-project/blob/master/PARTE_01_Recomendacion_de_contenido.ipynb\" target=\"_parent\"><img src=\"https://colab.research.google.com/assets/colab-badge.svg\" alt=\"Open In Colab\"/></a>"
      ]
    },
    {
      "metadata": {
        "id": "FUFcw6qiQK3m",
        "colab_type": "code",
        "colab": {}
      },
      "cell_type": "code",
      "source": [
        "import pandas as pd\n",
        "import numpy as np\n",
        "import re\n",
        "import nltk\n",
        "import string\n",
        "import pandas as pd\n",
        "import gensim\n",
        "from nltk import SnowballStemmer"
      ],
      "execution_count": 0,
      "outputs": []
    },
    {
      "metadata": {
        "id": "LgFtvO_yQYJp",
        "colab_type": "code",
        "colab": {}
      },
      "cell_type": "code",
      "source": [
        "PROJECT = 'qwiklabs-gcp-4a684069c4776675'\n",
        "BUCKET = 'bucket_leo'\n",
        "REGION = 'us-central1'"
      ],
      "execution_count": 0,
      "outputs": []
    },
    {
      "metadata": {
        "id": "5MgqY497QbFk",
        "colab_type": "code",
        "colab": {}
      },
      "cell_type": "code",
      "source": [
        "import tensorflow as tf\n",
        "from google.cloud import bigquery\n",
        "from google.colab import auth"
      ],
      "execution_count": 0,
      "outputs": []
    },
    {
      "metadata": {
        "id": "mQ8a4l-_MlXZ",
        "colab_type": "text"
      },
      "cell_type": "markdown",
      "source": [
        "### PARTE 01\n"
      ]
    },
    {
      "metadata": {
        "id": "q9OqCe_3Qdir",
        "colab_type": "code",
        "outputId": "827d9f99-d2fb-4f59-c0ca-87a36734bfd8",
        "colab": {
          "base_uri": "https://localhost:8080/",
          "height": 136
        }
      },
      "cell_type": "code",
      "source": [
        "auth.authenticate_user()"
      ],
      "execution_count": 5,
      "outputs": [
        {
          "output_type": "stream",
          "text": [
            "\n",
            "WARNING: The TensorFlow contrib module will not be included in TensorFlow 2.0.\n",
            "For more information, please see:\n",
            "  * https://github.com/tensorflow/community/blob/master/rfcs/20180907-contrib-sunset.md\n",
            "  * https://github.com/tensorflow/addons\n",
            "If you depend on functionality not listed there, please file an issue.\n",
            "\n"
          ],
          "name": "stdout"
        }
      ]
    },
    {
      "metadata": {
        "id": "SPRE-sdSQheD",
        "colab_type": "code",
        "outputId": "62497c85-2349-4d06-f8ca-5b3b584f0b52",
        "colab": {
          "base_uri": "https://localhost:8080/",
          "height": 289
        }
      },
      "cell_type": "code",
      "source": [
        "client = bigquery.Client(project=PROJECT)\n",
        "sql = \"\"\"\n",
        "SELECT * FROM AGEA_ASL.Dataset_A\n",
        "\"\"\"\n",
        "client.query(sql).to_dataframe().head()"
      ],
      "execution_count": 6,
      "outputs": [
        {
          "output_type": "execute_result",
          "data": {
            "text/html": [
              "<div>\n",
              "<style scoped>\n",
              "    .dataframe tbody tr th:only-of-type {\n",
              "        vertical-align: middle;\n",
              "    }\n",
              "\n",
              "    .dataframe tbody tr th {\n",
              "        vertical-align: top;\n",
              "    }\n",
              "\n",
              "    .dataframe thead th {\n",
              "        text-align: right;\n",
              "    }\n",
              "</style>\n",
              "<table border=\"1\" class=\"dataframe\">\n",
              "  <thead>\n",
              "    <tr style=\"text-align: right;\">\n",
              "      <th></th>\n",
              "      <th>content_id</th>\n",
              "      <th>title</th>\n",
              "      <th>day</th>\n",
              "      <th>section_1</th>\n",
              "      <th>section_2</th>\n",
              "      <th>section_3</th>\n",
              "      <th>tag_1</th>\n",
              "      <th>tag_2</th>\n",
              "      <th>tag_3</th>\n",
              "      <th>tag_4</th>\n",
              "      <th>body</th>\n",
              "    </tr>\n",
              "  </thead>\n",
              "  <tbody>\n",
              "    <tr>\n",
              "      <th>0</th>\n",
              "      <td>guHYkGEpg</td>\n",
              "      <td>Construyeron una casa ecológica que genera has...</td>\n",
              "      <td>2018-11-29</td>\n",
              "      <td>ARQ</td>\n",
              "      <td>-2</td>\n",
              "      <td>-2</td>\n",
              "      <td>casa</td>\n",
              "      <td>sustentabilidad</td>\n",
              "      <td>Arquitectura</td>\n",
              "      <td>-2</td>\n",
              "      <td>la sustentabilidad es el foco de la casa que p...</td>\n",
              "    </tr>\n",
              "    <tr>\n",
              "      <th>1</th>\n",
              "      <td>YzJkrHyK8</td>\n",
              "      <td>Un reconocido urbanista, contra los autos autó...</td>\n",
              "      <td>2018-11-20</td>\n",
              "      <td>ARQ</td>\n",
              "      <td>-2</td>\n",
              "      <td>-2</td>\n",
              "      <td>Autos</td>\n",
              "      <td>-2</td>\n",
              "      <td>-2</td>\n",
              "      <td>-2</td>\n",
              "      <td>por john marcoff periodista de the new york ti...</td>\n",
              "    </tr>\n",
              "    <tr>\n",
              "      <th>2</th>\n",
              "      <td>jGo7Wm_-Q</td>\n",
              "      <td>Construyen un hotel 5 estrellas dentro de una ...</td>\n",
              "      <td>2018-12-04</td>\n",
              "      <td>ARQ</td>\n",
              "      <td>-2</td>\n",
              "      <td>-2</td>\n",
              "      <td>China</td>\n",
              "      <td>Shanghai</td>\n",
              "      <td>-2</td>\n",
              "      <td>-2</td>\n",
              "      <td>un hotel de lujo construido en el foso de una ...</td>\n",
              "    </tr>\n",
              "    <tr>\n",
              "      <th>3</th>\n",
              "      <td>fPdLtrf_q</td>\n",
              "      <td>Iban a inaugurar el mejor puente de Sudamérica...</td>\n",
              "      <td>2018-11-07</td>\n",
              "      <td>ARQ</td>\n",
              "      <td>-2</td>\n",
              "      <td>-2</td>\n",
              "      <td>Viste</td>\n",
              "      <td>Colombia</td>\n",
              "      <td>-2</td>\n",
              "      <td>-2</td>\n",
              "      <td>un nuevo error en una obra de ingeniería reabr...</td>\n",
              "    </tr>\n",
              "    <tr>\n",
              "      <th>4</th>\n",
              "      <td>MoqDKLXvL</td>\n",
              "      <td>Cortinas de papel, una nueva tendencia que apo...</td>\n",
              "      <td>2018-10-20</td>\n",
              "      <td>ARQ</td>\n",
              "      <td>-2</td>\n",
              "      <td>-2</td>\n",
              "      <td>Diseño</td>\n",
              "      <td>Decoración</td>\n",
              "      <td>-2</td>\n",
              "      <td>-2</td>\n",
              "      <td>lleva años lleva años investigando sobre la ca...</td>\n",
              "    </tr>\n",
              "  </tbody>\n",
              "</table>\n",
              "</div>"
            ],
            "text/plain": [
              "  content_id                                              title         day  \\\n",
              "0  guHYkGEpg  Construyeron una casa ecológica que genera has...  2018-11-29   \n",
              "1  YzJkrHyK8  Un reconocido urbanista, contra los autos autó...  2018-11-20   \n",
              "2  jGo7Wm_-Q  Construyen un hotel 5 estrellas dentro de una ...  2018-12-04   \n",
              "3  fPdLtrf_q  Iban a inaugurar el mejor puente de Sudamérica...  2018-11-07   \n",
              "4  MoqDKLXvL  Cortinas de papel, una nueva tendencia que apo...  2018-10-20   \n",
              "\n",
              "  section_1 section_2 section_3   tag_1            tag_2         tag_3 tag_4  \\\n",
              "0       ARQ        -2        -2    casa  sustentabilidad  Arquitectura    -2   \n",
              "1       ARQ        -2        -2   Autos               -2            -2    -2   \n",
              "2       ARQ        -2        -2   China         Shanghai            -2    -2   \n",
              "3       ARQ        -2        -2   Viste         Colombia            -2    -2   \n",
              "4       ARQ        -2        -2  Diseño       Decoración            -2    -2   \n",
              "\n",
              "                                                body  \n",
              "0  la sustentabilidad es el foco de la casa que p...  \n",
              "1  por john marcoff periodista de the new york ti...  \n",
              "2  un hotel de lujo construido en el foso de una ...  \n",
              "3  un nuevo error en una obra de ingeniería reabr...  \n",
              "4  lleva años lleva años investigando sobre la ca...  "
            ]
          },
          "metadata": {
            "tags": []
          },
          "execution_count": 6
        }
      ]
    },
    {
      "metadata": {
        "id": "Q41ruwePQrc_",
        "colab_type": "code",
        "colab": {}
      },
      "cell_type": "code",
      "source": [
        "df = client.query(sql).to_dataframe()"
      ],
      "execution_count": 0,
      "outputs": []
    },
    {
      "metadata": {
        "id": "0YmrhqB1Q8j_",
        "colab_type": "code",
        "outputId": "5164a4ae-b60e-4a4b-de34-a5238d6b8900",
        "colab": {
          "base_uri": "https://localhost:8080/",
          "height": 289
        }
      },
      "cell_type": "code",
      "source": [
        "df.head()"
      ],
      "execution_count": 0,
      "outputs": [
        {
          "output_type": "execute_result",
          "data": {
            "text/html": [
              "<div>\n",
              "<style scoped>\n",
              "    .dataframe tbody tr th:only-of-type {\n",
              "        vertical-align: middle;\n",
              "    }\n",
              "\n",
              "    .dataframe tbody tr th {\n",
              "        vertical-align: top;\n",
              "    }\n",
              "\n",
              "    .dataframe thead th {\n",
              "        text-align: right;\n",
              "    }\n",
              "</style>\n",
              "<table border=\"1\" class=\"dataframe\">\n",
              "  <thead>\n",
              "    <tr style=\"text-align: right;\">\n",
              "      <th></th>\n",
              "      <th>content_id</th>\n",
              "      <th>title</th>\n",
              "      <th>day</th>\n",
              "      <th>section_1</th>\n",
              "      <th>section_2</th>\n",
              "      <th>section_3</th>\n",
              "      <th>tag_1</th>\n",
              "      <th>tag_2</th>\n",
              "      <th>tag_3</th>\n",
              "      <th>tag_4</th>\n",
              "      <th>body</th>\n",
              "    </tr>\n",
              "  </thead>\n",
              "  <tbody>\n",
              "    <tr>\n",
              "      <th>0</th>\n",
              "      <td>guHYkGEpg</td>\n",
              "      <td>Construyeron una casa ecológica que genera has...</td>\n",
              "      <td>2018-11-29</td>\n",
              "      <td>ARQ</td>\n",
              "      <td>-2</td>\n",
              "      <td>-2</td>\n",
              "      <td>casa</td>\n",
              "      <td>sustentabilidad</td>\n",
              "      <td>Arquitectura</td>\n",
              "      <td>-2</td>\n",
              "      <td>la sustentabilidad es el foco de la casa que p...</td>\n",
              "    </tr>\n",
              "    <tr>\n",
              "      <th>1</th>\n",
              "      <td>YzJkrHyK8</td>\n",
              "      <td>Un reconocido urbanista, contra los autos autó...</td>\n",
              "      <td>2018-11-20</td>\n",
              "      <td>ARQ</td>\n",
              "      <td>-2</td>\n",
              "      <td>-2</td>\n",
              "      <td>Autos</td>\n",
              "      <td>-2</td>\n",
              "      <td>-2</td>\n",
              "      <td>-2</td>\n",
              "      <td>por john marcoff periodista de the new york ti...</td>\n",
              "    </tr>\n",
              "    <tr>\n",
              "      <th>2</th>\n",
              "      <td>jGo7Wm_-Q</td>\n",
              "      <td>Construyen un hotel 5 estrellas dentro de una ...</td>\n",
              "      <td>2018-12-04</td>\n",
              "      <td>ARQ</td>\n",
              "      <td>-2</td>\n",
              "      <td>-2</td>\n",
              "      <td>China</td>\n",
              "      <td>Shanghai</td>\n",
              "      <td>-2</td>\n",
              "      <td>-2</td>\n",
              "      <td>un hotel de lujo construido en el foso de una ...</td>\n",
              "    </tr>\n",
              "    <tr>\n",
              "      <th>3</th>\n",
              "      <td>fPdLtrf_q</td>\n",
              "      <td>Iban a inaugurar el mejor puente de Sudamérica...</td>\n",
              "      <td>2018-11-07</td>\n",
              "      <td>ARQ</td>\n",
              "      <td>-2</td>\n",
              "      <td>-2</td>\n",
              "      <td>Viste</td>\n",
              "      <td>Colombia</td>\n",
              "      <td>-2</td>\n",
              "      <td>-2</td>\n",
              "      <td>un nuevo error en una obra de ingeniería reabr...</td>\n",
              "    </tr>\n",
              "    <tr>\n",
              "      <th>4</th>\n",
              "      <td>MoqDKLXvL</td>\n",
              "      <td>Cortinas de papel, una nueva tendencia que apo...</td>\n",
              "      <td>2018-10-20</td>\n",
              "      <td>ARQ</td>\n",
              "      <td>-2</td>\n",
              "      <td>-2</td>\n",
              "      <td>Diseño</td>\n",
              "      <td>Decoración</td>\n",
              "      <td>-2</td>\n",
              "      <td>-2</td>\n",
              "      <td>lleva años lleva años investigando sobre la ca...</td>\n",
              "    </tr>\n",
              "  </tbody>\n",
              "</table>\n",
              "</div>"
            ],
            "text/plain": [
              "  content_id                                              title         day  \\\n",
              "0  guHYkGEpg  Construyeron una casa ecológica que genera has...  2018-11-29   \n",
              "1  YzJkrHyK8  Un reconocido urbanista, contra los autos autó...  2018-11-20   \n",
              "2  jGo7Wm_-Q  Construyen un hotel 5 estrellas dentro de una ...  2018-12-04   \n",
              "3  fPdLtrf_q  Iban a inaugurar el mejor puente de Sudamérica...  2018-11-07   \n",
              "4  MoqDKLXvL  Cortinas de papel, una nueva tendencia que apo...  2018-10-20   \n",
              "\n",
              "  section_1 section_2 section_3   tag_1            tag_2         tag_3 tag_4  \\\n",
              "0       ARQ        -2        -2    casa  sustentabilidad  Arquitectura    -2   \n",
              "1       ARQ        -2        -2   Autos               -2            -2    -2   \n",
              "2       ARQ        -2        -2   China         Shanghai            -2    -2   \n",
              "3       ARQ        -2        -2   Viste         Colombia            -2    -2   \n",
              "4       ARQ        -2        -2  Diseño       Decoración            -2    -2   \n",
              "\n",
              "                                                body  \n",
              "0  la sustentabilidad es el foco de la casa que p...  \n",
              "1  por john marcoff periodista de the new york ti...  \n",
              "2  un hotel de lujo construido en el foso de una ...  \n",
              "3  un nuevo error en una obra de ingeniería reabr...  \n",
              "4  lleva años lleva años investigando sobre la ca...  "
            ]
          },
          "metadata": {
            "tags": []
          },
          "execution_count": 7
        }
      ]
    },
    {
      "metadata": {
        "id": "zeqMSdNMWsH7",
        "colab_type": "code",
        "colab": {}
      },
      "cell_type": "code",
      "source": [
        "# Parto del dataset A. Limpio las notas, las tokenizo y les saco las stopwords\n",
        "\n",
        "def limpiador_cuerpo(x):\n",
        "    x= x.strip()\n",
        "    x= x.lower()\n",
        "    x= re.sub(\"&#xe1;\",\"á\",x)\n",
        "    x= re.sub(\"&#xe9;\",\"é\",x)\n",
        "    x= re.sub(\"&#xed;\",\"í\",x)\n",
        "    x= re.sub(\"&#xf3;\",\"ó\",x)\n",
        "    x= re.sub(\"&#xfa;\",\"ú\",x)\n",
        "    x= re.sub('<.*?>', '',x)\n",
        "    x= re.sub(pattern=\"&quot;\",repl=\"\",string=x)\n",
        "    x= re.sub(\"&.*?;\",\" \",x)\n",
        "    x= re.sub(pattern=\"[^a-zA-Záéíóúñ \\n]\",repl=\"\",string=x)\n",
        "    return x\n",
        "\n",
        "def sacar_stop(tokens,idioma=\"spanish\",min_len = 3,stemizar= False):\n",
        "    stopwords = nltk.corpus.stopwords.words(idioma)\n",
        "    tok_filt = [token for token in tokens if token not in stopwords and len(token)>=min_len]\n",
        "    #tok_filt = [token for token in tok_filt if token not in nltk.corpus.stopwords.words(\"english\")]\n",
        "    if stemizar:\n",
        "        tok_filt = [self.stem.stem(token) for token in tok_filt]\n",
        "    return tok_filt"
      ],
      "execution_count": 0,
      "outputs": []
    },
    {
      "metadata": {
        "id": "sRbLn9D1Wz9y",
        "colab_type": "code",
        "colab": {}
      },
      "cell_type": "code",
      "source": [
        "notas_tokenizadas = [sacar_stop(limpiador_cuerpo(x).split(\" \")) for x in df.body_raw]"
      ],
      "execution_count": 0,
      "outputs": []
    },
    {
      "metadata": {
        "id": "73RUd8s3W3_V",
        "colab_type": "code",
        "colab": {}
      },
      "cell_type": "code",
      "source": [
        "# Vectorizo cada nota usando d2v\n",
        "\n",
        "d2v = gensim.models.doc2vec.Doc2Vec.load(\"C:\\\\Users\\\\ldalera.AGEA\\\\Documents\\\\Google\\\\Recomendacion\\\\Codigos\\\\d2v.model\") ## levanto el doc2vec entrenado con casi medio palo de notas\n"
      ],
      "execution_count": 0,
      "outputs": []
    },
    {
      "metadata": {
        "id": "kw7gRunJaX77",
        "colab_type": "code",
        "colab": {}
      },
      "cell_type": "code",
      "source": [
        "ans = []\n",
        "for nota in notas_tokenizadas:\n",
        "    ans.append(d2v.infer_vector(nota))\n",
        "notas_vec = np.array(ans)\n",
        "np.savetxt(X=notas_vec,fname=\"notas_datasetA_vectoriz.txt\")"
      ],
      "execution_count": 0,
      "outputs": []
    },
    {
      "metadata": {
        "id": "peQ9c7lXaZvC",
        "colab_type": "code",
        "colab": {}
      },
      "cell_type": "code",
      "source": [
        "Borrar = pd.DataFrame(notas_vec)\n",
        "borrar.head()"
      ],
      "execution_count": 0,
      "outputs": []
    }
  ]
}